{
 "cells": [
  {
   "cell_type": "code",
   "execution_count": 1,
   "metadata": {},
   "outputs": [],
   "source": [
    "from tensorflow.keras.models import Sequential\n",
    "from tensorflow.keras.layers import Dense, Dropout, Flatten\n",
    "from tensorflow.keras.layers import Conv2D\n",
    "from tensorflow.keras.optimizers import Adam\n",
    "from tensorflow.keras.layers import MaxPooling2D\n",
    "from tensorflow.keras.preprocessing.image import ImageDataGenerator\n",
    "import matplotlib.pyplot as plt\n",
    "from tensorflow.keras import regularizers\n",
    "from tensorflow.keras.callbacks import ModelCheckpoint ,TensorBoard, EarlyStopping\n",
    "import tensorflow as tf\n",
    "import datetime, IPython\n",
    "import numpy as np\n",
    "import os\n"
   ]
  },
  {
   "cell_type": "code",
   "execution_count": 2,
   "metadata": {},
   "outputs": [
    {
     "name": "stdout",
     "output_type": "stream",
     "text": [
      "True\n",
      "[PhysicalDevice(name='/physical_device:GPU:0', device_type='GPU')]\n"
     ]
    }
   ],
   "source": [
    "\n",
    "config=tf.compat.v1.ConfigProto()\n",
    "config.gpu_options.allow_growth = True\n",
    "sess=tf.compat.v1.Session(config=config)\n",
    "print(tf.test.is_built_with_cuda())\n",
    "print(tf.config.list_physical_devices('GPU')) \n"
   ]
  },
  {
   "cell_type": "code",
   "execution_count": 3,
   "metadata": {},
   "outputs": [],
   "source": [
    "def stop_cuda():\n",
    "    from numba import cuda \n",
    "    device = cuda.get_current_device()\n",
    "    device.reset()"
   ]
  },
  {
   "cell_type": "code",
   "execution_count": 4,
   "metadata": {},
   "outputs": [],
   "source": [
    "path = os.getcwd()"
   ]
  },
  {
   "cell_type": "code",
   "execution_count": 5,
   "metadata": {},
   "outputs": [
    {
     "name": "stdout",
     "output_type": "stream",
     "text": [
      "Train :  d:\\project\\project/dataset/FacialExpression-Dataset/Train\n",
      "Val :  d:\\project\\project/dataset/FacialExpression-Dataset/Test\n"
     ]
    }
   ],
   "source": [
    "#train_dir = '/home/jidesh/ML/CNN/Facial-expression/data/train'\n",
    "train_dir = path+'/dataset/FacialExpression-Dataset/Train'\n",
    "val_dir = path+'/dataset/FacialExpression-Dataset/Test'\n",
    "\n",
    "checkpoint_losspath = path+'/Checkpoints/checkpoints_loss/Model-epoch_{epoch:02d}--val_loss_{val_loss:.2f}'\n",
    "checkpoint_accpath = path+'/Checkpoints/checkpoints_acc/Model-epoch_{epoch:02d}--val_categorical_accuracy_{val_categorical_accuracy:.2f}'\n",
    "\n",
    "\n",
    "train_datagen = ImageDataGenerator(rescale=1./255)\n",
    "val_datagen = ImageDataGenerator(rescale=1./255)\n",
    "batch_size = 64\n",
    "img_width = 48\n",
    "img_height = 48\n",
    "\n",
    "print(\"Train : \",train_dir)\n",
    "print(\"Val : \",val_dir)"
   ]
  },
  {
   "cell_type": "code",
   "execution_count": 6,
   "metadata": {},
   "outputs": [
    {
     "name": "stdout",
     "output_type": "stream",
     "text": [
      "Found 76577 images belonging to 7 classes.\n",
      "Found 7178 images belonging to 7 classes.\n"
     ]
    }
   ],
   "source": [
    "train_generator = train_datagen.flow_from_directory(\n",
    "        train_dir,\n",
    "        target_size=(img_width,img_height),\n",
    "        batch_size=batch_size,\n",
    "        color_mode=\"grayscale\",\n",
    "        class_mode='categorical')\n",
    "\n",
    "validation_generator = val_datagen.flow_from_directory(\n",
    "        val_dir,\n",
    "        target_size=(img_width,img_height),\n",
    "        batch_size=batch_size,\n",
    "        color_mode=\"grayscale\",\n",
    "        class_mode='categorical')\n"
   ]
  },
  {
   "cell_type": "code",
   "execution_count": 7,
   "metadata": {},
   "outputs": [
    {
     "name": "stdout",
     "output_type": "stream",
     "text": [
      "Train set size : 76577 class : {'angry': 0, 'disgust': 1, 'fear': 2, 'happy': 3, 'neutral': 4, 'sad': 5, 'surprise': 6} no.of : 7\n",
      "validate set size : 7178 class : {'angry': 0, 'disgust': 1, 'fear': 2, 'happy': 3, 'neutral': 4, 'sad': 5, 'surprise': 6} no.of : 7\n"
     ]
    }
   ],
   "source": [
    "print(\"Train set size : {} class : {} no.of : {}\".format(train_generator.samples,train_generator.class_indices,train_generator.num_classes))\n",
    "train_sample_size = train_generator.samples\n",
    "validation_sample_size = validation_generator.samples\n",
    "print(\"validate set size : {} class : {} no.of : {}\".format(validation_generator.samples,validation_generator.class_indices,validation_generator.num_classes))"
   ]
  },
  {
   "cell_type": "code",
   "execution_count": 8,
   "metadata": {},
   "outputs": [],
   "source": [
    "emotion_model = Sequential()\n",
    " \n",
    "emotion_model.add(Conv2D(32, kernel_size=(3, 3), activation='relu', padding='same',input_shape=(img_height,img_width,1)))\n",
    "emotion_model.add(Conv2D(64, kernel_size=(3, 3), activation='relu', padding='same'))\n",
    "emotion_model.add(MaxPooling2D(pool_size=(2, 2)))\n",
    "emotion_model.add(Dropout(0.3))\n",
    " \n",
    "emotion_model.add(Conv2D(128, kernel_size=(3, 3), activation='relu', padding='same'))\n",
    "emotion_model.add(MaxPooling2D(pool_size=(2, 2)))\n",
    "emotion_model.add(Conv2D(512, kernel_size=(3, 3), activation='relu', padding='same'))\n",
    "emotion_model.add(MaxPooling2D(pool_size=(2, 2)))\n",
    "emotion_model.add(Dropout(0.3))\n",
    "\n",
    "\n",
    "emotion_model.add(Conv2D(256, kernel_size=(3, 3), activation='relu', padding='same'))\n",
    "\n",
    "emotion_model.add(MaxPooling2D(pool_size=(2, 2)))\n",
    "emotion_model.add(Dropout(0.3))\n",
    " \n",
    "emotion_model.add(Flatten())\n",
    "emotion_model.add(Dense(1024, activation='relu'))\n",
    "emotion_model.add(Dropout(0.5))\n",
    "emotion_model.add(Dense(train_generator.num_classes, activation='softmax'))\n",
    "################################################################################\n",
    "#emotion_model.load_weights(path+'/Models/emotion-reg-weight-0.8510841131210327.h5')"
   ]
  },
  {
   "cell_type": "code",
   "execution_count": 9,
   "metadata": {},
   "outputs": [
    {
     "name": "stdout",
     "output_type": "stream",
     "text": [
      "{'angry': 0, 'disgust': 1, 'fear': 2, 'happy': 3, 'neutral': 4, 'sad': 5, 'surprise': 6}\n",
      "{0: 'angry', 1: 'disgust', 2: 'fear', 3: 'happy', 4: 'neutral', 5: 'sad', 6: 'surprise'}\n"
     ]
    }
   ],
   "source": [
    "emotion_dict = train_generator.class_indices\n",
    "print(emotion_dict)\n",
    "#swapping key and values in dictionary\n",
    "emotion_dict={value:key for key, value in emotion_dict.items()}\n",
    "print(emotion_dict)"
   ]
  },
  {
   "cell_type": "code",
   "execution_count": 10,
   "metadata": {},
   "outputs": [],
   "source": [
    "checkpoint_loss = ModelCheckpoint(\n",
    "    filepath=checkpoint_losspath,\n",
    "    save_best_only=True,\n",
    "    monitor='val_loss',\n",
    "    mode='min',\n",
    "    verbose =1\n",
    ")\n",
    "checkpoint_acc = ModelCheckpoint(\n",
    "    filepath=checkpoint_accpath,\n",
    "    save_best_only=True,\n",
    "    monitor='val_categorical_accuracy',\n",
    "    mode='max',\n",
    "    verbose =1\n",
    ")\n",
    "earlystop = EarlyStopping(monitor='val_loss', patience=20,mode='min')\n",
    "#Tensorboard\n",
    "time1 = (datetime.datetime.now() ).strftime('%c')\n",
    "time1 = time1.replace(':','_')\n",
    "#time1 = time1.replace(' ','_')\n",
    "tensorboard = TensorBoard(path+'/Tensorboard/'+time1)\n",
    "callback = [checkpoint_loss,checkpoint_acc,tensorboard,earlystop]"
   ]
  },
  {
   "cell_type": "markdown",
   "metadata": {},
   "source": [
    "--------------------------------------------------------------------------------------------------------------------------------------------------"
   ]
  },
  {
   "cell_type": "markdown",
   "metadata": {},
   "source": [
    "**Adam Optimizer**"
   ]
  },
  {
   "cell_type": "code",
   "execution_count": 11,
   "metadata": {},
   "outputs": [
    {
     "name": "stdout",
     "output_type": "stream",
     "text": [
      "Model: \"sequential\"\n",
      "_________________________________________________________________\n",
      "Layer (type)                 Output Shape              Param #   \n",
      "=================================================================\n",
      "conv2d (Conv2D)              (None, 48, 48, 32)        320       \n",
      "_________________________________________________________________\n",
      "conv2d_1 (Conv2D)            (None, 48, 48, 64)        18496     \n",
      "_________________________________________________________________\n",
      "max_pooling2d (MaxPooling2D) (None, 24, 24, 64)        0         \n",
      "_________________________________________________________________\n",
      "dropout (Dropout)            (None, 24, 24, 64)        0         \n",
      "_________________________________________________________________\n",
      "conv2d_2 (Conv2D)            (None, 24, 24, 128)       73856     \n",
      "_________________________________________________________________\n",
      "max_pooling2d_1 (MaxPooling2 (None, 12, 12, 128)       0         \n",
      "_________________________________________________________________\n",
      "conv2d_3 (Conv2D)            (None, 12, 12, 512)       590336    \n",
      "_________________________________________________________________\n",
      "max_pooling2d_2 (MaxPooling2 (None, 6, 6, 512)         0         \n",
      "_________________________________________________________________\n",
      "dropout_1 (Dropout)          (None, 6, 6, 512)         0         \n",
      "_________________________________________________________________\n",
      "conv2d_4 (Conv2D)            (None, 6, 6, 256)         1179904   \n",
      "_________________________________________________________________\n",
      "max_pooling2d_3 (MaxPooling2 (None, 3, 3, 256)         0         \n",
      "_________________________________________________________________\n",
      "dropout_2 (Dropout)          (None, 3, 3, 256)         0         \n",
      "_________________________________________________________________\n",
      "flatten (Flatten)            (None, 2304)              0         \n",
      "_________________________________________________________________\n",
      "dense (Dense)                (None, 1024)              2360320   \n",
      "_________________________________________________________________\n",
      "dropout_3 (Dropout)          (None, 1024)              0         \n",
      "_________________________________________________________________\n",
      "dense_1 (Dense)              (None, 7)                 7175      \n",
      "=================================================================\n",
      "Total params: 4,230,407\n",
      "Trainable params: 4,230,407\n",
      "Non-trainable params: 0\n",
      "_________________________________________________________________\n"
     ]
    }
   ],
   "source": [
    "emotion_model.compile(loss='categorical_crossentropy',optimizer=Adam(learning_rate=0.001),metrics=['categorical_accuracy'])\n",
    "emotion_model.summary()"
   ]
  },
  {
   "cell_type": "code",
   "execution_count": 12,
   "metadata": {},
   "outputs": [
    {
     "name": "stdout",
     "output_type": "stream",
     "text": [
      "Epoch 1/100\n",
      "1196/1196 [==============================] - 52s 40ms/step - loss: 1.7642 - categorical_accuracy: 0.2986 - val_loss: 1.4081 - val_categorical_accuracy: 0.4636\n",
      "\n",
      "Epoch 00001: val_loss improved from inf to 1.40808, saving model to d:\\project\\project/Checkpoints/checkpoints_loss\\Model-epoch_01--val_loss_1.41\n",
      "INFO:tensorflow:Assets written to: d:\\project\\project/Checkpoints/checkpoints_loss\\Model-epoch_01--val_loss_1.41\\assets\n",
      "\n",
      "Epoch 00001: val_categorical_accuracy improved from -inf to 0.46359, saving model to d:\\project\\project/Checkpoints/checkpoints_acc\\Model-epoch_01--val_categorical_accuracy_0.46\n",
      "INFO:tensorflow:Assets written to: d:\\project\\project/Checkpoints/checkpoints_acc\\Model-epoch_01--val_categorical_accuracy_0.46\\assets\n",
      "Epoch 2/100\n",
      "1196/1196 [==============================] - 46s 39ms/step - loss: 1.3220 - categorical_accuracy: 0.4998 - val_loss: 1.2204 - val_categorical_accuracy: 0.5311\n",
      "\n",
      "Epoch 00002: val_loss improved from 1.40808 to 1.22036, saving model to d:\\project\\project/Checkpoints/checkpoints_loss\\Model-epoch_02--val_loss_1.22\n",
      "INFO:tensorflow:Assets written to: d:\\project\\project/Checkpoints/checkpoints_loss\\Model-epoch_02--val_loss_1.22\\assets\n",
      "\n",
      "Epoch 00002: val_categorical_accuracy improved from 0.46359 to 0.53111, saving model to d:\\project\\project/Checkpoints/checkpoints_acc\\Model-epoch_02--val_categorical_accuracy_0.53\n",
      "INFO:tensorflow:Assets written to: d:\\project\\project/Checkpoints/checkpoints_acc\\Model-epoch_02--val_categorical_accuracy_0.53\\assets\n",
      "Epoch 3/100\n",
      "1196/1196 [==============================] - 47s 39ms/step - loss: 1.1806 - categorical_accuracy: 0.5582 - val_loss: 1.1444 - val_categorical_accuracy: 0.5678\n",
      "\n",
      "Epoch 00003: val_loss improved from 1.22036 to 1.14436, saving model to d:\\project\\project/Checkpoints/checkpoints_loss\\Model-epoch_03--val_loss_1.14\n",
      "INFO:tensorflow:Assets written to: d:\\project\\project/Checkpoints/checkpoints_loss\\Model-epoch_03--val_loss_1.14\\assets\n",
      "\n",
      "Epoch 00003: val_categorical_accuracy improved from 0.53111 to 0.56780, saving model to d:\\project\\project/Checkpoints/checkpoints_acc\\Model-epoch_03--val_categorical_accuracy_0.57\n",
      "INFO:tensorflow:Assets written to: d:\\project\\project/Checkpoints/checkpoints_acc\\Model-epoch_03--val_categorical_accuracy_0.57\\assets\n",
      "Epoch 4/100\n",
      "1196/1196 [==============================] - 46s 39ms/step - loss: 1.0978 - categorical_accuracy: 0.5898 - val_loss: 1.1217 - val_categorical_accuracy: 0.5802\n",
      "\n",
      "Epoch 00004: val_loss improved from 1.14436 to 1.12169, saving model to d:\\project\\project/Checkpoints/checkpoints_loss\\Model-epoch_04--val_loss_1.12\n",
      "INFO:tensorflow:Assets written to: d:\\project\\project/Checkpoints/checkpoints_loss\\Model-epoch_04--val_loss_1.12\\assets\n",
      "\n",
      "Epoch 00004: val_categorical_accuracy improved from 0.56780 to 0.58022, saving model to d:\\project\\project/Checkpoints/checkpoints_acc\\Model-epoch_04--val_categorical_accuracy_0.58\n",
      "INFO:tensorflow:Assets written to: d:\\project\\project/Checkpoints/checkpoints_acc\\Model-epoch_04--val_categorical_accuracy_0.58\\assets\n",
      "Epoch 5/100\n",
      "1196/1196 [==============================] - 46s 39ms/step - loss: 1.0378 - categorical_accuracy: 0.6121 - val_loss: 1.0744 - val_categorical_accuracy: 0.5979\n",
      "\n",
      "Epoch 00005: val_loss improved from 1.12169 to 1.07441, saving model to d:\\project\\project/Checkpoints/checkpoints_loss\\Model-epoch_05--val_loss_1.07\n",
      "INFO:tensorflow:Assets written to: d:\\project\\project/Checkpoints/checkpoints_loss\\Model-epoch_05--val_loss_1.07\\assets\n",
      "\n",
      "Epoch 00005: val_categorical_accuracy improved from 0.58022 to 0.59794, saving model to d:\\project\\project/Checkpoints/checkpoints_acc\\Model-epoch_05--val_categorical_accuracy_0.60\n",
      "INFO:tensorflow:Assets written to: d:\\project\\project/Checkpoints/checkpoints_acc\\Model-epoch_05--val_categorical_accuracy_0.60\\assets\n",
      "Epoch 6/100\n",
      "1196/1196 [==============================] - 46s 39ms/step - loss: 0.9953 - categorical_accuracy: 0.6287 - val_loss: 1.0352 - val_categorical_accuracy: 0.6140\n",
      "\n",
      "Epoch 00006: val_loss improved from 1.07441 to 1.03519, saving model to d:\\project\\project/Checkpoints/checkpoints_loss\\Model-epoch_06--val_loss_1.04\n",
      "INFO:tensorflow:Assets written to: d:\\project\\project/Checkpoints/checkpoints_loss\\Model-epoch_06--val_loss_1.04\\assets\n",
      "\n",
      "Epoch 00006: val_categorical_accuracy improved from 0.59794 to 0.61398, saving model to d:\\project\\project/Checkpoints/checkpoints_acc\\Model-epoch_06--val_categorical_accuracy_0.61\n",
      "INFO:tensorflow:Assets written to: d:\\project\\project/Checkpoints/checkpoints_acc\\Model-epoch_06--val_categorical_accuracy_0.61\\assets\n",
      "Epoch 7/100\n",
      "1196/1196 [==============================] - 46s 39ms/step - loss: 0.9597 - categorical_accuracy: 0.6434 - val_loss: 0.9763 - val_categorical_accuracy: 0.6403\n",
      "\n",
      "Epoch 00007: val_loss improved from 1.03519 to 0.97626, saving model to d:\\project\\project/Checkpoints/checkpoints_loss\\Model-epoch_07--val_loss_0.98\n",
      "INFO:tensorflow:Assets written to: d:\\project\\project/Checkpoints/checkpoints_loss\\Model-epoch_07--val_loss_0.98\\assets\n",
      "\n",
      "Epoch 00007: val_categorical_accuracy improved from 0.61398 to 0.64035, saving model to d:\\project\\project/Checkpoints/checkpoints_acc\\Model-epoch_07--val_categorical_accuracy_0.64\n",
      "INFO:tensorflow:Assets written to: d:\\project\\project/Checkpoints/checkpoints_acc\\Model-epoch_07--val_categorical_accuracy_0.64\\assets\n",
      "Epoch 8/100\n",
      "1196/1196 [==============================] - 46s 39ms/step - loss: 0.9317 - categorical_accuracy: 0.6515 - val_loss: 0.9643 - val_categorical_accuracy: 0.6394\n",
      "\n",
      "Epoch 00008: val_loss improved from 0.97626 to 0.96428, saving model to d:\\project\\project/Checkpoints/checkpoints_loss\\Model-epoch_08--val_loss_0.96\n",
      "INFO:tensorflow:Assets written to: d:\\project\\project/Checkpoints/checkpoints_loss\\Model-epoch_08--val_loss_0.96\\assets\n",
      "\n",
      "Epoch 00008: val_categorical_accuracy did not improve from 0.64035\n",
      "Epoch 9/100\n",
      "1196/1196 [==============================] - 46s 38ms/step - loss: 0.9092 - categorical_accuracy: 0.6598 - val_loss: 0.9318 - val_categorical_accuracy: 0.6544\n",
      "\n",
      "Epoch 00009: val_loss improved from 0.96428 to 0.93185, saving model to d:\\project\\project/Checkpoints/checkpoints_loss\\Model-epoch_09--val_loss_0.93\n",
      "INFO:tensorflow:Assets written to: d:\\project\\project/Checkpoints/checkpoints_loss\\Model-epoch_09--val_loss_0.93\\assets\n",
      "\n",
      "Epoch 00009: val_categorical_accuracy improved from 0.64035 to 0.65444, saving model to d:\\project\\project/Checkpoints/checkpoints_acc\\Model-epoch_09--val_categorical_accuracy_0.65\n",
      "INFO:tensorflow:Assets written to: d:\\project\\project/Checkpoints/checkpoints_acc\\Model-epoch_09--val_categorical_accuracy_0.65\\assets\n",
      "Epoch 10/100\n",
      "1196/1196 [==============================] - 46s 39ms/step - loss: 0.8935 - categorical_accuracy: 0.6674 - val_loss: 0.9617 - val_categorical_accuracy: 0.6528\n",
      "\n",
      "Epoch 00010: val_loss did not improve from 0.93185\n",
      "\n",
      "Epoch 00010: val_categorical_accuracy did not improve from 0.65444\n",
      "Epoch 11/100\n",
      "1196/1196 [==============================] - 46s 39ms/step - loss: 0.8715 - categorical_accuracy: 0.6740 - val_loss: 0.9345 - val_categorical_accuracy: 0.6599\n",
      "\n",
      "Epoch 00011: val_loss did not improve from 0.93185\n",
      "\n",
      "Epoch 00011: val_categorical_accuracy improved from 0.65444 to 0.65988, saving model to d:\\project\\project/Checkpoints/checkpoints_acc\\Model-epoch_11--val_categorical_accuracy_0.66\n",
      "INFO:tensorflow:Assets written to: d:\\project\\project/Checkpoints/checkpoints_acc\\Model-epoch_11--val_categorical_accuracy_0.66\\assets\n",
      "Epoch 12/100\n",
      "1196/1196 [==============================] - 46s 39ms/step - loss: 0.8544 - categorical_accuracy: 0.6813 - val_loss: 0.8562 - val_categorical_accuracy: 0.6848\n",
      "\n",
      "Epoch 00012: val_loss improved from 0.93185 to 0.85625, saving model to d:\\project\\project/Checkpoints/checkpoints_loss\\Model-epoch_12--val_loss_0.86\n",
      "INFO:tensorflow:Assets written to: d:\\project\\project/Checkpoints/checkpoints_loss\\Model-epoch_12--val_loss_0.86\\assets\n",
      "\n",
      "Epoch 00012: val_categorical_accuracy improved from 0.65988 to 0.68485, saving model to d:\\project\\project/Checkpoints/checkpoints_acc\\Model-epoch_12--val_categorical_accuracy_0.68\n",
      "INFO:tensorflow:Assets written to: d:\\project\\project/Checkpoints/checkpoints_acc\\Model-epoch_12--val_categorical_accuracy_0.68\\assets\n",
      "Epoch 13/100\n",
      "1196/1196 [==============================] - 46s 39ms/step - loss: 0.8417 - categorical_accuracy: 0.6864 - val_loss: 0.8880 - val_categorical_accuracy: 0.6805\n",
      "\n",
      "Epoch 00013: val_loss did not improve from 0.85625\n",
      "\n",
      "Epoch 00013: val_categorical_accuracy did not improve from 0.68485\n",
      "Epoch 14/100\n",
      "1196/1196 [==============================] - 46s 39ms/step - loss: 0.8273 - categorical_accuracy: 0.6902 - val_loss: 0.8983 - val_categorical_accuracy: 0.6821\n",
      "\n",
      "Epoch 00014: val_loss did not improve from 0.85625\n",
      "\n",
      "Epoch 00014: val_categorical_accuracy did not improve from 0.68485\n",
      "Epoch 15/100\n",
      "1196/1196 [==============================] - 46s 39ms/step - loss: 0.8132 - categorical_accuracy: 0.6977 - val_loss: 0.8891 - val_categorical_accuracy: 0.6783\n",
      "\n",
      "Epoch 00015: val_loss did not improve from 0.85625\n",
      "\n",
      "Epoch 00015: val_categorical_accuracy did not improve from 0.68485\n",
      "Epoch 16/100\n",
      "1196/1196 [==============================] - 47s 39ms/step - loss: 0.8034 - categorical_accuracy: 0.6993 - val_loss: 0.8519 - val_categorical_accuracy: 0.6957\n",
      "\n",
      "Epoch 00016: val_loss improved from 0.85625 to 0.85194, saving model to d:\\project\\project/Checkpoints/checkpoints_loss\\Model-epoch_16--val_loss_0.85\n",
      "INFO:tensorflow:Assets written to: d:\\project\\project/Checkpoints/checkpoints_loss\\Model-epoch_16--val_loss_0.85\\assets\n",
      "\n",
      "Epoch 00016: val_categorical_accuracy improved from 0.68485 to 0.69573, saving model to d:\\project\\project/Checkpoints/checkpoints_acc\\Model-epoch_16--val_categorical_accuracy_0.70\n",
      "INFO:tensorflow:Assets written to: d:\\project\\project/Checkpoints/checkpoints_acc\\Model-epoch_16--val_categorical_accuracy_0.70\\assets\n",
      "Epoch 17/100\n",
      "1196/1196 [==============================] - 46s 39ms/step - loss: 0.7907 - categorical_accuracy: 0.7068 - val_loss: 0.8635 - val_categorical_accuracy: 0.6938\n",
      "\n",
      "Epoch 00017: val_loss did not improve from 0.85194\n",
      "\n",
      "Epoch 00017: val_categorical_accuracy did not improve from 0.69573\n",
      "Epoch 18/100\n",
      "1196/1196 [==============================] - 46s 39ms/step - loss: 0.7796 - categorical_accuracy: 0.7102 - val_loss: 0.8592 - val_categorical_accuracy: 0.6975\n",
      "\n",
      "Epoch 00018: val_loss did not improve from 0.85194\n",
      "\n",
      "Epoch 00018: val_categorical_accuracy improved from 0.69573 to 0.69754, saving model to d:\\project\\project/Checkpoints/checkpoints_acc\\Model-epoch_18--val_categorical_accuracy_0.70\n",
      "INFO:tensorflow:Assets written to: d:\\project\\project/Checkpoints/checkpoints_acc\\Model-epoch_18--val_categorical_accuracy_0.70\\assets\n",
      "Epoch 19/100\n",
      "1196/1196 [==============================] - 47s 39ms/step - loss: 0.7771 - categorical_accuracy: 0.7117 - val_loss: 0.8272 - val_categorical_accuracy: 0.7080\n",
      "\n",
      "Epoch 00019: val_loss improved from 0.85194 to 0.82715, saving model to d:\\project\\project/Checkpoints/checkpoints_loss\\Model-epoch_19--val_loss_0.83\n",
      "INFO:tensorflow:Assets written to: d:\\project\\project/Checkpoints/checkpoints_loss\\Model-epoch_19--val_loss_0.83\\assets\n",
      "\n",
      "Epoch 00019: val_categorical_accuracy improved from 0.69754 to 0.70801, saving model to d:\\project\\project/Checkpoints/checkpoints_acc\\Model-epoch_19--val_categorical_accuracy_0.71\n",
      "INFO:tensorflow:Assets written to: d:\\project\\project/Checkpoints/checkpoints_acc\\Model-epoch_19--val_categorical_accuracy_0.71\\assets\n",
      "Epoch 20/100\n",
      "1196/1196 [==============================] - 47s 39ms/step - loss: 0.7588 - categorical_accuracy: 0.7162 - val_loss: 0.8396 - val_categorical_accuracy: 0.7093\n",
      "\n",
      "Epoch 00020: val_loss did not improve from 0.82715\n",
      "\n",
      "Epoch 00020: val_categorical_accuracy improved from 0.70801 to 0.70926, saving model to d:\\project\\project/Checkpoints/checkpoints_acc\\Model-epoch_20--val_categorical_accuracy_0.71\n",
      "INFO:tensorflow:Assets written to: d:\\project\\project/Checkpoints/checkpoints_acc\\Model-epoch_20--val_categorical_accuracy_0.71\\assets\n",
      "Epoch 21/100\n",
      "1196/1196 [==============================] - 46s 39ms/step - loss: 0.7528 - categorical_accuracy: 0.7204 - val_loss: 0.8282 - val_categorical_accuracy: 0.7084\n",
      "\n",
      "Epoch 00021: val_loss did not improve from 0.82715\n",
      "\n",
      "Epoch 00021: val_categorical_accuracy did not improve from 0.70926\n",
      "Epoch 22/100\n",
      "1196/1196 [==============================] - 46s 39ms/step - loss: 0.7479 - categorical_accuracy: 0.7225 - val_loss: 0.8187 - val_categorical_accuracy: 0.7190\n",
      "\n",
      "Epoch 00022: val_loss improved from 0.82715 to 0.81874, saving model to d:\\project\\project/Checkpoints/checkpoints_loss\\Model-epoch_22--val_loss_0.82\n",
      "INFO:tensorflow:Assets written to: d:\\project\\project/Checkpoints/checkpoints_loss\\Model-epoch_22--val_loss_0.82\\assets\n",
      "\n",
      "Epoch 00022: val_categorical_accuracy improved from 0.70926 to 0.71903, saving model to d:\\project\\project/Checkpoints/checkpoints_acc\\Model-epoch_22--val_categorical_accuracy_0.72\n",
      "INFO:tensorflow:Assets written to: d:\\project\\project/Checkpoints/checkpoints_acc\\Model-epoch_22--val_categorical_accuracy_0.72\\assets\n",
      "Epoch 23/100\n",
      "1196/1196 [==============================] - 48s 40ms/step - loss: 0.7355 - categorical_accuracy: 0.7260 - val_loss: 0.8170 - val_categorical_accuracy: 0.7178\n",
      "\n",
      "Epoch 00023: val_loss improved from 0.81874 to 0.81700, saving model to d:\\project\\project/Checkpoints/checkpoints_loss\\Model-epoch_23--val_loss_0.82\n",
      "INFO:tensorflow:Assets written to: d:\\project\\project/Checkpoints/checkpoints_loss\\Model-epoch_23--val_loss_0.82\\assets\n",
      "\n",
      "Epoch 00023: val_categorical_accuracy did not improve from 0.71903\n",
      "Epoch 24/100\n",
      "1196/1196 [==============================] - 49s 41ms/step - loss: 0.7318 - categorical_accuracy: 0.7309 - val_loss: 0.8003 - val_categorical_accuracy: 0.7298\n",
      "\n",
      "Epoch 00024: val_loss improved from 0.81700 to 0.80028, saving model to d:\\project\\project/Checkpoints/checkpoints_loss\\Model-epoch_24--val_loss_0.80\n",
      "INFO:tensorflow:Assets written to: d:\\project\\project/Checkpoints/checkpoints_loss\\Model-epoch_24--val_loss_0.80\\assets\n",
      "\n",
      "Epoch 00024: val_categorical_accuracy improved from 0.71903 to 0.72977, saving model to d:\\project\\project/Checkpoints/checkpoints_acc\\Model-epoch_24--val_categorical_accuracy_0.73\n",
      "INFO:tensorflow:Assets written to: d:\\project\\project/Checkpoints/checkpoints_acc\\Model-epoch_24--val_categorical_accuracy_0.73\\assets\n",
      "Epoch 25/100\n",
      "1196/1196 [==============================] - 46s 39ms/step - loss: 0.7302 - categorical_accuracy: 0.7318 - val_loss: 0.8181 - val_categorical_accuracy: 0.7073\n",
      "\n",
      "Epoch 00025: val_loss did not improve from 0.80028\n",
      "\n",
      "Epoch 00025: val_categorical_accuracy did not improve from 0.72977\n",
      "Epoch 26/100\n",
      "1196/1196 [==============================] - 46s 39ms/step - loss: 0.7203 - categorical_accuracy: 0.7366 - val_loss: 0.8003 - val_categorical_accuracy: 0.7250\n",
      "\n",
      "Epoch 00026: val_loss improved from 0.80028 to 0.80026, saving model to d:\\project\\project/Checkpoints/checkpoints_loss\\Model-epoch_26--val_loss_0.80\n",
      "INFO:tensorflow:Assets written to: d:\\project\\project/Checkpoints/checkpoints_loss\\Model-epoch_26--val_loss_0.80\\assets\n",
      "\n",
      "Epoch 00026: val_categorical_accuracy did not improve from 0.72977\n",
      "Epoch 27/100\n",
      "1196/1196 [==============================] - 47s 39ms/step - loss: 0.7151 - categorical_accuracy: 0.7368 - val_loss: 0.7957 - val_categorical_accuracy: 0.7317\n",
      "\n",
      "Epoch 00027: val_loss improved from 0.80026 to 0.79573, saving model to d:\\project\\project/Checkpoints/checkpoints_loss\\Model-epoch_27--val_loss_0.80\n",
      "INFO:tensorflow:Assets written to: d:\\project\\project/Checkpoints/checkpoints_loss\\Model-epoch_27--val_loss_0.80\\assets\n",
      "\n",
      "Epoch 00027: val_categorical_accuracy improved from 0.72977 to 0.73172, saving model to d:\\project\\project/Checkpoints/checkpoints_acc\\Model-epoch_27--val_categorical_accuracy_0.73\n",
      "INFO:tensorflow:Assets written to: d:\\project\\project/Checkpoints/checkpoints_acc\\Model-epoch_27--val_categorical_accuracy_0.73\\assets\n",
      "Epoch 28/100\n",
      "1196/1196 [==============================] - 115s 96ms/step - loss: 0.7069 - categorical_accuracy: 0.7388 - val_loss: 0.7773 - val_categorical_accuracy: 0.7388\n",
      "\n",
      "Epoch 00028: val_loss improved from 0.79573 to 0.77735, saving model to d:\\project\\project/Checkpoints/checkpoints_loss\\Model-epoch_28--val_loss_0.78\n",
      "INFO:tensorflow:Assets written to: d:\\project\\project/Checkpoints/checkpoints_loss\\Model-epoch_28--val_loss_0.78\\assets\n",
      "\n",
      "Epoch 00028: val_categorical_accuracy improved from 0.73172 to 0.73884, saving model to d:\\project\\project/Checkpoints/checkpoints_acc\\Model-epoch_28--val_categorical_accuracy_0.74\n",
      "INFO:tensorflow:Assets written to: d:\\project\\project/Checkpoints/checkpoints_acc\\Model-epoch_28--val_categorical_accuracy_0.74\\assets\n",
      "Epoch 29/100\n",
      "1196/1196 [==============================] - 59s 49ms/step - loss: 0.6955 - categorical_accuracy: 0.7423 - val_loss: 0.7904 - val_categorical_accuracy: 0.7264\n",
      "\n",
      "Epoch 00029: val_loss did not improve from 0.77735\n",
      "\n",
      "Epoch 00029: val_categorical_accuracy did not improve from 0.73884\n",
      "Epoch 30/100\n",
      "1196/1196 [==============================] - 155s 130ms/step - loss: 0.6989 - categorical_accuracy: 0.7433 - val_loss: 0.8135 - val_categorical_accuracy: 0.7215\n",
      "\n",
      "Epoch 00030: val_loss did not improve from 0.77735\n",
      "\n",
      "Epoch 00030: val_categorical_accuracy did not improve from 0.73884\n",
      "Epoch 31/100\n",
      "1196/1196 [==============================] - 46s 39ms/step - loss: 0.6875 - categorical_accuracy: 0.7479 - val_loss: 0.7627 - val_categorical_accuracy: 0.7493\n",
      "\n",
      "Epoch 00031: val_loss improved from 0.77735 to 0.76271, saving model to d:\\project\\project/Checkpoints/checkpoints_loss\\Model-epoch_31--val_loss_0.76\n",
      "INFO:tensorflow:Assets written to: d:\\project\\project/Checkpoints/checkpoints_loss\\Model-epoch_31--val_loss_0.76\\assets\n",
      "\n",
      "Epoch 00031: val_categorical_accuracy improved from 0.73884 to 0.74930, saving model to d:\\project\\project/Checkpoints/checkpoints_acc\\Model-epoch_31--val_categorical_accuracy_0.75\n",
      "INFO:tensorflow:Assets written to: d:\\project\\project/Checkpoints/checkpoints_acc\\Model-epoch_31--val_categorical_accuracy_0.75\\assets\n",
      "Epoch 32/100\n",
      "1196/1196 [==============================] - 46s 39ms/step - loss: 0.6808 - categorical_accuracy: 0.7478 - val_loss: 0.7740 - val_categorical_accuracy: 0.7429\n",
      "\n",
      "Epoch 00032: val_loss did not improve from 0.76271\n",
      "\n",
      "Epoch 00032: val_categorical_accuracy did not improve from 0.74930\n",
      "Epoch 33/100\n",
      "1196/1196 [==============================] - 46s 39ms/step - loss: 0.6738 - categorical_accuracy: 0.7519 - val_loss: 0.7980 - val_categorical_accuracy: 0.7306\n",
      "\n",
      "Epoch 00033: val_loss did not improve from 0.76271\n",
      "\n",
      "Epoch 00033: val_categorical_accuracy did not improve from 0.74930\n",
      "Epoch 34/100\n",
      "1196/1196 [==============================] - 46s 39ms/step - loss: 0.6736 - categorical_accuracy: 0.7537 - val_loss: 0.7597 - val_categorical_accuracy: 0.7458\n",
      "\n",
      "Epoch 00034: val_loss improved from 0.76271 to 0.75974, saving model to d:\\project\\project/Checkpoints/checkpoints_loss\\Model-epoch_34--val_loss_0.76\n",
      "INFO:tensorflow:Assets written to: d:\\project\\project/Checkpoints/checkpoints_loss\\Model-epoch_34--val_loss_0.76\\assets\n",
      "\n",
      "Epoch 00034: val_categorical_accuracy did not improve from 0.74930\n",
      "Epoch 35/100\n",
      "1196/1196 [==============================] - 47s 39ms/step - loss: 0.6773 - categorical_accuracy: 0.7524 - val_loss: 0.7701 - val_categorical_accuracy: 0.7461\n",
      "\n",
      "Epoch 00035: val_loss did not improve from 0.75974\n",
      "\n",
      "Epoch 00035: val_categorical_accuracy did not improve from 0.74930\n",
      "Epoch 36/100\n",
      "1196/1196 [==============================] - 46s 39ms/step - loss: 0.6632 - categorical_accuracy: 0.7578 - val_loss: 0.7605 - val_categorical_accuracy: 0.7528\n",
      "\n",
      "Epoch 00036: val_loss did not improve from 0.75974\n",
      "\n",
      "Epoch 00036: val_categorical_accuracy improved from 0.74930 to 0.75279, saving model to d:\\project\\project/Checkpoints/checkpoints_acc\\Model-epoch_36--val_categorical_accuracy_0.75\n",
      "INFO:tensorflow:Assets written to: d:\\project\\project/Checkpoints/checkpoints_acc\\Model-epoch_36--val_categorical_accuracy_0.75\\assets\n",
      "Epoch 37/100\n",
      "1196/1196 [==============================] - 46s 39ms/step - loss: 0.6595 - categorical_accuracy: 0.7599 - val_loss: 0.7570 - val_categorical_accuracy: 0.7525\n",
      "\n",
      "Epoch 00037: val_loss improved from 0.75974 to 0.75698, saving model to d:\\project\\project/Checkpoints/checkpoints_loss\\Model-epoch_37--val_loss_0.76\n",
      "INFO:tensorflow:Assets written to: d:\\project\\project/Checkpoints/checkpoints_loss\\Model-epoch_37--val_loss_0.76\\assets\n",
      "\n",
      "Epoch 00037: val_categorical_accuracy did not improve from 0.75279\n",
      "Epoch 38/100\n",
      "1196/1196 [==============================] - 46s 39ms/step - loss: 0.6508 - categorical_accuracy: 0.7625 - val_loss: 0.7254 - val_categorical_accuracy: 0.7628\n",
      "\n",
      "Epoch 00038: val_loss improved from 0.75698 to 0.72544, saving model to d:\\project\\project/Checkpoints/checkpoints_loss\\Model-epoch_38--val_loss_0.73\n",
      "INFO:tensorflow:Assets written to: d:\\project\\project/Checkpoints/checkpoints_loss\\Model-epoch_38--val_loss_0.73\\assets\n",
      "\n",
      "Epoch 00038: val_categorical_accuracy improved from 0.75279 to 0.76283, saving model to d:\\project\\project/Checkpoints/checkpoints_acc\\Model-epoch_38--val_categorical_accuracy_0.76\n",
      "INFO:tensorflow:Assets written to: d:\\project\\project/Checkpoints/checkpoints_acc\\Model-epoch_38--val_categorical_accuracy_0.76\\assets\n",
      "Epoch 39/100\n",
      "1196/1196 [==============================] - 47s 39ms/step - loss: 0.6481 - categorical_accuracy: 0.7634 - val_loss: 0.7457 - val_categorical_accuracy: 0.7546\n",
      "\n",
      "Epoch 00039: val_loss did not improve from 0.72544\n",
      "\n",
      "Epoch 00039: val_categorical_accuracy did not improve from 0.76283\n",
      "Epoch 40/100\n",
      "1196/1196 [==============================] - 48s 40ms/step - loss: 0.6451 - categorical_accuracy: 0.7640 - val_loss: 0.7164 - val_categorical_accuracy: 0.7665\n",
      "\n",
      "Epoch 00040: val_loss improved from 0.72544 to 0.71637, saving model to d:\\project\\project/Checkpoints/checkpoints_loss\\Model-epoch_40--val_loss_0.72\n",
      "INFO:tensorflow:Assets written to: d:\\project\\project/Checkpoints/checkpoints_loss\\Model-epoch_40--val_loss_0.72\\assets\n",
      "\n",
      "Epoch 00040: val_categorical_accuracy improved from 0.76283 to 0.76646, saving model to d:\\project\\project/Checkpoints/checkpoints_acc\\Model-epoch_40--val_categorical_accuracy_0.77\n",
      "INFO:tensorflow:Assets written to: d:\\project\\project/Checkpoints/checkpoints_acc\\Model-epoch_40--val_categorical_accuracy_0.77\\assets\n",
      "Epoch 41/100\n",
      "1196/1196 [==============================] - 47s 39ms/step - loss: 0.6375 - categorical_accuracy: 0.7667 - val_loss: 0.7398 - val_categorical_accuracy: 0.7580\n",
      "\n",
      "Epoch 00041: val_loss did not improve from 0.71637\n",
      "\n",
      "Epoch 00041: val_categorical_accuracy did not improve from 0.76646\n",
      "Epoch 42/100\n",
      "1196/1196 [==============================] - 47s 39ms/step - loss: 0.6424 - categorical_accuracy: 0.7656 - val_loss: 0.7420 - val_categorical_accuracy: 0.7659\n",
      "\n",
      "Epoch 00042: val_loss did not improve from 0.71637\n",
      "\n",
      "Epoch 00042: val_categorical_accuracy did not improve from 0.76646\n",
      "Epoch 43/100\n",
      "1196/1196 [==============================] - 47s 39ms/step - loss: 0.6357 - categorical_accuracy: 0.7679 - val_loss: 0.7382 - val_categorical_accuracy: 0.7649\n",
      "\n",
      "Epoch 00043: val_loss did not improve from 0.71637\n",
      "\n",
      "Epoch 00043: val_categorical_accuracy did not improve from 0.76646\n",
      "Epoch 44/100\n",
      "1196/1196 [==============================] - 47s 39ms/step - loss: 0.6284 - categorical_accuracy: 0.7698 - val_loss: 0.7312 - val_categorical_accuracy: 0.7626\n",
      "\n",
      "Epoch 00044: val_loss did not improve from 0.71637\n",
      "\n",
      "Epoch 00044: val_categorical_accuracy did not improve from 0.76646\n",
      "Epoch 45/100\n",
      "1196/1196 [==============================] - 46s 39ms/step - loss: 0.6232 - categorical_accuracy: 0.7723 - val_loss: 0.7323 - val_categorical_accuracy: 0.7606\n",
      "\n",
      "Epoch 00045: val_loss did not improve from 0.71637\n",
      "\n",
      "Epoch 00045: val_categorical_accuracy did not improve from 0.76646\n",
      "Epoch 46/100\n",
      "1196/1196 [==============================] - 47s 39ms/step - loss: 0.6189 - categorical_accuracy: 0.7747 - val_loss: 0.7304 - val_categorical_accuracy: 0.7592\n",
      "\n",
      "Epoch 00046: val_loss did not improve from 0.71637\n",
      "\n",
      "Epoch 00046: val_categorical_accuracy did not improve from 0.76646\n",
      "Epoch 47/100\n",
      "1196/1196 [==============================] - 46s 39ms/step - loss: 0.6209 - categorical_accuracy: 0.7748 - val_loss: 0.7642 - val_categorical_accuracy: 0.7493\n",
      "\n",
      "Epoch 00047: val_loss did not improve from 0.71637\n",
      "\n",
      "Epoch 00047: val_categorical_accuracy did not improve from 0.76646\n",
      "Epoch 48/100\n",
      "1196/1196 [==============================] - 46s 39ms/step - loss: 0.6178 - categorical_accuracy: 0.7752 - val_loss: 0.7509 - val_categorical_accuracy: 0.7545\n",
      "\n",
      "Epoch 00048: val_loss did not improve from 0.71637\n",
      "\n",
      "Epoch 00048: val_categorical_accuracy did not improve from 0.76646\n",
      "Epoch 49/100\n",
      "1196/1196 [==============================] - 46s 39ms/step - loss: 0.6164 - categorical_accuracy: 0.7768 - val_loss: 0.7273 - val_categorical_accuracy: 0.7666\n",
      "\n",
      "Epoch 00049: val_loss did not improve from 0.71637\n",
      "\n",
      "Epoch 00049: val_categorical_accuracy improved from 0.76646 to 0.76660, saving model to d:\\project\\project/Checkpoints/checkpoints_acc\\Model-epoch_49--val_categorical_accuracy_0.77\n",
      "INFO:tensorflow:Assets written to: d:\\project\\project/Checkpoints/checkpoints_acc\\Model-epoch_49--val_categorical_accuracy_0.77\\assets\n",
      "Epoch 50/100\n",
      "1196/1196 [==============================] - 46s 39ms/step - loss: 0.6093 - categorical_accuracy: 0.7793 - val_loss: 0.7403 - val_categorical_accuracy: 0.7637\n",
      "\n",
      "Epoch 00050: val_loss did not improve from 0.71637\n",
      "\n",
      "Epoch 00050: val_categorical_accuracy did not improve from 0.76660\n",
      "Epoch 51/100\n",
      "1196/1196 [==============================] - 46s 39ms/step - loss: 0.6184 - categorical_accuracy: 0.7761 - val_loss: 0.7393 - val_categorical_accuracy: 0.7655\n",
      "\n",
      "Epoch 00051: val_loss did not improve from 0.71637\n",
      "\n",
      "Epoch 00051: val_categorical_accuracy did not improve from 0.76660\n",
      "Epoch 52/100\n",
      "1196/1196 [==============================] - 47s 39ms/step - loss: 0.6026 - categorical_accuracy: 0.7810 - val_loss: 0.7278 - val_categorical_accuracy: 0.7739\n",
      "\n",
      "Epoch 00052: val_loss did not improve from 0.71637\n",
      "\n",
      "Epoch 00052: val_categorical_accuracy improved from 0.76660 to 0.77386, saving model to d:\\project\\project/Checkpoints/checkpoints_acc\\Model-epoch_52--val_categorical_accuracy_0.77\n",
      "INFO:tensorflow:Assets written to: d:\\project\\project/Checkpoints/checkpoints_acc\\Model-epoch_52--val_categorical_accuracy_0.77\\assets\n",
      "Epoch 53/100\n",
      "1196/1196 [==============================] - 49s 41ms/step - loss: 0.6032 - categorical_accuracy: 0.7825 - val_loss: 0.7194 - val_categorical_accuracy: 0.7719\n",
      "\n",
      "Epoch 00053: val_loss did not improve from 0.71637\n",
      "\n",
      "Epoch 00053: val_categorical_accuracy did not improve from 0.77386\n",
      "Epoch 54/100\n",
      "1196/1196 [==============================] - 46s 39ms/step - loss: 0.6034 - categorical_accuracy: 0.7823 - val_loss: 0.7171 - val_categorical_accuracy: 0.7719\n",
      "\n",
      "Epoch 00054: val_loss did not improve from 0.71637\n",
      "\n",
      "Epoch 00054: val_categorical_accuracy did not improve from 0.77386\n",
      "Epoch 55/100\n",
      "1196/1196 [==============================] - 46s 39ms/step - loss: 0.6012 - categorical_accuracy: 0.7822 - val_loss: 0.7232 - val_categorical_accuracy: 0.7691\n",
      "\n",
      "Epoch 00055: val_loss did not improve from 0.71637\n",
      "\n",
      "Epoch 00055: val_categorical_accuracy did not improve from 0.77386\n",
      "Epoch 56/100\n",
      "1196/1196 [==============================] - 46s 39ms/step - loss: 0.5962 - categorical_accuracy: 0.7843 - val_loss: 0.7082 - val_categorical_accuracy: 0.7785\n",
      "\n",
      "Epoch 00056: val_loss improved from 0.71637 to 0.70817, saving model to d:\\project\\project/Checkpoints/checkpoints_loss\\Model-epoch_56--val_loss_0.71\n",
      "INFO:tensorflow:Assets written to: d:\\project\\project/Checkpoints/checkpoints_loss\\Model-epoch_56--val_loss_0.71\\assets\n",
      "\n",
      "Epoch 00056: val_categorical_accuracy improved from 0.77386 to 0.77846, saving model to d:\\project\\project/Checkpoints/checkpoints_acc\\Model-epoch_56--val_categorical_accuracy_0.78\n",
      "INFO:tensorflow:Assets written to: d:\\project\\project/Checkpoints/checkpoints_acc\\Model-epoch_56--val_categorical_accuracy_0.78\\assets\n",
      "Epoch 57/100\n",
      "1196/1196 [==============================] - 46s 39ms/step - loss: 0.5914 - categorical_accuracy: 0.7833 - val_loss: 0.6868 - val_categorical_accuracy: 0.7877\n",
      "\n",
      "Epoch 00057: val_loss improved from 0.70817 to 0.68678, saving model to d:\\project\\project/Checkpoints/checkpoints_loss\\Model-epoch_57--val_loss_0.69\n",
      "INFO:tensorflow:Assets written to: d:\\project\\project/Checkpoints/checkpoints_loss\\Model-epoch_57--val_loss_0.69\\assets\n",
      "\n",
      "Epoch 00057: val_categorical_accuracy improved from 0.77846 to 0.78767, saving model to d:\\project\\project/Checkpoints/checkpoints_acc\\Model-epoch_57--val_categorical_accuracy_0.79\n",
      "INFO:tensorflow:Assets written to: d:\\project\\project/Checkpoints/checkpoints_acc\\Model-epoch_57--val_categorical_accuracy_0.79\\assets\n",
      "Epoch 58/100\n",
      "1196/1196 [==============================] - 46s 39ms/step - loss: 0.5849 - categorical_accuracy: 0.7884 - val_loss: 0.6910 - val_categorical_accuracy: 0.7893\n",
      "\n",
      "Epoch 00058: val_loss did not improve from 0.68678\n",
      "\n",
      "Epoch 00058: val_categorical_accuracy improved from 0.78767 to 0.78934, saving model to d:\\project\\project/Checkpoints/checkpoints_acc\\Model-epoch_58--val_categorical_accuracy_0.79\n",
      "INFO:tensorflow:Assets written to: d:\\project\\project/Checkpoints/checkpoints_acc\\Model-epoch_58--val_categorical_accuracy_0.79\\assets\n",
      "Epoch 59/100\n",
      "1196/1196 [==============================] - 46s 39ms/step - loss: 0.5882 - categorical_accuracy: 0.7864 - val_loss: 0.6972 - val_categorical_accuracy: 0.7818\n",
      "\n",
      "Epoch 00059: val_loss did not improve from 0.68678\n",
      "\n",
      "Epoch 00059: val_categorical_accuracy did not improve from 0.78934\n",
      "Epoch 60/100\n",
      "1196/1196 [==============================] - 47s 39ms/step - loss: 0.5856 - categorical_accuracy: 0.7895 - val_loss: 0.7112 - val_categorical_accuracy: 0.7828\n",
      "\n",
      "Epoch 00060: val_loss did not improve from 0.68678\n",
      "\n",
      "Epoch 00060: val_categorical_accuracy did not improve from 0.78934\n",
      "Epoch 61/100\n",
      "1196/1196 [==============================] - 46s 39ms/step - loss: 0.5784 - categorical_accuracy: 0.7916 - val_loss: 0.7061 - val_categorical_accuracy: 0.7818\n",
      "\n",
      "Epoch 00061: val_loss did not improve from 0.68678\n",
      "\n",
      "Epoch 00061: val_categorical_accuracy did not improve from 0.78934\n",
      "Epoch 62/100\n",
      "1196/1196 [==============================] - 46s 39ms/step - loss: 0.5867 - categorical_accuracy: 0.7891 - val_loss: 0.7129 - val_categorical_accuracy: 0.7776\n",
      "\n",
      "Epoch 00062: val_loss did not improve from 0.68678\n",
      "\n",
      "Epoch 00062: val_categorical_accuracy did not improve from 0.78934\n",
      "Epoch 63/100\n",
      "1196/1196 [==============================] - 46s 39ms/step - loss: 0.5780 - categorical_accuracy: 0.7923 - val_loss: 0.7101 - val_categorical_accuracy: 0.7803\n",
      "\n",
      "Epoch 00063: val_loss did not improve from 0.68678\n",
      "\n",
      "Epoch 00063: val_categorical_accuracy did not improve from 0.78934\n",
      "Epoch 64/100\n",
      "1196/1196 [==============================] - 46s 39ms/step - loss: 0.5761 - categorical_accuracy: 0.7946 - val_loss: 0.7431 - val_categorical_accuracy: 0.7693\n",
      "\n",
      "Epoch 00064: val_loss did not improve from 0.68678\n",
      "\n",
      "Epoch 00064: val_categorical_accuracy did not improve from 0.78934\n",
      "Epoch 65/100\n",
      "1196/1196 [==============================] - 46s 39ms/step - loss: 0.5796 - categorical_accuracy: 0.7910 - val_loss: 0.7003 - val_categorical_accuracy: 0.7811\n",
      "\n",
      "Epoch 00065: val_loss did not improve from 0.68678\n",
      "\n",
      "Epoch 00065: val_categorical_accuracy did not improve from 0.78934\n",
      "Epoch 66/100\n",
      "1196/1196 [==============================] - 46s 39ms/step - loss: 0.5685 - categorical_accuracy: 0.7953 - val_loss: 0.7105 - val_categorical_accuracy: 0.7832\n",
      "\n",
      "Epoch 00066: val_loss did not improve from 0.68678\n",
      "\n",
      "Epoch 00066: val_categorical_accuracy did not improve from 0.78934\n",
      "Epoch 67/100\n",
      "1196/1196 [==============================] - 46s 39ms/step - loss: 0.5727 - categorical_accuracy: 0.7943 - val_loss: 0.7028 - val_categorical_accuracy: 0.7881\n",
      "\n",
      "Epoch 00067: val_loss did not improve from 0.68678\n",
      "\n",
      "Epoch 00067: val_categorical_accuracy did not improve from 0.78934\n",
      "Epoch 68/100\n",
      "1196/1196 [==============================] - 46s 39ms/step - loss: 0.5689 - categorical_accuracy: 0.7973 - val_loss: 0.6941 - val_categorical_accuracy: 0.7868\n",
      "\n",
      "Epoch 00068: val_loss did not improve from 0.68678\n",
      "\n",
      "Epoch 00068: val_categorical_accuracy did not improve from 0.78934\n",
      "Epoch 69/100\n",
      "1196/1196 [==============================] - 46s 39ms/step - loss: 0.5666 - categorical_accuracy: 0.7971 - val_loss: 0.7229 - val_categorical_accuracy: 0.7762\n",
      "\n",
      "Epoch 00069: val_loss did not improve from 0.68678\n",
      "\n",
      "Epoch 00069: val_categorical_accuracy did not improve from 0.78934\n",
      "Epoch 70/100\n",
      "1196/1196 [==============================] - 46s 39ms/step - loss: 0.5770 - categorical_accuracy: 0.7926 - val_loss: 0.7181 - val_categorical_accuracy: 0.7817\n",
      "\n",
      "Epoch 00070: val_loss did not improve from 0.68678\n",
      "\n",
      "Epoch 00070: val_categorical_accuracy did not improve from 0.78934\n",
      "Epoch 71/100\n",
      "1196/1196 [==============================] - 46s 39ms/step - loss: 0.5642 - categorical_accuracy: 0.7975 - val_loss: 0.7106 - val_categorical_accuracy: 0.7882\n",
      "\n",
      "Epoch 00071: val_loss did not improve from 0.68678\n",
      "\n",
      "Epoch 00071: val_categorical_accuracy did not improve from 0.78934\n",
      "Epoch 72/100\n",
      "1196/1196 [==============================] - 46s 39ms/step - loss: 0.5645 - categorical_accuracy: 0.7983 - val_loss: 0.6808 - val_categorical_accuracy: 0.7953\n",
      "\n",
      "Epoch 00072: val_loss improved from 0.68678 to 0.68083, saving model to d:\\project\\project/Checkpoints/checkpoints_loss\\Model-epoch_72--val_loss_0.68\n",
      "INFO:tensorflow:Assets written to: d:\\project\\project/Checkpoints/checkpoints_loss\\Model-epoch_72--val_loss_0.68\\assets\n",
      "\n",
      "Epoch 00072: val_categorical_accuracy improved from 0.78934 to 0.79534, saving model to d:\\project\\project/Checkpoints/checkpoints_acc\\Model-epoch_72--val_categorical_accuracy_0.80\n",
      "INFO:tensorflow:Assets written to: d:\\project\\project/Checkpoints/checkpoints_acc\\Model-epoch_72--val_categorical_accuracy_0.80\\assets\n",
      "Epoch 73/100\n",
      "1196/1196 [==============================] - 46s 39ms/step - loss: 0.5662 - categorical_accuracy: 0.7961 - val_loss: 0.6858 - val_categorical_accuracy: 0.7955\n",
      "\n",
      "Epoch 00073: val_loss did not improve from 0.68083\n",
      "\n",
      "Epoch 00073: val_categorical_accuracy improved from 0.79534 to 0.79548, saving model to d:\\project\\project/Checkpoints/checkpoints_acc\\Model-epoch_73--val_categorical_accuracy_0.80\n",
      "INFO:tensorflow:Assets written to: d:\\project\\project/Checkpoints/checkpoints_acc\\Model-epoch_73--val_categorical_accuracy_0.80\\assets\n",
      "Epoch 74/100\n",
      "1196/1196 [==============================] - 46s 39ms/step - loss: 0.5547 - categorical_accuracy: 0.8004 - val_loss: 0.6945 - val_categorical_accuracy: 0.7927\n",
      "\n",
      "Epoch 00074: val_loss did not improve from 0.68083\n",
      "\n",
      "Epoch 00074: val_categorical_accuracy did not improve from 0.79548\n",
      "Epoch 75/100\n",
      "1196/1196 [==============================] - 46s 39ms/step - loss: 0.5556 - categorical_accuracy: 0.8014 - val_loss: 0.7118 - val_categorical_accuracy: 0.7871\n",
      "\n",
      "Epoch 00075: val_loss did not improve from 0.68083\n",
      "\n",
      "Epoch 00075: val_categorical_accuracy did not improve from 0.79548\n",
      "Epoch 76/100\n",
      "1196/1196 [==============================] - 47s 39ms/step - loss: 0.5529 - categorical_accuracy: 0.8015 - val_loss: 0.6768 - val_categorical_accuracy: 0.7951\n",
      "\n",
      "Epoch 00076: val_loss improved from 0.68083 to 0.67676, saving model to d:\\project\\project/Checkpoints/checkpoints_loss\\Model-epoch_76--val_loss_0.68\n",
      "INFO:tensorflow:Assets written to: d:\\project\\project/Checkpoints/checkpoints_loss\\Model-epoch_76--val_loss_0.68\\assets\n",
      "\n",
      "Epoch 00076: val_categorical_accuracy did not improve from 0.79548\n",
      "Epoch 77/100\n",
      "1196/1196 [==============================] - 47s 39ms/step - loss: 0.5563 - categorical_accuracy: 0.8024 - val_loss: 0.6743 - val_categorical_accuracy: 0.7938\n",
      "\n",
      "Epoch 00077: val_loss improved from 0.67676 to 0.67428, saving model to d:\\project\\project/Checkpoints/checkpoints_loss\\Model-epoch_77--val_loss_0.67\n",
      "INFO:tensorflow:Assets written to: d:\\project\\project/Checkpoints/checkpoints_loss\\Model-epoch_77--val_loss_0.67\\assets\n",
      "\n",
      "Epoch 00077: val_categorical_accuracy did not improve from 0.79548\n",
      "Epoch 78/100\n",
      "1196/1196 [==============================] - 47s 39ms/step - loss: 0.5556 - categorical_accuracy: 0.8012 - val_loss: 0.6947 - val_categorical_accuracy: 0.7962\n",
      "\n",
      "Epoch 00078: val_loss did not improve from 0.67428\n",
      "\n",
      "Epoch 00078: val_categorical_accuracy improved from 0.79548 to 0.79618, saving model to d:\\project\\project/Checkpoints/checkpoints_acc\\Model-epoch_78--val_categorical_accuracy_0.80\n",
      "INFO:tensorflow:Assets written to: d:\\project\\project/Checkpoints/checkpoints_acc\\Model-epoch_78--val_categorical_accuracy_0.80\\assets\n",
      "Epoch 79/100\n",
      "1196/1196 [==============================] - 47s 39ms/step - loss: 0.5535 - categorical_accuracy: 0.8026 - val_loss: 0.6986 - val_categorical_accuracy: 0.7973\n",
      "\n",
      "Epoch 00079: val_loss did not improve from 0.67428\n",
      "\n",
      "Epoch 00079: val_categorical_accuracy improved from 0.79618 to 0.79729, saving model to d:\\project\\project/Checkpoints/checkpoints_acc\\Model-epoch_79--val_categorical_accuracy_0.80\n",
      "INFO:tensorflow:Assets written to: d:\\project\\project/Checkpoints/checkpoints_acc\\Model-epoch_79--val_categorical_accuracy_0.80\\assets\n",
      "Epoch 80/100\n",
      "1196/1196 [==============================] - 47s 39ms/step - loss: 0.5477 - categorical_accuracy: 0.8060 - val_loss: 0.6973 - val_categorical_accuracy: 0.7955\n",
      "\n",
      "Epoch 00080: val_loss did not improve from 0.67428\n",
      "\n",
      "Epoch 00080: val_categorical_accuracy did not improve from 0.79729\n",
      "Epoch 81/100\n",
      "1196/1196 [==============================] - 46s 39ms/step - loss: 0.5523 - categorical_accuracy: 0.8019 - val_loss: 0.6986 - val_categorical_accuracy: 0.7923\n",
      "\n",
      "Epoch 00081: val_loss did not improve from 0.67428\n",
      "\n",
      "Epoch 00081: val_categorical_accuracy did not improve from 0.79729\n",
      "Epoch 82/100\n",
      "1196/1196 [==============================] - 47s 39ms/step - loss: 0.5473 - categorical_accuracy: 0.8052 - val_loss: 0.6890 - val_categorical_accuracy: 0.7924\n",
      "\n",
      "Epoch 00082: val_loss did not improve from 0.67428\n",
      "\n",
      "Epoch 00082: val_categorical_accuracy did not improve from 0.79729\n",
      "Epoch 83/100\n",
      "1196/1196 [==============================] - 46s 39ms/step - loss: 0.5407 - categorical_accuracy: 0.8092 - val_loss: 0.7007 - val_categorical_accuracy: 0.7969\n",
      "\n",
      "Epoch 00083: val_loss did not improve from 0.67428\n",
      "\n",
      "Epoch 00083: val_categorical_accuracy did not improve from 0.79729\n",
      "Epoch 84/100\n",
      "1196/1196 [==============================] - 46s 39ms/step - loss: 0.5509 - categorical_accuracy: 0.8045 - val_loss: 0.6888 - val_categorical_accuracy: 0.7928\n",
      "\n",
      "Epoch 00084: val_loss did not improve from 0.67428\n",
      "\n",
      "Epoch 00084: val_categorical_accuracy did not improve from 0.79729\n",
      "Epoch 85/100\n",
      "1196/1196 [==============================] - 46s 39ms/step - loss: 0.5490 - categorical_accuracy: 0.8060 - val_loss: 0.6761 - val_categorical_accuracy: 0.8057\n",
      "\n",
      "Epoch 00085: val_loss did not improve from 0.67428\n",
      "\n",
      "Epoch 00085: val_categorical_accuracy improved from 0.79729 to 0.80566, saving model to d:\\project\\project/Checkpoints/checkpoints_acc\\Model-epoch_85--val_categorical_accuracy_0.81\n",
      "INFO:tensorflow:Assets written to: d:\\project\\project/Checkpoints/checkpoints_acc\\Model-epoch_85--val_categorical_accuracy_0.81\\assets\n",
      "Epoch 86/100\n",
      "1196/1196 [==============================] - 47s 39ms/step - loss: 0.5467 - categorical_accuracy: 0.8054 - val_loss: 0.7044 - val_categorical_accuracy: 0.7860\n",
      "\n",
      "Epoch 00086: val_loss did not improve from 0.67428\n",
      "\n",
      "Epoch 00086: val_categorical_accuracy did not improve from 0.80566\n",
      "Epoch 87/100\n",
      "1196/1196 [==============================] - 47s 39ms/step - loss: 0.5402 - categorical_accuracy: 0.8080 - val_loss: 0.6697 - val_categorical_accuracy: 0.8012\n",
      "\n",
      "Epoch 00087: val_loss improved from 0.67428 to 0.66972, saving model to d:\\project\\project/Checkpoints/checkpoints_loss\\Model-epoch_87--val_loss_0.67\n",
      "INFO:tensorflow:Assets written to: d:\\project\\project/Checkpoints/checkpoints_loss\\Model-epoch_87--val_loss_0.67\\assets\n",
      "\n",
      "Epoch 00087: val_categorical_accuracy did not improve from 0.80566\n",
      "Epoch 88/100\n",
      "1196/1196 [==============================] - 47s 39ms/step - loss: 0.5317 - categorical_accuracy: 0.8108 - val_loss: 0.6907 - val_categorical_accuracy: 0.7945\n",
      "\n",
      "Epoch 00088: val_loss did not improve from 0.66972\n",
      "\n",
      "Epoch 00088: val_categorical_accuracy did not improve from 0.80566\n",
      "Epoch 89/100\n",
      "1196/1196 [==============================] - 46s 39ms/step - loss: 0.5416 - categorical_accuracy: 0.8078 - val_loss: 0.7030 - val_categorical_accuracy: 0.8025\n",
      "\n",
      "Epoch 00089: val_loss did not improve from 0.66972\n",
      "\n",
      "Epoch 00089: val_categorical_accuracy did not improve from 0.80566\n",
      "Epoch 90/100\n",
      "1196/1196 [==============================] - 47s 39ms/step - loss: 0.5394 - categorical_accuracy: 0.8090 - val_loss: 0.6858 - val_categorical_accuracy: 0.7953\n",
      "\n",
      "Epoch 00090: val_loss did not improve from 0.66972\n",
      "\n",
      "Epoch 00090: val_categorical_accuracy did not improve from 0.80566\n",
      "Epoch 91/100\n",
      "1196/1196 [==============================] - 47s 40ms/step - loss: 0.5421 - categorical_accuracy: 0.8085 - val_loss: 0.7058 - val_categorical_accuracy: 0.7997\n",
      "\n",
      "Epoch 00091: val_loss did not improve from 0.66972\n",
      "\n",
      "Epoch 00091: val_categorical_accuracy did not improve from 0.80566\n",
      "Epoch 92/100\n",
      "1196/1196 [==============================] - 47s 39ms/step - loss: 0.5325 - categorical_accuracy: 0.8111 - val_loss: 0.6905 - val_categorical_accuracy: 0.8008\n",
      "\n",
      "Epoch 00092: val_loss did not improve from 0.66972\n",
      "\n",
      "Epoch 00092: val_categorical_accuracy did not improve from 0.80566\n",
      "Epoch 93/100\n",
      "1196/1196 [==============================] - 47s 39ms/step - loss: 0.5325 - categorical_accuracy: 0.8104 - val_loss: 0.6870 - val_categorical_accuracy: 0.8039\n",
      "\n",
      "Epoch 00093: val_loss did not improve from 0.66972\n",
      "\n",
      "Epoch 00093: val_categorical_accuracy did not improve from 0.80566\n",
      "Epoch 94/100\n",
      "1196/1196 [==============================] - 47s 39ms/step - loss: 0.5307 - categorical_accuracy: 0.8135 - val_loss: 0.6737 - val_categorical_accuracy: 0.8071\n",
      "\n",
      "Epoch 00094: val_loss did not improve from 0.66972\n",
      "\n",
      "Epoch 00094: val_categorical_accuracy improved from 0.80566 to 0.80706, saving model to d:\\project\\project/Checkpoints/checkpoints_acc\\Model-epoch_94--val_categorical_accuracy_0.81\n",
      "INFO:tensorflow:Assets written to: d:\\project\\project/Checkpoints/checkpoints_acc\\Model-epoch_94--val_categorical_accuracy_0.81\\assets\n",
      "Epoch 95/100\n",
      "1196/1196 [==============================] - 47s 39ms/step - loss: 0.5330 - categorical_accuracy: 0.8129 - val_loss: 0.6808 - val_categorical_accuracy: 0.8037\n",
      "\n",
      "Epoch 00095: val_loss did not improve from 0.66972\n",
      "\n",
      "Epoch 00095: val_categorical_accuracy did not improve from 0.80706\n",
      "Epoch 96/100\n",
      "1196/1196 [==============================] - 48s 40ms/step - loss: 0.5259 - categorical_accuracy: 0.8137 - val_loss: 0.7038 - val_categorical_accuracy: 0.8045\n",
      "\n",
      "Epoch 00096: val_loss did not improve from 0.66972\n",
      "\n",
      "Epoch 00096: val_categorical_accuracy did not improve from 0.80706\n",
      "Epoch 97/100\n",
      "1196/1196 [==============================] - 48s 40ms/step - loss: 0.5289 - categorical_accuracy: 0.8124 - val_loss: 0.7135 - val_categorical_accuracy: 0.7872\n",
      "\n",
      "Epoch 00097: val_loss did not improve from 0.66972\n",
      "\n",
      "Epoch 00097: val_categorical_accuracy did not improve from 0.80706\n",
      "Epoch 98/100\n",
      "1196/1196 [==============================] - 47s 39ms/step - loss: 0.5283 - categorical_accuracy: 0.8147 - val_loss: 0.6915 - val_categorical_accuracy: 0.8013\n",
      "\n",
      "Epoch 00098: val_loss did not improve from 0.66972\n",
      "\n",
      "Epoch 00098: val_categorical_accuracy did not improve from 0.80706\n",
      "Epoch 99/100\n",
      "1196/1196 [==============================] - 47s 39ms/step - loss: 0.5288 - categorical_accuracy: 0.8131 - val_loss: 0.6631 - val_categorical_accuracy: 0.8062\n",
      "\n",
      "Epoch 00099: val_loss improved from 0.66972 to 0.66312, saving model to d:\\project\\project/Checkpoints/checkpoints_loss\\Model-epoch_99--val_loss_0.66\n",
      "INFO:tensorflow:Assets written to: d:\\project\\project/Checkpoints/checkpoints_loss\\Model-epoch_99--val_loss_0.66\\assets\n",
      "\n",
      "Epoch 00099: val_categorical_accuracy did not improve from 0.80706\n",
      "Epoch 100/100\n",
      "1196/1196 [==============================] - 47s 39ms/step - loss: 0.5228 - categorical_accuracy: 0.8159 - val_loss: 0.6688 - val_categorical_accuracy: 0.8086\n",
      "\n",
      "Epoch 00100: val_loss did not improve from 0.66312\n",
      "\n",
      "Epoch 00100: val_categorical_accuracy improved from 0.80706 to 0.80859, saving model to d:\\project\\project/Checkpoints/checkpoints_acc\\Model-epoch_100--val_categorical_accuracy_0.81\n",
      "INFO:tensorflow:Assets written to: d:\\project\\project/Checkpoints/checkpoints_acc\\Model-epoch_100--val_categorical_accuracy_0.81\\assets\n"
     ]
    }
   ],
   "source": [
    "#%%time\n",
    "emotion_model_info = emotion_model.fit(\n",
    "        train_generator,\n",
    "        steps_per_epoch=train_sample_size // batch_size,\n",
    "        epochs=100,\n",
    "        validation_data=validation_generator,\n",
    "        validation_steps=validation_sample_size // batch_size,\n",
    "        callbacks=callback)"
   ]
  },
  {
   "cell_type": "code",
   "execution_count": 13,
   "metadata": {},
   "outputs": [
    {
     "name": "stdout",
     "output_type": "stream",
     "text": [
      "INFO:tensorflow:Assets written to: d:\\project\\project/Models/adam\\assets\n"
     ]
    }
   ],
   "source": [
    "path1 = path+'/Models'\n",
    "emotion_model1=emotion_model\n",
    "emotion_model1.save(path1+'/adam')\n",
    "emotion_model.save_weights(path1+f\"/adam_weights/emotion-reg-weight-{emotion_model_info.history['categorical_accuracy'][-1]}\"+\".h5\")"
   ]
  },
  {
   "cell_type": "code",
   "execution_count": 14,
   "metadata": {},
   "outputs": [],
   "source": [
    "# from tensorflow.keras.utils import plot_model\n",
    "# plot_model(emotion_model1, to_file='adam-model.png')"
   ]
  },
  {
   "cell_type": "code",
   "execution_count": 15,
   "metadata": {},
   "outputs": [
    {
     "name": "stdout",
     "output_type": "stream",
     "text": [
      "dict_keys(['loss', 'categorical_accuracy', 'val_loss', 'val_categorical_accuracy'])\n"
     ]
    },
    {
     "data": {
      "image/png": "[encoded data removed]",
      "text/plain": [
       "<Figure size 432x288 with 1 Axes>"
      ]
     },
     "metadata": {
      "needs_background": "light"
     },
     "output_type": "display_data"
    },
    {
     "data": {
      "image/png": "[encoded data removed]",
      "text/plain": [
       "<Figure size 432x288 with 1 Axes>"
      ]
     },
     "metadata": {
      "needs_background": "light"
     },
     "output_type": "display_data"
    }
   ],
   "source": [
    "# list all data in history\n",
    "print(emotion_model_info.history.keys())\n",
    "# summarize history for accuracy\n",
    "plt.plot(emotion_model_info.history['categorical_accuracy'])\n",
    "plt.plot(emotion_model_info.history['val_categorical_accuracy'])\n",
    "plt.title('Adam optimiser - model accuracy')\n",
    "plt.ylabel('accuracy')\n",
    "plt.xlabel('epoch')\n",
    "plt.legend(['train', 'test'], loc='upper left')\n",
    "plt.show()\n",
    "# summarize history for loss\n",
    "plt.plot(emotion_model_info.history['loss'])\n",
    "plt.plot(emotion_model_info.history['val_loss'])\n",
    "plt.title('Adam optimiser - model loss')\n",
    "plt.ylabel('loss')\n",
    "plt.xlabel('epoch')\n",
    "plt.legend(['train', 'test'], loc='upper left')\n",
    "plt.show()"
   ]
  },
  {
   "cell_type": "markdown",
   "metadata": {},
   "source": [
    "-----------------------------------------------------------------------------------------------------------------------------------------------"
   ]
  },
  {
   "cell_type": "code",
   "execution_count": null,
   "metadata": {},
   "outputs": [],
   "source": [
    "%load_ext tensorboard\n",
    "%tensorboard --logdir path+'/Tensorboard/'"
   ]
  },
  {
   "cell_type": "markdown",
   "metadata": {},
   "source": [
    "-------------------------------------------------------------------------------------------------------------------------------------------------"
   ]
  },
  {
   "cell_type": "markdown",
   "metadata": {},
   "source": [
    "**Convolution Matrix**"
   ]
  },
  {
   "cell_type": "code",
   "execution_count": 17,
   "metadata": {},
   "outputs": [],
   "source": [
    "from sklearn.metrics import confusion_matrix, classification_report"
   ]
  },
  {
   "cell_type": "code",
   "execution_count": 18,
   "metadata": {},
   "outputs": [
    {
     "name": "stdout",
     "output_type": "stream",
     "text": [
      "['angry', 'disgust', 'fear', 'happy', 'neutral', 'sad', 'surprise']\n"
     ]
    }
   ],
   "source": [
    "target_names = list(emotion_dict.values())\n",
    "print(target_names)"
   ]
  },
  {
   "cell_type": "code",
   "execution_count": 19,
   "metadata": {},
   "outputs": [
    {
     "name": "stdout",
     "output_type": "stream",
     "text": [
      "confusion matrix\n",
      "[[1208 1451 1197 2089 1352 1321 1393]\n",
      " [1271 1329 1215 2040 1391 1374 1390]\n",
      " [1195 1332 1163 2113 1435 1390 1383]\n",
      " [2030 2222 1886 3391 2233 2222 2280]\n",
      " [1225 1358 1130 2169 1345 1375 1435]\n",
      " [1276 1416 1119 2223 1412 1350 1437]\n",
      " [1300 1367 1135 2140 1352 1341 1376]]\n"
     ]
    }
   ],
   "source": [
    "y_pred=emotion_model.predict(train_generator)\n",
    "y_pred=np.argmax(y_pred,axis=1)\n",
    "print('confusion matrix')\n",
    "cm=confusion_matrix(train_generator.classes,y_pred)\n",
    "print(cm)"
   ]
  },
  {
   "cell_type": "code",
   "execution_count": 20,
   "metadata": {},
   "outputs": [
    {
     "name": "stdout",
     "output_type": "stream",
     "text": [
      "confusion matrix\n",
      "[[142  23 111 227 148 186 121]\n",
      " [  7   3  14  28  21  25  13]\n",
      " [137  19 132 226 181 195 134]\n",
      " [239  29 206 424 321 345 210]\n",
      " [187  23 138 294 207 233 151]\n",
      " [168  30 147 306 208 235 153]\n",
      " [101  18  95 225 131 160 101]]\n"
     ]
    }
   ],
   "source": [
    "y_pred=emotion_model.predict(validation_generator)\n",
    "y_pred=np.argmax(y_pred,axis=1)\n",
    "print('confusion matrix')\n",
    "cm=confusion_matrix(validation_generator.classes,y_pred)\n",
    "print(cm)"
   ]
  },
  {
   "cell_type": "code",
   "execution_count": 21,
   "metadata": {},
   "outputs": [
    {
     "name": "stderr",
     "output_type": "stream",
     "text": [
      "C:\\Users\\logesh\\AppData\\Local\\Temp/ipykernel_4128/2774912854.py:6: UserWarning: FixedFormatter should only be used together with FixedLocator\n",
      "  ax.set_xticklabels([''] + target_names)\n",
      "C:\\Users\\logesh\\AppData\\Local\\Temp/ipykernel_4128/2774912854.py:7: UserWarning: FixedFormatter should only be used together with FixedLocator\n",
      "  ax.set_yticklabels([''] + target_names)\n"
     ]
    },
    {
     "data": {
      "image/png": "[encoded data removed]",
      "text/plain": [
       "<Figure size 432x288 with 2 Axes>"
      ]
     },
     "metadata": {
      "needs_background": "light"
     },
     "output_type": "display_data"
    }
   ],
   "source": [
    "fig=plt.figure()\n",
    "ax=fig.add_subplot(111)\n",
    "cax=ax.matshow(cm)\n",
    "plt.title('confusion matrix of the classifier\\n')\n",
    "fig.colorbar(cax)\n",
    "ax.set_xticklabels([''] + target_names)\n",
    "ax.set_yticklabels([''] + target_names)\n",
    "plt.xlabel('predicted')\n",
    "plt.ylabel('True')\n",
    "plt.show()"
   ]
  },
  {
   "cell_type": "code",
   "execution_count": 22,
   "metadata": {},
   "outputs": [
    {
     "name": "stdout",
     "output_type": "stream",
     "text": [
      "[0 0 0 ... 6 6 6]\n",
      "Confusion Matrix\n",
      "[[114  15 110 228 171 187 133]\n",
      " [ 16   3  18  23  20  20  11]\n",
      " [143  24 124 241 172 199 121]\n",
      " [259  30 186 420 307 352 220]\n",
      " [168  31 152 308 185 236 153]\n",
      " [169  23 149 306 213 237 150]\n",
      " [112  19 104 204 149 148  95]]\n"
     ]
    }
   ],
   "source": [
    "Y_pred = emotion_model.predict(validation_generator, 400 // 4)\n",
    "\n",
    "y_pred = np.argmax(Y_pred, axis=1)\n",
    "print(validation_generator.classes)\n",
    "\n",
    "print('Confusion Matrix')\n",
    "\n",
    "cfm = confusion_matrix(validation_generator.classes, y_pred)\n",
    "\n",
    "print(cfm)"
   ]
  },
  {
   "cell_type": "code",
   "execution_count": 23,
   "metadata": {},
   "outputs": [
    {
     "name": "stdout",
     "output_type": "stream",
     "text": [
      "              precision    recall  f1-score   support\n",
      "\n",
      "           0       0.12      0.12      0.12       958\n",
      "           1       0.02      0.03      0.02       111\n",
      "           2       0.15      0.12      0.13      1024\n",
      "           3       0.24      0.24      0.24      1774\n",
      "           4       0.15      0.15      0.15      1233\n",
      "           5       0.17      0.19      0.18      1247\n",
      "           6       0.11      0.11      0.11       831\n",
      "\n",
      "    accuracy                           0.16      7178\n",
      "   macro avg       0.14      0.14      0.14      7178\n",
      "weighted avg       0.17      0.16      0.16      7178\n",
      "\n"
     ]
    }
   ],
   "source": [
    "print(classification_report(validation_generator.classes,y_pred))"
   ]
  },
  {
   "cell_type": "markdown",
   "metadata": {},
   "source": [
    "--------------------------------------------------------------------------------------------------------------------------------------------"
   ]
  },
  {
   "cell_type": "code",
   "execution_count": 24,
   "metadata": {},
   "outputs": [],
   "source": [
    "# %%javascript\n",
    "# IPython.notebook.save_notebook()"
   ]
  },
  {
   "cell_type": "code",
   "execution_count": 25,
   "metadata": {},
   "outputs": [],
   "source": [
    "# #pip install twilio\n",
    "# from twilio.rest import Client"
   ]
  },
  {
   "cell_type": "code",
   "execution_count": 26,
   "metadata": {},
   "outputs": [],
   "source": [
    "# import json\n",
    " \n",
    "# # Opening JSON file\n",
    "# f = open(path+'/twilo.json')\n",
    " \n",
    "# # returns JSON object as\n",
    "# # a dictionary\n",
    "# data = json.load(f)\n",
    " \n",
    "# # Iterating through the json\n",
    "# # list\n",
    "# print(data)\n",
    " \n",
    "# # Closing file\n",
    "# f.close()"
   ]
  },
  {
   "cell_type": "code",
   "execution_count": 27,
   "metadata": {},
   "outputs": [],
   "source": [
    "# message =f\"Accuracy : {emotion_model_info.history['categorical_accuracy'][-1]} Loss : {emotion_model_info.history['loss'][-1]} val_accuracy : {emotion_model_info.history['val_categorical_accuracy'][-1]} val_loss : {emotion_model_info.history['val_loss'][-1]}\"\n",
    "\n",
    "# # # Your Account Sid and Auth Token from twilio account\n",
    "\n",
    "# # # instantiating the Client\n",
    "# client = Client(data['account_sid'], data['auth_token'])\n",
    "# # # sending message\n",
    "# message = client.messages.create(body=message, from_= '+917305746782', to='+917305746782')\n",
    "# # # printing the sid after success\n",
    "# print(message.sid)"
   ]
  },
  {
   "cell_type": "code",
   "execution_count": 28,
   "metadata": {},
   "outputs": [
    {
     "data": {
      "text/plain": [
       "10011"
      ]
     },
     "execution_count": 28,
     "metadata": {},
     "output_type": "execute_result"
    }
   ],
   "source": [
    "import os\n",
    "len(os.listdir(path+'/dataset/FacialExpression-Dataset/Train/angry'))"
   ]
  },
  {
   "cell_type": "code",
   "execution_count": 29,
   "metadata": {},
   "outputs": [],
   "source": [
    "# #compress tensorboard data and check ponits\n",
    "# checkpoints = shutil.make_archive('Checkpoints', \"zip\", path+'/Checkpoints/zip')\n",
    "# tensorboard = shutil.make_archive('Tensorboard',\"zip\",path+'/Tensorboard/zip')"
   ]
  },
  {
   "cell_type": "code",
   "execution_count": 30,
   "metadata": {},
   "outputs": [],
   "source": [
    "# from google.colab import files\n",
    "# from shutil import  copy2\n",
    "\n",
    "# t = input(\"C to copy to drive , D to download\")\n",
    "# if t == 'c' or t == 'C':\n",
    "#   copy2('/content/Checkpoints.zip','/content/drive/MyDrive/7thSem_project/Checkpoints.zip')\n",
    "#   copy2('/content/Tensorboard.zip','/content/drive/MyDrive/7thSem_project/Tensorboard.zip')\n",
    "# elif t == 'd' or t =='D':\n",
    "\n",
    "#   files.download('/content/Checkpoints.zip')\n",
    "\n",
    "#   files.download('/content/Tensorboard.zip')"
   ]
  },
  {
   "cell_type": "markdown",
   "metadata": {},
   "source": [
    "------------------------------------------------------------------------------------------------------------------------------------------------------"
   ]
  },
  {
   "cell_type": "code",
   "execution_count": 31,
   "metadata": {},
   "outputs": [],
   "source": [
    "# import cv2\n",
    "# import numpy as np"
   ]
  },
  {
   "cell_type": "code",
   "execution_count": 32,
   "metadata": {},
   "outputs": [],
   "source": [
    "# # start the webcam feed\n",
    "# cap = cv2.VideoCapture(0)\n",
    "# while True:\n",
    "#     # Find haar cascade to draw bounding box around face\n",
    "#     ret, frame = cap.read()\n",
    "#     if not ret:\n",
    "#         break\n",
    "#     bounding_box = cv2.CascadeClassifier('C:\\\\Users\\\\logesh\\\\AppData\\\\Local\\\\Programs\\\\Python\\\\Python39\\\\Lib\\\\site-packages\\\\cv2\\\\data\\\\haarcascade_frontalface_default.xml')\n",
    "#     gray_frame = cv2.cvtColor(frame, cv2.COLOR_BGR2GRAY)\n",
    "#     num_faces = bounding_box.detectMultiScale(gray_frame,scaleFactor=1.3, minNeighbors=5)\n",
    "\n",
    "#     for (x, y, w, h) in num_faces:\n",
    "#         cv2.rectangle(frame, (x, y-50), (x+w, y+h+10), (255, 0, 0), 2)\n",
    "#         roi_gray_frame = gray_frame[y:y + h, x:x + w]\n",
    "#         cropped_img = np.expand_dims(np.expand_dims(cv2.resize(roi_gray_frame, (48, 48)), -1), 0)\n",
    "#         emotion_prediction = emotion_model.predict(cropped_img)\n",
    "#         maxindex = int(np.argmax(emotion_prediction))\n",
    "#         cv2.putText(frame, emotion_dict[maxindex], (x+20, y-60), cv2.FONT_HERSHEY_SIMPLEX, 1, (255, 255, 255), 2, cv2.LINE_AA)\n",
    "\n",
    "#     cv2.imshow('Facial Expression', cv2.resize(frame,(1200,860),interpolation = cv2.INTER_CUBIC))    \n",
    "#     if cv2.waitKey(1) & 0xFF == ord('q'):\n",
    "#         break"
   ]
  },
  {
   "cell_type": "code",
   "execution_count": 33,
   "metadata": {},
   "outputs": [],
   "source": [
    "# cap.release()\n",
    "# cv2.destroyAllWindows()"
   ]
  },
  {
   "cell_type": "code",
   "execution_count": 34,
   "metadata": {},
   "outputs": [],
   "source": [
    "stop_cuda()"
   ]
  },
  {
   "cell_type": "code",
   "execution_count": 1,
   "id": "84a3e318",
   "metadata": {},
   "outputs": [],
   "source": [
    "# import seaborn\n",
    "# import matplotlib.pyplot as plt\n",
    " \n",
    " \n",
    "# def plot_confusion_matrix(data, labels, output_filename):\n",
    "#     \"\"\"Plot confusion matrix using heatmap.\n",
    " \n",
    "#     Args:\n",
    "#         data (list of list): List of lists with confusion matrix data.\n",
    "#         labels (list): Labels which will be plotted across x and y axis.\n",
    "#         output_filename (str): Path to output file.\n",
    " \n",
    "#     \"\"\"\n",
    "#     seaborn.set(color_codes=True)\n",
    "#     plt.figure(1, figsize=(16, 10))\n",
    " \n",
    "#     plt.title(\"Confusion Matrix\")\n",
    " \n",
    "#     seaborn.set(font_scale=1.4)\n",
    "#     ax = seaborn.heatmap(data, fmt='g', annot=True, cmap=\"YlGnBu\", cbar_kws={'label': 'Scale'})\n",
    " \n",
    "#     ax.set_xticklabels(labels)\n",
    "#     ax.set_yticklabels(labels)\n",
    " \n",
    "#     ax.set(ylabel=\"True Label\", xlabel=\"Predicted Label\")\n",
    "#     plt.show()\n",
    "#     plt.savefig(output_filename, bbox_inches='tight', dpi=300)\n",
    "#     plt.close()\n",
    "\n",
    "\n",
    "# cm = [[114,  15, 110, 228, 171, 187, 133],\n",
    "#  [ 16,   3,  18,  23,  20,  20,  11],\n",
    "#  [143,  24, 124, 241, 172, 199, 121],\n",
    "#  [259,  30, 186, 420, 307, 352, 220],\n",
    "#  [168,  31, 152, 308, 185, 236, 153],\n",
    "#  [169,  23, 149, 306, 213, 237, 150],\n",
    "#  [112,  19, 104, 204, 149, 148,  95]]\n",
    "# target_names = ['angry', 'disgust', 'fear', 'happy', 'neutral', 'sad', 'surprise']\n",
    " "
   ]
  },
  {
   "cell_type": "code",
   "execution_count": 2,
   "id": "e56a9110",
   "metadata": {},
   "outputs": [
    {
     "data": {
      "image/png": "[encoded data removed]",
      "text/plain": [
       "<Figure size 1152x720 with 2 Axes>"
      ]
     },
     "metadata": {},
     "output_type": "display_data"
    }
   ],
   "source": [
    "# plot_confusion_matrix(cm, target_names, \"adam_confusion_matrix.png\")"
   ]
  },
  {
   "cell_type": "code",
   "execution_count": 4,
   "metadata": {},
   "outputs": [
    {
     "name": "stdout",
     "output_type": "stream",
     "text": [
      "         Accuracy  Validate_Accuracy\n",
      "SGD         87.59              83.59\n",
      "Adagrad     89.66              83.83\n",
      "Adam        81.59              80.86\n",
      "Nadam       82.67              81.01\n"
     ]
    }
   ],
   "source": [
    "# import pandas as pd\n",
    "# acc = [87.59,89.66,81.59,82.67]\n",
    "# val = [83.59,83.83,80.86,81.01]\n",
    "# model = ['SGD','Adagrad','Adam','Nadam']\n",
    "# epoch = [78,56,100,101]\n",
    "\n",
    "# df = pd.DataFrame({'Accuracy': acc,\n",
    "#                    'Validate_Accuracy': val}, index=model)\n",
    "# print(df)"
   ]
  }
 ],
 "metadata": {
  "kernelspec": {
   "display_name": "Python 3.9.0 64-bit",
   "language": "python",
   "name": "python3"
  },
  "language_info": {
   "codemirror_mode": {
    "name": "ipython",
    "version": 3
   },
   "file_extension": ".py",
   "mimetype": "text/x-python",
   "name": "python",
   "nbconvert_exporter": "python",
   "pygments_lexer": "ipython3",
   "version": "3.9.0"
  },
  "vscode": {
   "interpreter": {
    "hash": "830f0125b009c1ba3feaab44ce764bea97d81b327b5bd7e84564a80c83019ea2"
   }
  }
 },
 "nbformat": 4,
 "nbformat_minor": 5
}
