{
 "cells": [
  {
   "cell_type": "code",
   "execution_count": 1,
   "metadata": {},
   "outputs": [],
   "source": [
    "from tensorflow.keras.models import Sequential\n",
    "from tensorflow.keras.layers import Dense, Dropout, Flatten\n",
    "from tensorflow.keras.layers import Conv2D\n",
    "from tensorflow.keras.optimizers import Nadam\n",
    "from tensorflow.keras.layers import MaxPooling2D\n",
    "from tensorflow.keras.preprocessing.image import ImageDataGenerator\n",
    "import matplotlib.pyplot as plt\n",
    "from tensorflow.keras import regularizers\n",
    "from tensorflow.keras.callbacks import ModelCheckpoint ,TensorBoard, EarlyStopping\n",
    "import tensorflow as tf\n",
    "import datetime, IPython\n",
    "import numpy as np\n",
    "import os\n"
   ]
  },
  {
   "cell_type": "code",
   "execution_count": 2,
   "metadata": {},
   "outputs": [
    {
     "name": "stdout",
     "output_type": "stream",
     "text": [
      "True\n",
      "[PhysicalDevice(name='/physical_device:GPU:0', device_type='GPU')]\n"
     ]
    }
   ],
   "source": [
    "config=tf.compat.v1.ConfigProto()\n",
    "config.gpu_options.allow_growth = True\n",
    "sess=tf.compat.v1.Session(config=config)\n",
    "print(tf.test.is_built_with_cuda())\n",
    "print(tf.config.list_physical_devices('GPU')) \n"
   ]
  },
  {
   "cell_type": "code",
   "execution_count": 3,
   "metadata": {},
   "outputs": [],
   "source": [
    "def stop_cuda():\n",
    "    from numba import cuda \n",
    "    device = cuda.get_current_device()\n",
    "    device.reset()"
   ]
  },
  {
   "cell_type": "code",
   "execution_count": 4,
   "metadata": {},
   "outputs": [],
   "source": [
    "path = os.getcwd()"
   ]
  },
  {
   "cell_type": "code",
   "execution_count": 5,
   "metadata": {},
   "outputs": [
    {
     "name": "stdout",
     "output_type": "stream",
     "text": [
      "Train :  d:\\project\\project/dataset/FacialExpression-Dataset/Train\n",
      "Val :  d:\\project\\project/dataset/FacialExpression-Dataset/Test\n"
     ]
    }
   ],
   "source": [
    "#train_dir = '/home/jidesh/ML/CNN/Facial-expression/data/train'\n",
    "train_dir = path+'/dataset/FacialExpression-Dataset/Train'\n",
    "val_dir = path+'/dataset/FacialExpression-Dataset/Test'\n",
    "\n",
    "checkpoint_losspath = path+'/Checkpoints/checkpoints_loss/Model-epoch_{epoch:02d}--val_loss_{val_loss:.2f}'\n",
    "checkpoint_accpath = path+'/Checkpoints/checkpoints_acc/Model-epoch_{epoch:02d}--val_categorical_accuracy_{val_categorical_accuracy:.2f}'\n",
    "\n",
    "\n",
    "train_datagen = ImageDataGenerator(rescale=1./255)\n",
    "val_datagen = ImageDataGenerator(rescale=1./255)\n",
    "batch_size = 64\n",
    "img_width = 48\n",
    "img_height = 48\n",
    "\n",
    "print(\"Train : \",train_dir)\n",
    "print(\"Val : \",val_dir)"
   ]
  },
  {
   "cell_type": "code",
   "execution_count": 6,
   "metadata": {},
   "outputs": [
    {
     "name": "stdout",
     "output_type": "stream",
     "text": [
      "Found 76577 images belonging to 7 classes.\n",
      "Found 7178 images belonging to 7 classes.\n"
     ]
    }
   ],
   "source": [
    "train_generator = train_datagen.flow_from_directory(\n",
    "        train_dir,\n",
    "        target_size=(img_width,img_height),\n",
    "        batch_size=batch_size,\n",
    "        color_mode=\"grayscale\",\n",
    "        class_mode='categorical')\n",
    "\n",
    "validation_generator = val_datagen.flow_from_directory(\n",
    "        val_dir,\n",
    "        target_size=(img_width,img_height),\n",
    "        batch_size=batch_size,\n",
    "        color_mode=\"grayscale\",\n",
    "        class_mode='categorical')\n"
   ]
  },
  {
   "cell_type": "code",
   "execution_count": 7,
   "metadata": {},
   "outputs": [
    {
     "name": "stdout",
     "output_type": "stream",
     "text": [
      "Train set size : 76577 class : {'angry': 0, 'disgust': 1, 'fear': 2, 'happy': 3, 'neutral': 4, 'sad': 5, 'surprise': 6} no.of : 7\n",
      "validate set size : 7178 class : {'angry': 0, 'disgust': 1, 'fear': 2, 'happy': 3, 'neutral': 4, 'sad': 5, 'surprise': 6} no.of : 7\n"
     ]
    }
   ],
   "source": [
    "print(\"Train set size : {} class : {} no.of : {}\".format(train_generator.samples,train_generator.class_indices,train_generator.num_classes))\n",
    "train_sample_size = train_generator.samples\n",
    "validation_sample_size = validation_generator.samples\n",
    "print(\"validate set size : {} class : {} no.of : {}\".format(validation_generator.samples,validation_generator.class_indices,validation_generator.num_classes))"
   ]
  },
  {
   "cell_type": "code",
   "execution_count": 8,
   "metadata": {},
   "outputs": [],
   "source": [
    "emotion_model = Sequential()\n",
    " \n",
    "emotion_model.add(Conv2D(32, kernel_size=(3, 3), activation='relu', padding='same',input_shape=(img_height,img_width,1)))\n",
    "emotion_model.add(Conv2D(64, kernel_size=(3, 3), activation='relu', padding='same'))\n",
    "emotion_model.add(MaxPooling2D(pool_size=(2, 2)))\n",
    "emotion_model.add(Dropout(0.3))\n",
    " \n",
    "emotion_model.add(Conv2D(128, kernel_size=(3, 3), activation='relu', padding='same'))\n",
    "emotion_model.add(MaxPooling2D(pool_size=(2, 2)))\n",
    "emotion_model.add(Conv2D(512, kernel_size=(3, 3), activation='relu', padding='same'))\n",
    "emotion_model.add(MaxPooling2D(pool_size=(2, 2)))\n",
    "emotion_model.add(Dropout(0.3))\n",
    "\n",
    "\n",
    "emotion_model.add(Conv2D(256, kernel_size=(3, 3), activation='relu', padding='same'))\n",
    "\n",
    "emotion_model.add(MaxPooling2D(pool_size=(2, 2)))\n",
    "emotion_model.add(Dropout(0.3))\n",
    " \n",
    "emotion_model.add(Flatten())\n",
    "emotion_model.add(Dense(1024, activation='relu'))\n",
    "emotion_model.add(Dropout(0.5))\n",
    "emotion_model.add(Dense(train_generator.num_classes, activation='softmax'))\n",
    "################################################################################\n",
    "#emotion_model.load_weights(path+'/Models/emotion-reg-weight-0.8510841131210327.h5')"
   ]
  },
  {
   "cell_type": "code",
   "execution_count": 9,
   "metadata": {},
   "outputs": [
    {
     "name": "stdout",
     "output_type": "stream",
     "text": [
      "{'angry': 0, 'disgust': 1, 'fear': 2, 'happy': 3, 'neutral': 4, 'sad': 5, 'surprise': 6}\n",
      "{0: 'angry', 1: 'disgust', 2: 'fear', 3: 'happy', 4: 'neutral', 5: 'sad', 6: 'surprise'}\n"
     ]
    }
   ],
   "source": [
    "emotion_dict = train_generator.class_indices\n",
    "print(emotion_dict)\n",
    "#swapping key and values in dictionary\n",
    "emotion_dict={value:key for key, value in emotion_dict.items()}\n",
    "print(emotion_dict)"
   ]
  },
  {
   "cell_type": "code",
   "execution_count": 10,
   "metadata": {},
   "outputs": [],
   "source": [
    "checkpoint_loss = ModelCheckpoint(\n",
    "    filepath=checkpoint_losspath,\n",
    "    save_best_only=True,\n",
    "    monitor='val_loss',\n",
    "    mode='min',\n",
    "    verbose =1\n",
    ")\n",
    "checkpoint_acc = ModelCheckpoint(\n",
    "    filepath=checkpoint_accpath,\n",
    "    save_best_only=True,\n",
    "    monitor='val_categorical_accuracy',\n",
    "    mode='max',\n",
    "    verbose =1\n",
    ")\n",
    "earlystop = EarlyStopping(monitor='val_loss', patience=20,mode='min')\n",
    "#Tensorboard\n",
    "time1 = (datetime.datetime.now() ).strftime('%c')\n",
    "time1 = time1.replace(':','_')\n",
    "#time1 = time1.replace(' ','_')\n",
    "tensorboard = TensorBoard(path+'/Tensorboard/'+time1)\n",
    "callback = [checkpoint_loss,checkpoint_acc,tensorboard,earlystop]"
   ]
  },
  {
   "cell_type": "markdown",
   "metadata": {},
   "source": [
    "--------------------------------------------------------------------------------------------------------------------------------------------------"
   ]
  },
  {
   "cell_type": "markdown",
   "metadata": {},
   "source": [
    "**Nadam Optimiser**"
   ]
  },
  {
   "cell_type": "code",
   "execution_count": 11,
   "metadata": {},
   "outputs": [
    {
     "name": "stdout",
     "output_type": "stream",
     "text": [
      "Model: \"sequential\"\n",
      "_________________________________________________________________\n",
      "Layer (type)                 Output Shape              Param #   \n",
      "=================================================================\n",
      "conv2d (Conv2D)              (None, 48, 48, 32)        320       \n",
      "_________________________________________________________________\n",
      "conv2d_1 (Conv2D)            (None, 48, 48, 64)        18496     \n",
      "_________________________________________________________________\n",
      "max_pooling2d (MaxPooling2D) (None, 24, 24, 64)        0         \n",
      "_________________________________________________________________\n",
      "dropout (Dropout)            (None, 24, 24, 64)        0         \n",
      "_________________________________________________________________\n",
      "conv2d_2 (Conv2D)            (None, 24, 24, 128)       73856     \n",
      "_________________________________________________________________\n",
      "max_pooling2d_1 (MaxPooling2 (None, 12, 12, 128)       0         \n",
      "_________________________________________________________________\n",
      "conv2d_3 (Conv2D)            (None, 12, 12, 512)       590336    \n",
      "_________________________________________________________________\n",
      "max_pooling2d_2 (MaxPooling2 (None, 6, 6, 512)         0         \n",
      "_________________________________________________________________\n",
      "dropout_1 (Dropout)          (None, 6, 6, 512)         0         \n",
      "_________________________________________________________________\n",
      "conv2d_4 (Conv2D)            (None, 6, 6, 256)         1179904   \n",
      "_________________________________________________________________\n",
      "max_pooling2d_3 (MaxPooling2 (None, 3, 3, 256)         0         \n",
      "_________________________________________________________________\n",
      "dropout_2 (Dropout)          (None, 3, 3, 256)         0         \n",
      "_________________________________________________________________\n",
      "flatten (Flatten)            (None, 2304)              0         \n",
      "_________________________________________________________________\n",
      "dense (Dense)                (None, 1024)              2360320   \n",
      "_________________________________________________________________\n",
      "dropout_3 (Dropout)          (None, 1024)              0         \n",
      "_________________________________________________________________\n",
      "dense_1 (Dense)              (None, 7)                 7175      \n",
      "=================================================================\n",
      "Total params: 4,230,407\n",
      "Trainable params: 4,230,407\n",
      "Non-trainable params: 0\n",
      "_________________________________________________________________\n"
     ]
    }
   ],
   "source": [
    "emotion_model.compile(loss='categorical_crossentropy',optimizer=Nadam(learning_rate=0.001),metrics=['categorical_accuracy'])\n",
    "emotion_model.summary()"
   ]
  },
  {
   "cell_type": "code",
   "execution_count": 12,
   "metadata": {},
   "outputs": [
    {
     "name": "stdout",
     "output_type": "stream",
     "text": [
      "Epoch 1/120\n",
      "1196/1196 [==============================] - 67s 52ms/step - loss: 1.6095 - categorical_accuracy: 0.3718 - val_loss: 1.3348 - val_categorical_accuracy: 0.4951\n",
      "\n",
      "Epoch 00001: val_loss improved from inf to 1.33476, saving model to d:\\project\\project/Checkpoints/checkpoints_loss\\Model-epoch_01--val_loss_1.33\n",
      "INFO:tensorflow:Assets written to: d:\\project\\project/Checkpoints/checkpoints_loss\\Model-epoch_01--val_loss_1.33\\assets\n",
      "\n",
      "Epoch 00001: val_categorical_accuracy improved from -inf to 0.49512, saving model to d:\\project\\project/Checkpoints/checkpoints_acc\\Model-epoch_01--val_categorical_accuracy_0.50\n",
      "INFO:tensorflow:Assets written to: d:\\project\\project/Checkpoints/checkpoints_acc\\Model-epoch_01--val_categorical_accuracy_0.50\\assets\n",
      "Epoch 2/120\n",
      "1196/1196 [==============================] - 59s 49ms/step - loss: 1.2071 - categorical_accuracy: 0.5447 - val_loss: 1.1738 - val_categorical_accuracy: 0.5646\n",
      "\n",
      "Epoch 00002: val_loss improved from 1.33476 to 1.17377, saving model to d:\\project\\project/Checkpoints/checkpoints_loss\\Model-epoch_02--val_loss_1.17\n",
      "INFO:tensorflow:Assets written to: d:\\project\\project/Checkpoints/checkpoints_loss\\Model-epoch_02--val_loss_1.17\\assets\n",
      "\n",
      "Epoch 00002: val_categorical_accuracy improved from 0.49512 to 0.56459, saving model to d:\\project\\project/Checkpoints/checkpoints_acc\\Model-epoch_02--val_categorical_accuracy_0.56\n",
      "INFO:tensorflow:Assets written to: d:\\project\\project/Checkpoints/checkpoints_acc\\Model-epoch_02--val_categorical_accuracy_0.56\\assets\n",
      "Epoch 3/120\n",
      "1196/1196 [==============================] - 59s 49ms/step - loss: 1.0823 - categorical_accuracy: 0.5957 - val_loss: 1.0616 - val_categorical_accuracy: 0.6091\n",
      "\n",
      "Epoch 00003: val_loss improved from 1.17377 to 1.06161, saving model to d:\\project\\project/Checkpoints/checkpoints_loss\\Model-epoch_03--val_loss_1.06\n",
      "INFO:tensorflow:Assets written to: d:\\project\\project/Checkpoints/checkpoints_loss\\Model-epoch_03--val_loss_1.06\\assets\n",
      "\n",
      "Epoch 00003: val_categorical_accuracy improved from 0.56459 to 0.60910, saving model to d:\\project\\project/Checkpoints/checkpoints_acc\\Model-epoch_03--val_categorical_accuracy_0.61\n",
      "INFO:tensorflow:Assets written to: d:\\project\\project/Checkpoints/checkpoints_acc\\Model-epoch_03--val_categorical_accuracy_0.61\\assets\n",
      "Epoch 4/120\n",
      "1196/1196 [==============================] - 59s 49ms/step - loss: 1.0089 - categorical_accuracy: 0.6215 - val_loss: 1.0244 - val_categorical_accuracy: 0.6186\n",
      "\n",
      "Epoch 00004: val_loss improved from 1.06161 to 1.02442, saving model to d:\\project\\project/Checkpoints/checkpoints_loss\\Model-epoch_04--val_loss_1.02\n",
      "INFO:tensorflow:Assets written to: d:\\project\\project/Checkpoints/checkpoints_loss\\Model-epoch_04--val_loss_1.02\\assets\n",
      "\n",
      "Epoch 00004: val_categorical_accuracy improved from 0.60910 to 0.61858, saving model to d:\\project\\project/Checkpoints/checkpoints_acc\\Model-epoch_04--val_categorical_accuracy_0.62\n",
      "INFO:tensorflow:Assets written to: d:\\project\\project/Checkpoints/checkpoints_acc\\Model-epoch_04--val_categorical_accuracy_0.62\\assets\n",
      "Epoch 5/120\n",
      "1196/1196 [==============================] - 59s 49ms/step - loss: 0.9630 - categorical_accuracy: 0.6415 - val_loss: 0.9743 - val_categorical_accuracy: 0.6348\n",
      "\n",
      "Epoch 00005: val_loss improved from 1.02442 to 0.97426, saving model to d:\\project\\project/Checkpoints/checkpoints_loss\\Model-epoch_05--val_loss_0.97\n",
      "INFO:tensorflow:Assets written to: d:\\project\\project/Checkpoints/checkpoints_loss\\Model-epoch_05--val_loss_0.97\\assets\n",
      "\n",
      "Epoch 00005: val_categorical_accuracy improved from 0.61858 to 0.63477, saving model to d:\\project\\project/Checkpoints/checkpoints_acc\\Model-epoch_05--val_categorical_accuracy_0.63\n",
      "INFO:tensorflow:Assets written to: d:\\project\\project/Checkpoints/checkpoints_acc\\Model-epoch_05--val_categorical_accuracy_0.63\\assets\n",
      "Epoch 6/120\n",
      "1196/1196 [==============================] - 59s 49ms/step - loss: 0.9203 - categorical_accuracy: 0.6584 - val_loss: 0.9423 - val_categorical_accuracy: 0.6521\n",
      "\n",
      "Epoch 00006: val_loss improved from 0.97426 to 0.94225, saving model to d:\\project\\project/Checkpoints/checkpoints_loss\\Model-epoch_06--val_loss_0.94\n",
      "INFO:tensorflow:Assets written to: d:\\project\\project/Checkpoints/checkpoints_loss\\Model-epoch_06--val_loss_0.94\\assets\n",
      "\n",
      "Epoch 00006: val_categorical_accuracy improved from 0.63477 to 0.65206, saving model to d:\\project\\project/Checkpoints/checkpoints_acc\\Model-epoch_06--val_categorical_accuracy_0.65\n",
      "INFO:tensorflow:Assets written to: d:\\project\\project/Checkpoints/checkpoints_acc\\Model-epoch_06--val_categorical_accuracy_0.65\\assets\n",
      "Epoch 7/120\n",
      "1196/1196 [==============================] - 59s 49ms/step - loss: 0.8962 - categorical_accuracy: 0.6674 - val_loss: 0.9460 - val_categorical_accuracy: 0.6540\n",
      "\n",
      "Epoch 00007: val_loss did not improve from 0.94225\n",
      "\n",
      "Epoch 00007: val_categorical_accuracy improved from 0.65206 to 0.65402, saving model to d:\\project\\project/Checkpoints/checkpoints_acc\\Model-epoch_07--val_categorical_accuracy_0.65\n",
      "INFO:tensorflow:Assets written to: d:\\project\\project/Checkpoints/checkpoints_acc\\Model-epoch_07--val_categorical_accuracy_0.65\\assets\n",
      "Epoch 8/120\n",
      "1196/1196 [==============================] - 59s 49ms/step - loss: 0.8689 - categorical_accuracy: 0.6774 - val_loss: 0.9288 - val_categorical_accuracy: 0.6616\n",
      "\n",
      "Epoch 00008: val_loss improved from 0.94225 to 0.92882, saving model to d:\\project\\project/Checkpoints/checkpoints_loss\\Model-epoch_08--val_loss_0.93\n",
      "INFO:tensorflow:Assets written to: d:\\project\\project/Checkpoints/checkpoints_loss\\Model-epoch_08--val_loss_0.93\\assets\n",
      "\n",
      "Epoch 00008: val_categorical_accuracy improved from 0.65402 to 0.66155, saving model to d:\\project\\project/Checkpoints/checkpoints_acc\\Model-epoch_08--val_categorical_accuracy_0.66\n",
      "INFO:tensorflow:Assets written to: d:\\project\\project/Checkpoints/checkpoints_acc\\Model-epoch_08--val_categorical_accuracy_0.66\\assets\n",
      "Epoch 9/120\n",
      "1196/1196 [==============================] - 59s 49ms/step - loss: 0.8514 - categorical_accuracy: 0.6834 - val_loss: 0.8929 - val_categorical_accuracy: 0.6748\n",
      "\n",
      "Epoch 00009: val_loss improved from 0.92882 to 0.89295, saving model to d:\\project\\project/Checkpoints/checkpoints_loss\\Model-epoch_09--val_loss_0.89\n",
      "INFO:tensorflow:Assets written to: d:\\project\\project/Checkpoints/checkpoints_loss\\Model-epoch_09--val_loss_0.89\\assets\n",
      "\n",
      "Epoch 00009: val_categorical_accuracy improved from 0.66155 to 0.67480, saving model to d:\\project\\project/Checkpoints/checkpoints_acc\\Model-epoch_09--val_categorical_accuracy_0.67\n",
      "INFO:tensorflow:Assets written to: d:\\project\\project/Checkpoints/checkpoints_acc\\Model-epoch_09--val_categorical_accuracy_0.67\\assets\n",
      "Epoch 10/120\n",
      "1196/1196 [==============================] - 59s 49ms/step - loss: 0.8247 - categorical_accuracy: 0.6922 - val_loss: 0.8902 - val_categorical_accuracy: 0.6777\n",
      "\n",
      "Epoch 00010: val_loss improved from 0.89295 to 0.89018, saving model to d:\\project\\project/Checkpoints/checkpoints_loss\\Model-epoch_10--val_loss_0.89\n",
      "INFO:tensorflow:Assets written to: d:\\project\\project/Checkpoints/checkpoints_loss\\Model-epoch_10--val_loss_0.89\\assets\n",
      "\n",
      "Epoch 00010: val_categorical_accuracy improved from 0.67480 to 0.67773, saving model to d:\\project\\project/Checkpoints/checkpoints_acc\\Model-epoch_10--val_categorical_accuracy_0.68\n",
      "INFO:tensorflow:Assets written to: d:\\project\\project/Checkpoints/checkpoints_acc\\Model-epoch_10--val_categorical_accuracy_0.68\\assets\n",
      "Epoch 11/120\n",
      "1196/1196 [==============================] - 59s 49ms/step - loss: 0.8108 - categorical_accuracy: 0.6992 - val_loss: 0.9080 - val_categorical_accuracy: 0.6752\n",
      "\n",
      "Epoch 00011: val_loss did not improve from 0.89018\n",
      "\n",
      "Epoch 00011: val_categorical_accuracy did not improve from 0.67773\n",
      "Epoch 12/120\n",
      "1196/1196 [==============================] - 59s 50ms/step - loss: 0.7914 - categorical_accuracy: 0.7053 - val_loss: 0.8645 - val_categorical_accuracy: 0.6872\n",
      "\n",
      "Epoch 00012: val_loss improved from 0.89018 to 0.86450, saving model to d:\\project\\project/Checkpoints/checkpoints_loss\\Model-epoch_12--val_loss_0.86\n",
      "INFO:tensorflow:Assets written to: d:\\project\\project/Checkpoints/checkpoints_loss\\Model-epoch_12--val_loss_0.86\\assets\n",
      "\n",
      "Epoch 00012: val_categorical_accuracy improved from 0.67773 to 0.68722, saving model to d:\\project\\project/Checkpoints/checkpoints_acc\\Model-epoch_12--val_categorical_accuracy_0.69\n",
      "INFO:tensorflow:Assets written to: d:\\project\\project/Checkpoints/checkpoints_acc\\Model-epoch_12--val_categorical_accuracy_0.69\\assets\n",
      "Epoch 13/120\n",
      "1196/1196 [==============================] - 59s 50ms/step - loss: 0.7817 - categorical_accuracy: 0.7106 - val_loss: 0.8532 - val_categorical_accuracy: 0.6950\n",
      "\n",
      "Epoch 00013: val_loss improved from 0.86450 to 0.85323, saving model to d:\\project\\project/Checkpoints/checkpoints_loss\\Model-epoch_13--val_loss_0.85\n",
      "INFO:tensorflow:Assets written to: d:\\project\\project/Checkpoints/checkpoints_loss\\Model-epoch_13--val_loss_0.85\\assets\n",
      "\n",
      "Epoch 00013: val_categorical_accuracy improved from 0.68722 to 0.69503, saving model to d:\\project\\project/Checkpoints/checkpoints_acc\\Model-epoch_13--val_categorical_accuracy_0.70\n",
      "INFO:tensorflow:Assets written to: d:\\project\\project/Checkpoints/checkpoints_acc\\Model-epoch_13--val_categorical_accuracy_0.70\\assets\n",
      "Epoch 14/120\n",
      "1196/1196 [==============================] - 59s 50ms/step - loss: 0.7633 - categorical_accuracy: 0.7167 - val_loss: 0.8185 - val_categorical_accuracy: 0.7072\n",
      "\n",
      "Epoch 00014: val_loss improved from 0.85323 to 0.81854, saving model to d:\\project\\project/Checkpoints/checkpoints_loss\\Model-epoch_14--val_loss_0.82\n",
      "INFO:tensorflow:Assets written to: d:\\project\\project/Checkpoints/checkpoints_loss\\Model-epoch_14--val_loss_0.82\\assets\n",
      "\n",
      "Epoch 00014: val_categorical_accuracy improved from 0.69503 to 0.70717, saving model to d:\\project\\project/Checkpoints/checkpoints_acc\\Model-epoch_14--val_categorical_accuracy_0.71\n",
      "INFO:tensorflow:Assets written to: d:\\project\\project/Checkpoints/checkpoints_acc\\Model-epoch_14--val_categorical_accuracy_0.71\\assets\n",
      "Epoch 15/120\n",
      "1196/1196 [==============================] - 59s 49ms/step - loss: 0.7511 - categorical_accuracy: 0.7224 - val_loss: 0.8174 - val_categorical_accuracy: 0.7123\n",
      "\n",
      "Epoch 00015: val_loss improved from 0.81854 to 0.81737, saving model to d:\\project\\project/Checkpoints/checkpoints_loss\\Model-epoch_15--val_loss_0.82\n",
      "INFO:tensorflow:Assets written to: d:\\project\\project/Checkpoints/checkpoints_loss\\Model-epoch_15--val_loss_0.82\\assets\n",
      "\n",
      "Epoch 00015: val_categorical_accuracy improved from 0.70717 to 0.71233, saving model to d:\\project\\project/Checkpoints/checkpoints_acc\\Model-epoch_15--val_categorical_accuracy_0.71\n",
      "INFO:tensorflow:Assets written to: d:\\project\\project/Checkpoints/checkpoints_acc\\Model-epoch_15--val_categorical_accuracy_0.71\\assets\n",
      "Epoch 16/120\n",
      "1196/1196 [==============================] - 59s 50ms/step - loss: 0.7452 - categorical_accuracy: 0.7235 - val_loss: 0.8045 - val_categorical_accuracy: 0.7207\n",
      "\n",
      "Epoch 00016: val_loss improved from 0.81737 to 0.80446, saving model to d:\\project\\project/Checkpoints/checkpoints_loss\\Model-epoch_16--val_loss_0.80\n",
      "INFO:tensorflow:Assets written to: d:\\project\\project/Checkpoints/checkpoints_loss\\Model-epoch_16--val_loss_0.80\\assets\n",
      "\n",
      "Epoch 00016: val_categorical_accuracy improved from 0.71233 to 0.72070, saving model to d:\\project\\project/Checkpoints/checkpoints_acc\\Model-epoch_16--val_categorical_accuracy_0.72\n",
      "INFO:tensorflow:Assets written to: d:\\project\\project/Checkpoints/checkpoints_acc\\Model-epoch_16--val_categorical_accuracy_0.72\\assets\n",
      "Epoch 17/120\n",
      "1196/1196 [==============================] - 59s 49ms/step - loss: 0.7330 - categorical_accuracy: 0.7300 - val_loss: 0.8031 - val_categorical_accuracy: 0.7140\n",
      "\n",
      "Epoch 00017: val_loss improved from 0.80446 to 0.80312, saving model to d:\\project\\project/Checkpoints/checkpoints_loss\\Model-epoch_17--val_loss_0.80\n",
      "INFO:tensorflow:Assets written to: d:\\project\\project/Checkpoints/checkpoints_loss\\Model-epoch_17--val_loss_0.80\\assets\n",
      "\n",
      "Epoch 00017: val_categorical_accuracy did not improve from 0.72070\n",
      "Epoch 18/120\n",
      "1196/1196 [==============================] - 59s 49ms/step - loss: 0.7219 - categorical_accuracy: 0.7329 - val_loss: 0.7905 - val_categorical_accuracy: 0.7242\n",
      "\n",
      "Epoch 00018: val_loss improved from 0.80312 to 0.79049, saving model to d:\\project\\project/Checkpoints/checkpoints_loss\\Model-epoch_18--val_loss_0.79\n",
      "INFO:tensorflow:Assets written to: d:\\project\\project/Checkpoints/checkpoints_loss\\Model-epoch_18--val_loss_0.79\\assets\n",
      "\n",
      "Epoch 00018: val_categorical_accuracy improved from 0.72070 to 0.72419, saving model to d:\\project\\project/Checkpoints/checkpoints_acc\\Model-epoch_18--val_categorical_accuracy_0.72\n",
      "INFO:tensorflow:Assets written to: d:\\project\\project/Checkpoints/checkpoints_acc\\Model-epoch_18--val_categorical_accuracy_0.72\\assets\n",
      "Epoch 19/120\n",
      "1196/1196 [==============================] - 59s 49ms/step - loss: 0.7145 - categorical_accuracy: 0.7375 - val_loss: 0.7835 - val_categorical_accuracy: 0.7277\n",
      "\n",
      "Epoch 00019: val_loss improved from 0.79049 to 0.78349, saving model to d:\\project\\project/Checkpoints/checkpoints_loss\\Model-epoch_19--val_loss_0.78\n",
      "INFO:tensorflow:Assets written to: d:\\project\\project/Checkpoints/checkpoints_loss\\Model-epoch_19--val_loss_0.78\\assets\n",
      "\n",
      "Epoch 00019: val_categorical_accuracy improved from 0.72419 to 0.72768, saving model to d:\\project\\project/Checkpoints/checkpoints_acc\\Model-epoch_19--val_categorical_accuracy_0.73\n",
      "INFO:tensorflow:Assets written to: d:\\project\\project/Checkpoints/checkpoints_acc\\Model-epoch_19--val_categorical_accuracy_0.73\\assets\n",
      "Epoch 20/120\n",
      "1196/1196 [==============================] - 59s 50ms/step - loss: 0.7076 - categorical_accuracy: 0.7395 - val_loss: 0.8003 - val_categorical_accuracy: 0.7250\n",
      "\n",
      "Epoch 00020: val_loss did not improve from 0.78349\n",
      "\n",
      "Epoch 00020: val_categorical_accuracy did not improve from 0.72768\n",
      "Epoch 21/120\n",
      "1196/1196 [==============================] - 59s 50ms/step - loss: 0.6965 - categorical_accuracy: 0.7447 - val_loss: 0.7685 - val_categorical_accuracy: 0.7328\n",
      "\n",
      "Epoch 00021: val_loss improved from 0.78349 to 0.76850, saving model to d:\\project\\project/Checkpoints/checkpoints_loss\\Model-epoch_21--val_loss_0.77\n",
      "INFO:tensorflow:Assets written to: d:\\project\\project/Checkpoints/checkpoints_loss\\Model-epoch_21--val_loss_0.77\\assets\n",
      "\n",
      "Epoch 00021: val_categorical_accuracy improved from 0.72768 to 0.73284, saving model to d:\\project\\project/Checkpoints/checkpoints_acc\\Model-epoch_21--val_categorical_accuracy_0.73\n",
      "INFO:tensorflow:Assets written to: d:\\project\\project/Checkpoints/checkpoints_acc\\Model-epoch_21--val_categorical_accuracy_0.73\\assets\n",
      "Epoch 22/120\n",
      "1196/1196 [==============================] - 59s 49ms/step - loss: 0.6917 - categorical_accuracy: 0.7440 - val_loss: 0.7725 - val_categorical_accuracy: 0.7367\n",
      "\n",
      "Epoch 00022: val_loss did not improve from 0.76850\n",
      "\n",
      "Epoch 00022: val_categorical_accuracy improved from 0.73284 to 0.73675, saving model to d:\\project\\project/Checkpoints/checkpoints_acc\\Model-epoch_22--val_categorical_accuracy_0.74\n",
      "INFO:tensorflow:Assets written to: d:\\project\\project/Checkpoints/checkpoints_acc\\Model-epoch_22--val_categorical_accuracy_0.74\\assets\n",
      "Epoch 23/120\n",
      "1196/1196 [==============================] - 59s 49ms/step - loss: 0.6777 - categorical_accuracy: 0.7507 - val_loss: 0.7906 - val_categorical_accuracy: 0.7289\n",
      "\n",
      "Epoch 00023: val_loss did not improve from 0.76850\n",
      "\n",
      "Epoch 00023: val_categorical_accuracy did not improve from 0.73675\n",
      "Epoch 24/120\n",
      "1196/1196 [==============================] - 59s 49ms/step - loss: 0.6761 - categorical_accuracy: 0.7505 - val_loss: 0.7675 - val_categorical_accuracy: 0.7388\n",
      "\n",
      "Epoch 00024: val_loss improved from 0.76850 to 0.76755, saving model to d:\\project\\project/Checkpoints/checkpoints_loss\\Model-epoch_24--val_loss_0.77\n",
      "INFO:tensorflow:Assets written to: d:\\project\\project/Checkpoints/checkpoints_loss\\Model-epoch_24--val_loss_0.77\\assets\n",
      "\n",
      "Epoch 00024: val_categorical_accuracy improved from 0.73675 to 0.73884, saving model to d:\\project\\project/Checkpoints/checkpoints_acc\\Model-epoch_24--val_categorical_accuracy_0.74\n",
      "INFO:tensorflow:Assets written to: d:\\project\\project/Checkpoints/checkpoints_acc\\Model-epoch_24--val_categorical_accuracy_0.74\\assets\n",
      "Epoch 25/120\n",
      "1196/1196 [==============================] - 59s 49ms/step - loss: 0.6652 - categorical_accuracy: 0.7554 - val_loss: 0.7645 - val_categorical_accuracy: 0.7374\n",
      "\n",
      "Epoch 00025: val_loss improved from 0.76755 to 0.76451, saving model to d:\\project\\project/Checkpoints/checkpoints_loss\\Model-epoch_25--val_loss_0.76\n",
      "INFO:tensorflow:Assets written to: d:\\project\\project/Checkpoints/checkpoints_loss\\Model-epoch_25--val_loss_0.76\\assets\n",
      "\n",
      "Epoch 00025: val_categorical_accuracy did not improve from 0.73884\n",
      "Epoch 26/120\n",
      "1196/1196 [==============================] - 59s 49ms/step - loss: 0.6583 - categorical_accuracy: 0.7596 - val_loss: 0.7423 - val_categorical_accuracy: 0.7535\n",
      "\n",
      "Epoch 00026: val_loss improved from 0.76451 to 0.74233, saving model to d:\\project\\project/Checkpoints/checkpoints_loss\\Model-epoch_26--val_loss_0.74\n",
      "INFO:tensorflow:Assets written to: d:\\project\\project/Checkpoints/checkpoints_loss\\Model-epoch_26--val_loss_0.74\\assets\n",
      "\n",
      "Epoch 00026: val_categorical_accuracy improved from 0.73884 to 0.75349, saving model to d:\\project\\project/Checkpoints/checkpoints_acc\\Model-epoch_26--val_categorical_accuracy_0.75\n",
      "INFO:tensorflow:Assets written to: d:\\project\\project/Checkpoints/checkpoints_acc\\Model-epoch_26--val_categorical_accuracy_0.75\\assets\n",
      "Epoch 27/120\n",
      "1196/1196 [==============================] - 59s 49ms/step - loss: 0.6552 - categorical_accuracy: 0.7584 - val_loss: 0.7597 - val_categorical_accuracy: 0.7482\n",
      "\n",
      "Epoch 00027: val_loss did not improve from 0.74233\n",
      "\n",
      "Epoch 00027: val_categorical_accuracy did not improve from 0.75349\n",
      "Epoch 28/120\n",
      "1196/1196 [==============================] - 59s 49ms/step - loss: 0.6538 - categorical_accuracy: 0.7602 - val_loss: 0.7383 - val_categorical_accuracy: 0.7539\n",
      "\n",
      "Epoch 00028: val_loss improved from 0.74233 to 0.73834, saving model to d:\\project\\project/Checkpoints/checkpoints_loss\\Model-epoch_28--val_loss_0.74\n",
      "INFO:tensorflow:Assets written to: d:\\project\\project/Checkpoints/checkpoints_loss\\Model-epoch_28--val_loss_0.74\\assets\n",
      "\n",
      "Epoch 00028: val_categorical_accuracy improved from 0.75349 to 0.75391, saving model to d:\\project\\project/Checkpoints/checkpoints_acc\\Model-epoch_28--val_categorical_accuracy_0.75\n",
      "INFO:tensorflow:Assets written to: d:\\project\\project/Checkpoints/checkpoints_acc\\Model-epoch_28--val_categorical_accuracy_0.75\\assets\n",
      "Epoch 29/120\n",
      "1196/1196 [==============================] - 59s 49ms/step - loss: 0.6421 - categorical_accuracy: 0.7662 - val_loss: 0.7416 - val_categorical_accuracy: 0.7540\n",
      "\n",
      "Epoch 00029: val_loss did not improve from 0.73834\n",
      "\n",
      "Epoch 00029: val_categorical_accuracy improved from 0.75391 to 0.75405, saving model to d:\\project\\project/Checkpoints/checkpoints_acc\\Model-epoch_29--val_categorical_accuracy_0.75\n",
      "INFO:tensorflow:Assets written to: d:\\project\\project/Checkpoints/checkpoints_acc\\Model-epoch_29--val_categorical_accuracy_0.75\\assets\n",
      "Epoch 30/120\n",
      "1196/1196 [==============================] - 59s 49ms/step - loss: 0.6402 - categorical_accuracy: 0.7662 - val_loss: 0.7223 - val_categorical_accuracy: 0.7592\n",
      "\n",
      "Epoch 00030: val_loss improved from 0.73834 to 0.72227, saving model to d:\\project\\project/Checkpoints/checkpoints_loss\\Model-epoch_30--val_loss_0.72\n",
      "INFO:tensorflow:Assets written to: d:\\project\\project/Checkpoints/checkpoints_loss\\Model-epoch_30--val_loss_0.72\\assets\n",
      "\n",
      "Epoch 00030: val_categorical_accuracy improved from 0.75405 to 0.75921, saving model to d:\\project\\project/Checkpoints/checkpoints_acc\\Model-epoch_30--val_categorical_accuracy_0.76\n",
      "INFO:tensorflow:Assets written to: d:\\project\\project/Checkpoints/checkpoints_acc\\Model-epoch_30--val_categorical_accuracy_0.76\\assets\n",
      "Epoch 31/120\n",
      "1196/1196 [==============================] - 59s 49ms/step - loss: 0.6303 - categorical_accuracy: 0.7709 - val_loss: 0.7724 - val_categorical_accuracy: 0.7420\n",
      "\n",
      "Epoch 00031: val_loss did not improve from 0.72227\n",
      "\n",
      "Epoch 00031: val_categorical_accuracy did not improve from 0.75921\n",
      "Epoch 32/120\n",
      "1196/1196 [==============================] - 59s 49ms/step - loss: 0.6317 - categorical_accuracy: 0.7678 - val_loss: 0.7213 - val_categorical_accuracy: 0.7620\n",
      "\n",
      "Epoch 00032: val_loss improved from 0.72227 to 0.72125, saving model to d:\\project\\project/Checkpoints/checkpoints_loss\\Model-epoch_32--val_loss_0.72\n",
      "INFO:tensorflow:Assets written to: d:\\project\\project/Checkpoints/checkpoints_loss\\Model-epoch_32--val_loss_0.72\\assets\n",
      "\n",
      "Epoch 00032: val_categorical_accuracy improved from 0.75921 to 0.76200, saving model to d:\\project\\project/Checkpoints/checkpoints_acc\\Model-epoch_32--val_categorical_accuracy_0.76\n",
      "INFO:tensorflow:Assets written to: d:\\project\\project/Checkpoints/checkpoints_acc\\Model-epoch_32--val_categorical_accuracy_0.76\\assets\n",
      "Epoch 33/120\n",
      "1196/1196 [==============================] - 58s 49ms/step - loss: 0.6245 - categorical_accuracy: 0.7735 - val_loss: 0.7471 - val_categorical_accuracy: 0.7561\n",
      "\n",
      "Epoch 00033: val_loss did not improve from 0.72125\n",
      "\n",
      "Epoch 00033: val_categorical_accuracy did not improve from 0.76200\n",
      "Epoch 34/120\n",
      "1196/1196 [==============================] - 59s 49ms/step - loss: 0.6193 - categorical_accuracy: 0.7748 - val_loss: 0.7055 - val_categorical_accuracy: 0.7704\n",
      "\n",
      "Epoch 00034: val_loss improved from 0.72125 to 0.70546, saving model to d:\\project\\project/Checkpoints/checkpoints_loss\\Model-epoch_34--val_loss_0.71\n",
      "INFO:tensorflow:Assets written to: d:\\project\\project/Checkpoints/checkpoints_loss\\Model-epoch_34--val_loss_0.71\\assets\n",
      "\n",
      "Epoch 00034: val_categorical_accuracy improved from 0.76200 to 0.77037, saving model to d:\\project\\project/Checkpoints/checkpoints_acc\\Model-epoch_34--val_categorical_accuracy_0.77\n",
      "INFO:tensorflow:Assets written to: d:\\project\\project/Checkpoints/checkpoints_acc\\Model-epoch_34--val_categorical_accuracy_0.77\\assets\n",
      "Epoch 35/120\n",
      "1196/1196 [==============================] - 59s 49ms/step - loss: 0.6146 - categorical_accuracy: 0.7758 - val_loss: 0.7316 - val_categorical_accuracy: 0.7557\n",
      "\n",
      "Epoch 00035: val_loss did not improve from 0.70546\n",
      "\n",
      "Epoch 00035: val_categorical_accuracy did not improve from 0.77037\n",
      "Epoch 36/120\n",
      "1196/1196 [==============================] - 59s 50ms/step - loss: 0.6154 - categorical_accuracy: 0.7759 - val_loss: 0.7527 - val_categorical_accuracy: 0.7504\n",
      "\n",
      "Epoch 00036: val_loss did not improve from 0.70546\n",
      "\n",
      "Epoch 00036: val_categorical_accuracy did not improve from 0.77037\n",
      "Epoch 37/120\n",
      "1196/1196 [==============================] - 59s 49ms/step - loss: 0.6102 - categorical_accuracy: 0.7789 - val_loss: 0.7132 - val_categorical_accuracy: 0.7701\n",
      "\n",
      "Epoch 00037: val_loss did not improve from 0.70546\n",
      "\n",
      "Epoch 00037: val_categorical_accuracy did not improve from 0.77037\n",
      "Epoch 38/120\n",
      "1196/1196 [==============================] - 59s 49ms/step - loss: 0.6067 - categorical_accuracy: 0.7805 - val_loss: 0.7365 - val_categorical_accuracy: 0.7694\n",
      "\n",
      "Epoch 00038: val_loss did not improve from 0.70546\n",
      "\n",
      "Epoch 00038: val_categorical_accuracy did not improve from 0.77037\n",
      "Epoch 39/120\n",
      "1196/1196 [==============================] - 59s 50ms/step - loss: 0.5952 - categorical_accuracy: 0.7843 - val_loss: 0.6967 - val_categorical_accuracy: 0.7779\n",
      "\n",
      "Epoch 00039: val_loss improved from 0.70546 to 0.69671, saving model to d:\\project\\project/Checkpoints/checkpoints_loss\\Model-epoch_39--val_loss_0.70\n",
      "INFO:tensorflow:Assets written to: d:\\project\\project/Checkpoints/checkpoints_loss\\Model-epoch_39--val_loss_0.70\\assets\n",
      "\n",
      "Epoch 00039: val_categorical_accuracy improved from 0.77037 to 0.77790, saving model to d:\\project\\project/Checkpoints/checkpoints_acc\\Model-epoch_39--val_categorical_accuracy_0.78\n",
      "INFO:tensorflow:Assets written to: d:\\project\\project/Checkpoints/checkpoints_acc\\Model-epoch_39--val_categorical_accuracy_0.78\\assets\n",
      "Epoch 40/120\n",
      "1196/1196 [==============================] - 59s 49ms/step - loss: 0.5978 - categorical_accuracy: 0.7833 - val_loss: 0.7474 - val_categorical_accuracy: 0.7617\n",
      "\n",
      "Epoch 00040: val_loss did not improve from 0.69671\n",
      "\n",
      "Epoch 00040: val_categorical_accuracy did not improve from 0.77790\n",
      "Epoch 41/120\n",
      "1196/1196 [==============================] - 59s 49ms/step - loss: 0.5863 - categorical_accuracy: 0.7882 - val_loss: 0.7063 - val_categorical_accuracy: 0.7755\n",
      "\n",
      "Epoch 00041: val_loss did not improve from 0.69671\n",
      "\n",
      "Epoch 00041: val_categorical_accuracy did not improve from 0.77790\n",
      "Epoch 42/120\n",
      "1196/1196 [==============================] - 59s 49ms/step - loss: 0.5929 - categorical_accuracy: 0.7853 - val_loss: 0.7109 - val_categorical_accuracy: 0.7812\n",
      "\n",
      "Epoch 00042: val_loss did not improve from 0.69671\n",
      "\n",
      "Epoch 00042: val_categorical_accuracy improved from 0.77790 to 0.78125, saving model to d:\\project\\project/Checkpoints/checkpoints_acc\\Model-epoch_42--val_categorical_accuracy_0.78\n",
      "INFO:tensorflow:Assets written to: d:\\project\\project/Checkpoints/checkpoints_acc\\Model-epoch_42--val_categorical_accuracy_0.78\\assets\n",
      "Epoch 43/120\n",
      "1196/1196 [==============================] - 59s 49ms/step - loss: 0.5818 - categorical_accuracy: 0.7903 - val_loss: 0.7212 - val_categorical_accuracy: 0.7750\n",
      "\n",
      "Epoch 00043: val_loss did not improve from 0.69671\n",
      "\n",
      "Epoch 00043: val_categorical_accuracy did not improve from 0.78125\n",
      "Epoch 44/120\n",
      "1196/1196 [==============================] - 59s 49ms/step - loss: 0.5832 - categorical_accuracy: 0.7894 - val_loss: 0.7017 - val_categorical_accuracy: 0.7822\n",
      "\n",
      "Epoch 00044: val_loss did not improve from 0.69671\n",
      "\n",
      "Epoch 00044: val_categorical_accuracy improved from 0.78125 to 0.78223, saving model to d:\\project\\project/Checkpoints/checkpoints_acc\\Model-epoch_44--val_categorical_accuracy_0.78\n",
      "INFO:tensorflow:Assets written to: d:\\project\\project/Checkpoints/checkpoints_acc\\Model-epoch_44--val_categorical_accuracy_0.78\\assets\n",
      "Epoch 45/120\n",
      "1196/1196 [==============================] - 59s 49ms/step - loss: 0.5777 - categorical_accuracy: 0.7919 - val_loss: 0.6809 - val_categorical_accuracy: 0.7877\n",
      "\n",
      "Epoch 00045: val_loss improved from 0.69671 to 0.68087, saving model to d:\\project\\project/Checkpoints/checkpoints_loss\\Model-epoch_45--val_loss_0.68\n",
      "INFO:tensorflow:Assets written to: d:\\project\\project/Checkpoints/checkpoints_loss\\Model-epoch_45--val_loss_0.68\\assets\n",
      "\n",
      "Epoch 00045: val_categorical_accuracy improved from 0.78223 to 0.78767, saving model to d:\\project\\project/Checkpoints/checkpoints_acc\\Model-epoch_45--val_categorical_accuracy_0.79\n",
      "INFO:tensorflow:Assets written to: d:\\project\\project/Checkpoints/checkpoints_acc\\Model-epoch_45--val_categorical_accuracy_0.79\\assets\n",
      "Epoch 46/120\n",
      "1196/1196 [==============================] - 59s 49ms/step - loss: 0.5782 - categorical_accuracy: 0.7911 - val_loss: 0.6835 - val_categorical_accuracy: 0.7861\n",
      "\n",
      "Epoch 00046: val_loss did not improve from 0.68087\n",
      "\n",
      "Epoch 00046: val_categorical_accuracy did not improve from 0.78767\n",
      "Epoch 47/120\n",
      "1196/1196 [==============================] - 59s 49ms/step - loss: 0.5775 - categorical_accuracy: 0.7936 - val_loss: 0.6984 - val_categorical_accuracy: 0.7803\n",
      "\n",
      "Epoch 00047: val_loss did not improve from 0.68087\n",
      "\n",
      "Epoch 00047: val_categorical_accuracy did not improve from 0.78767\n",
      "Epoch 48/120\n",
      "1196/1196 [==============================] - 59s 49ms/step - loss: 0.5730 - categorical_accuracy: 0.7946 - val_loss: 0.7079 - val_categorical_accuracy: 0.7773\n",
      "\n",
      "Epoch 00048: val_loss did not improve from 0.68087\n",
      "\n",
      "Epoch 00048: val_categorical_accuracy did not improve from 0.78767\n",
      "Epoch 49/120\n",
      "1196/1196 [==============================] - 59s 49ms/step - loss: 0.5712 - categorical_accuracy: 0.7945 - val_loss: 0.7112 - val_categorical_accuracy: 0.7800\n",
      "\n",
      "Epoch 00049: val_loss did not improve from 0.68087\n",
      "\n",
      "Epoch 00049: val_categorical_accuracy did not improve from 0.78767\n",
      "Epoch 50/120\n",
      "1196/1196 [==============================] - 59s 49ms/step - loss: 0.5672 - categorical_accuracy: 0.7963 - val_loss: 0.7224 - val_categorical_accuracy: 0.7792\n",
      "\n",
      "Epoch 00050: val_loss did not improve from 0.68087\n",
      "\n",
      "Epoch 00050: val_categorical_accuracy did not improve from 0.78767\n",
      "Epoch 51/120\n",
      "1196/1196 [==============================] - 59s 49ms/step - loss: 0.5703 - categorical_accuracy: 0.7962 - val_loss: 0.7352 - val_categorical_accuracy: 0.7658\n",
      "\n",
      "Epoch 00051: val_loss did not improve from 0.68087\n",
      "\n",
      "Epoch 00051: val_categorical_accuracy did not improve from 0.78767\n",
      "Epoch 52/120\n",
      "1196/1196 [==============================] - 59s 49ms/step - loss: 0.5694 - categorical_accuracy: 0.7966 - val_loss: 0.7333 - val_categorical_accuracy: 0.7753\n",
      "\n",
      "Epoch 00052: val_loss did not improve from 0.68087\n",
      "\n",
      "Epoch 00052: val_categorical_accuracy did not improve from 0.78767\n",
      "Epoch 53/120\n",
      "1196/1196 [==============================] - 59s 49ms/step - loss: 0.5623 - categorical_accuracy: 0.7988 - val_loss: 0.7260 - val_categorical_accuracy: 0.7832\n",
      "\n",
      "Epoch 00053: val_loss did not improve from 0.68087\n",
      "\n",
      "Epoch 00053: val_categorical_accuracy did not improve from 0.78767\n",
      "Epoch 54/120\n",
      "1196/1196 [==============================] - 59s 49ms/step - loss: 0.5590 - categorical_accuracy: 0.8002 - val_loss: 0.6928 - val_categorical_accuracy: 0.7976\n",
      "\n",
      "Epoch 00054: val_loss did not improve from 0.68087\n",
      "\n",
      "Epoch 00054: val_categorical_accuracy improved from 0.78767 to 0.79757, saving model to d:\\project\\project/Checkpoints/checkpoints_acc\\Model-epoch_54--val_categorical_accuracy_0.80\n",
      "INFO:tensorflow:Assets written to: d:\\project\\project/Checkpoints/checkpoints_acc\\Model-epoch_54--val_categorical_accuracy_0.80\\assets\n",
      "Epoch 55/120\n",
      "1196/1196 [==============================] - 59s 49ms/step - loss: 0.5606 - categorical_accuracy: 0.8008 - val_loss: 0.6886 - val_categorical_accuracy: 0.7914\n",
      "\n",
      "Epoch 00055: val_loss did not improve from 0.68087\n",
      "\n",
      "Epoch 00055: val_categorical_accuracy did not improve from 0.79757\n",
      "Epoch 56/120\n",
      "1196/1196 [==============================] - 59s 49ms/step - loss: 0.5525 - categorical_accuracy: 0.8036 - val_loss: 0.6956 - val_categorical_accuracy: 0.7893\n",
      "\n",
      "Epoch 00056: val_loss did not improve from 0.68087\n",
      "\n",
      "Epoch 00056: val_categorical_accuracy did not improve from 0.79757\n",
      "Epoch 57/120\n",
      "1196/1196 [==============================] - 59s 49ms/step - loss: 0.5552 - categorical_accuracy: 0.8010 - val_loss: 0.6932 - val_categorical_accuracy: 0.7941\n",
      "\n",
      "Epoch 00057: val_loss did not improve from 0.68087\n",
      "\n",
      "Epoch 00057: val_categorical_accuracy did not improve from 0.79757\n",
      "Epoch 58/120\n",
      "1196/1196 [==============================] - 59s 49ms/step - loss: 0.5513 - categorical_accuracy: 0.8037 - val_loss: 0.6903 - val_categorical_accuracy: 0.7963\n",
      "\n",
      "Epoch 00058: val_loss did not improve from 0.68087\n",
      "\n",
      "Epoch 00058: val_categorical_accuracy did not improve from 0.79757\n",
      "Epoch 59/120\n",
      "1196/1196 [==============================] - 59s 49ms/step - loss: 0.5542 - categorical_accuracy: 0.8018 - val_loss: 0.7012 - val_categorical_accuracy: 0.7882\n",
      "\n",
      "Epoch 00059: val_loss did not improve from 0.68087\n",
      "\n",
      "Epoch 00059: val_categorical_accuracy did not improve from 0.79757\n",
      "Epoch 60/120\n",
      "1196/1196 [==============================] - 59s 49ms/step - loss: 0.5446 - categorical_accuracy: 0.8049 - val_loss: 0.6748 - val_categorical_accuracy: 0.7980\n",
      "\n",
      "Epoch 00060: val_loss improved from 0.68087 to 0.67481, saving model to d:\\project\\project/Checkpoints/checkpoints_loss\\Model-epoch_60--val_loss_0.67\n",
      "INFO:tensorflow:Assets written to: d:\\project\\project/Checkpoints/checkpoints_loss\\Model-epoch_60--val_loss_0.67\\assets\n",
      "\n",
      "Epoch 00060: val_categorical_accuracy improved from 0.79757 to 0.79799, saving model to d:\\project\\project/Checkpoints/checkpoints_acc\\Model-epoch_60--val_categorical_accuracy_0.80\n",
      "INFO:tensorflow:Assets written to: d:\\project\\project/Checkpoints/checkpoints_acc\\Model-epoch_60--val_categorical_accuracy_0.80\\assets\n",
      "Epoch 61/120\n",
      "1196/1196 [==============================] - 59s 50ms/step - loss: 0.5436 - categorical_accuracy: 0.8069 - val_loss: 0.6962 - val_categorical_accuracy: 0.7919\n",
      "\n",
      "Epoch 00061: val_loss did not improve from 0.67481\n",
      "\n",
      "Epoch 00061: val_categorical_accuracy did not improve from 0.79799\n",
      "Epoch 62/120\n",
      "1196/1196 [==============================] - 59s 49ms/step - loss: 0.5456 - categorical_accuracy: 0.8063 - val_loss: 0.7086 - val_categorical_accuracy: 0.7881\n",
      "\n",
      "Epoch 00062: val_loss did not improve from 0.67481\n",
      "\n",
      "Epoch 00062: val_categorical_accuracy did not improve from 0.79799\n",
      "Epoch 63/120\n",
      "1196/1196 [==============================] - 59s 49ms/step - loss: 0.5421 - categorical_accuracy: 0.8060 - val_loss: 0.7022 - val_categorical_accuracy: 0.7893\n",
      "\n",
      "Epoch 00063: val_loss did not improve from 0.67481\n",
      "\n",
      "Epoch 00063: val_categorical_accuracy did not improve from 0.79799\n",
      "Epoch 64/120\n",
      "1196/1196 [==============================] - 59s 49ms/step - loss: 0.5378 - categorical_accuracy: 0.8093 - val_loss: 0.6936 - val_categorical_accuracy: 0.7991\n",
      "\n",
      "Epoch 00064: val_loss did not improve from 0.67481\n",
      "\n",
      "Epoch 00064: val_categorical_accuracy improved from 0.79799 to 0.79911, saving model to d:\\project\\project/Checkpoints/checkpoints_acc\\Model-epoch_64--val_categorical_accuracy_0.80\n",
      "INFO:tensorflow:Assets written to: d:\\project\\project/Checkpoints/checkpoints_acc\\Model-epoch_64--val_categorical_accuracy_0.80\\assets\n",
      "Epoch 65/120\n",
      "1196/1196 [==============================] - 59s 49ms/step - loss: 0.5361 - categorical_accuracy: 0.8103 - val_loss: 0.6874 - val_categorical_accuracy: 0.8011\n",
      "\n",
      "Epoch 00065: val_loss did not improve from 0.67481\n",
      "\n",
      "Epoch 00065: val_categorical_accuracy improved from 0.79911 to 0.80106, saving model to d:\\project\\project/Checkpoints/checkpoints_acc\\Model-epoch_65--val_categorical_accuracy_0.80\n",
      "INFO:tensorflow:Assets written to: d:\\project\\project/Checkpoints/checkpoints_acc\\Model-epoch_65--val_categorical_accuracy_0.80\\assets\n",
      "Epoch 66/120\n",
      "1196/1196 [==============================] - 59s 49ms/step - loss: 0.5340 - categorical_accuracy: 0.8092 - val_loss: 0.6829 - val_categorical_accuracy: 0.7965\n",
      "\n",
      "Epoch 00066: val_loss did not improve from 0.67481\n",
      "\n",
      "Epoch 00066: val_categorical_accuracy did not improve from 0.80106\n",
      "Epoch 67/120\n",
      "1196/1196 [==============================] - 59s 49ms/step - loss: 0.5263 - categorical_accuracy: 0.8137 - val_loss: 0.6798 - val_categorical_accuracy: 0.8054\n",
      "\n",
      "Epoch 00067: val_loss did not improve from 0.67481\n",
      "\n",
      "Epoch 00067: val_categorical_accuracy improved from 0.80106 to 0.80539, saving model to d:\\project\\project/Checkpoints/checkpoints_acc\\Model-epoch_67--val_categorical_accuracy_0.81\n",
      "INFO:tensorflow:Assets written to: d:\\project\\project/Checkpoints/checkpoints_acc\\Model-epoch_67--val_categorical_accuracy_0.81\\assets\n",
      "Epoch 68/120\n",
      "1196/1196 [==============================] - 59s 49ms/step - loss: 0.5333 - categorical_accuracy: 0.8110 - val_loss: 0.6850 - val_categorical_accuracy: 0.8082\n",
      "\n",
      "Epoch 00068: val_loss did not improve from 0.67481\n",
      "\n",
      "Epoch 00068: val_categorical_accuracy improved from 0.80539 to 0.80818, saving model to d:\\project\\project/Checkpoints/checkpoints_acc\\Model-epoch_68--val_categorical_accuracy_0.81\n",
      "INFO:tensorflow:Assets written to: d:\\project\\project/Checkpoints/checkpoints_acc\\Model-epoch_68--val_categorical_accuracy_0.81\\assets\n",
      "Epoch 69/120\n",
      "1196/1196 [==============================] - 59s 49ms/step - loss: 0.5306 - categorical_accuracy: 0.8126 - val_loss: 0.7727 - val_categorical_accuracy: 0.7560\n",
      "\n",
      "Epoch 00069: val_loss did not improve from 0.67481\n",
      "\n",
      "Epoch 00069: val_categorical_accuracy did not improve from 0.80818\n",
      "Epoch 70/120\n",
      "1196/1196 [==============================] - 60s 50ms/step - loss: 0.5281 - categorical_accuracy: 0.8129 - val_loss: 0.6944 - val_categorical_accuracy: 0.7917\n",
      "\n",
      "Epoch 00070: val_loss did not improve from 0.67481\n",
      "\n",
      "Epoch 00070: val_categorical_accuracy did not improve from 0.80818\n",
      "Epoch 71/120\n",
      "1196/1196 [==============================] - 58s 49ms/step - loss: 0.5285 - categorical_accuracy: 0.8129 - val_loss: 0.6888 - val_categorical_accuracy: 0.8001\n",
      "\n",
      "Epoch 00071: val_loss did not improve from 0.67481\n",
      "\n",
      "Epoch 00071: val_categorical_accuracy did not improve from 0.80818\n",
      "Epoch 72/120\n",
      "1196/1196 [==============================] - 59s 49ms/step - loss: 0.5258 - categorical_accuracy: 0.8137 - val_loss: 0.6960 - val_categorical_accuracy: 0.7995\n",
      "\n",
      "Epoch 00072: val_loss did not improve from 0.67481\n",
      "\n",
      "Epoch 00072: val_categorical_accuracy did not improve from 0.80818\n",
      "Epoch 73/120\n",
      "1196/1196 [==============================] - 58s 49ms/step - loss: 0.5208 - categorical_accuracy: 0.8155 - val_loss: 0.7122 - val_categorical_accuracy: 0.8054\n",
      "\n",
      "Epoch 00073: val_loss did not improve from 0.67481\n",
      "\n",
      "Epoch 00073: val_categorical_accuracy did not improve from 0.80818\n",
      "Epoch 74/120\n",
      "1196/1196 [==============================] - 58s 49ms/step - loss: 0.5217 - categorical_accuracy: 0.8159 - val_loss: 0.7024 - val_categorical_accuracy: 0.7937\n",
      "\n",
      "Epoch 00074: val_loss did not improve from 0.67481\n",
      "\n",
      "Epoch 00074: val_categorical_accuracy did not improve from 0.80818\n",
      "Epoch 75/120\n",
      "1196/1196 [==============================] - 58s 49ms/step - loss: 0.5105 - categorical_accuracy: 0.8193 - val_loss: 0.6806 - val_categorical_accuracy: 0.8078\n",
      "\n",
      "Epoch 00075: val_loss did not improve from 0.67481\n",
      "\n",
      "Epoch 00075: val_categorical_accuracy did not improve from 0.80818\n",
      "Epoch 76/120\n",
      "1196/1196 [==============================] - 58s 48ms/step - loss: 0.5232 - categorical_accuracy: 0.8143 - val_loss: 0.6978 - val_categorical_accuracy: 0.8110\n",
      "\n",
      "Epoch 00076: val_loss did not improve from 0.67481\n",
      "\n",
      "Epoch 00076: val_categorical_accuracy improved from 0.80818 to 0.81097, saving model to d:\\project\\project/Checkpoints/checkpoints_acc\\Model-epoch_76--val_categorical_accuracy_0.81\n",
      "INFO:tensorflow:Assets written to: d:\\project\\project/Checkpoints/checkpoints_acc\\Model-epoch_76--val_categorical_accuracy_0.81\\assets\n",
      "Epoch 77/120\n",
      "1196/1196 [==============================] - 58s 48ms/step - loss: 0.5197 - categorical_accuracy: 0.8174 - val_loss: 0.6859 - val_categorical_accuracy: 0.8011\n",
      "\n",
      "Epoch 00077: val_loss did not improve from 0.67481\n",
      "\n",
      "Epoch 00077: val_categorical_accuracy did not improve from 0.81097\n",
      "Epoch 78/120\n",
      "1196/1196 [==============================] - 58s 48ms/step - loss: 0.5185 - categorical_accuracy: 0.8147 - val_loss: 0.6738 - val_categorical_accuracy: 0.8029\n",
      "\n",
      "Epoch 00078: val_loss improved from 0.67481 to 0.67377, saving model to d:\\project\\project/Checkpoints/checkpoints_loss\\Model-epoch_78--val_loss_0.67\n",
      "INFO:tensorflow:Assets written to: d:\\project\\project/Checkpoints/checkpoints_loss\\Model-epoch_78--val_loss_0.67\\assets\n",
      "\n",
      "Epoch 00078: val_categorical_accuracy did not improve from 0.81097\n",
      "Epoch 79/120\n",
      "1196/1196 [==============================] - 58s 48ms/step - loss: 0.5122 - categorical_accuracy: 0.8186 - val_loss: 0.7257 - val_categorical_accuracy: 0.7934\n",
      "\n",
      "Epoch 00079: val_loss did not improve from 0.67377\n",
      "\n",
      "Epoch 00079: val_categorical_accuracy did not improve from 0.81097\n",
      "Epoch 80/120\n",
      "1196/1196 [==============================] - 58s 48ms/step - loss: 0.5141 - categorical_accuracy: 0.8176 - val_loss: 0.6931 - val_categorical_accuracy: 0.8043\n",
      "\n",
      "Epoch 00080: val_loss did not improve from 0.67377\n",
      "\n",
      "Epoch 00080: val_categorical_accuracy did not improve from 0.81097\n",
      "Epoch 81/120\n",
      "1196/1196 [==============================] - 58s 48ms/step - loss: 0.5158 - categorical_accuracy: 0.8186 - val_loss: 0.6710 - val_categorical_accuracy: 0.8036\n",
      "\n",
      "Epoch 00081: val_loss improved from 0.67377 to 0.67103, saving model to d:\\project\\project/Checkpoints/checkpoints_loss\\Model-epoch_81--val_loss_0.67\n",
      "INFO:tensorflow:Assets written to: d:\\project\\project/Checkpoints/checkpoints_loss\\Model-epoch_81--val_loss_0.67\\assets\n",
      "\n",
      "Epoch 00081: val_categorical_accuracy did not improve from 0.81097\n",
      "Epoch 82/120\n",
      "1196/1196 [==============================] - 58s 49ms/step - loss: 0.5085 - categorical_accuracy: 0.8217 - val_loss: 0.7082 - val_categorical_accuracy: 0.7977\n",
      "\n",
      "Epoch 00082: val_loss did not improve from 0.67103\n",
      "\n",
      "Epoch 00082: val_categorical_accuracy did not improve from 0.81097\n",
      "Epoch 83/120\n",
      "1196/1196 [==============================] - 58s 48ms/step - loss: 0.5108 - categorical_accuracy: 0.8206 - val_loss: 0.6960 - val_categorical_accuracy: 0.7973\n",
      "\n",
      "Epoch 00083: val_loss did not improve from 0.67103\n",
      "\n",
      "Epoch 00083: val_categorical_accuracy did not improve from 0.81097\n",
      "Epoch 84/120\n",
      "1196/1196 [==============================] - 58s 49ms/step - loss: 0.5076 - categorical_accuracy: 0.8224 - val_loss: 0.7116 - val_categorical_accuracy: 0.8001\n",
      "\n",
      "Epoch 00084: val_loss did not improve from 0.67103\n",
      "\n",
      "Epoch 00084: val_categorical_accuracy did not improve from 0.81097\n",
      "Epoch 85/120\n",
      "1196/1196 [==============================] - 58s 49ms/step - loss: 0.5031 - categorical_accuracy: 0.8233 - val_loss: 0.7030 - val_categorical_accuracy: 0.8041\n",
      "\n",
      "Epoch 00085: val_loss did not improve from 0.67103\n",
      "\n",
      "Epoch 00085: val_categorical_accuracy did not improve from 0.81097\n",
      "Epoch 86/120\n",
      "1196/1196 [==============================] - 58s 49ms/step - loss: 0.5157 - categorical_accuracy: 0.8196 - val_loss: 0.6920 - val_categorical_accuracy: 0.8027\n",
      "\n",
      "Epoch 00086: val_loss did not improve from 0.67103\n",
      "\n",
      "Epoch 00086: val_categorical_accuracy did not improve from 0.81097\n",
      "Epoch 87/120\n",
      "1196/1196 [==============================] - 58s 49ms/step - loss: 0.5070 - categorical_accuracy: 0.8213 - val_loss: 0.6914 - val_categorical_accuracy: 0.8096\n",
      "\n",
      "Epoch 00087: val_loss did not improve from 0.67103\n",
      "\n",
      "Epoch 00087: val_categorical_accuracy did not improve from 0.81097\n",
      "Epoch 88/120\n",
      "1196/1196 [==============================] - 59s 49ms/step - loss: 0.5068 - categorical_accuracy: 0.8237 - val_loss: 0.6874 - val_categorical_accuracy: 0.8094\n",
      "\n",
      "Epoch 00088: val_loss did not improve from 0.67103\n",
      "\n",
      "Epoch 00088: val_categorical_accuracy did not improve from 0.81097\n",
      "Epoch 89/120\n",
      "1196/1196 [==============================] - 58s 48ms/step - loss: 0.5007 - categorical_accuracy: 0.8236 - val_loss: 0.6767 - val_categorical_accuracy: 0.8071\n",
      "\n",
      "Epoch 00089: val_loss did not improve from 0.67103\n",
      "\n",
      "Epoch 00089: val_categorical_accuracy did not improve from 0.81097\n",
      "Epoch 90/120\n",
      "1196/1196 [==============================] - 58s 49ms/step - loss: 0.5021 - categorical_accuracy: 0.8251 - val_loss: 0.7041 - val_categorical_accuracy: 0.7999\n",
      "\n",
      "Epoch 00090: val_loss did not improve from 0.67103\n",
      "\n",
      "Epoch 00090: val_categorical_accuracy did not improve from 0.81097\n",
      "Epoch 91/120\n",
      "1196/1196 [==============================] - 58s 48ms/step - loss: 0.5028 - categorical_accuracy: 0.8251 - val_loss: 0.6855 - val_categorical_accuracy: 0.8085\n",
      "\n",
      "Epoch 00091: val_loss did not improve from 0.67103\n",
      "\n",
      "Epoch 00091: val_categorical_accuracy did not improve from 0.81097\n",
      "Epoch 92/120\n",
      "1196/1196 [==============================] - 58s 49ms/step - loss: 0.5035 - categorical_accuracy: 0.8250 - val_loss: 0.6883 - val_categorical_accuracy: 0.8140\n",
      "\n",
      "Epoch 00092: val_loss did not improve from 0.67103\n",
      "\n",
      "Epoch 00092: val_categorical_accuracy improved from 0.81097 to 0.81403, saving model to d:\\project\\project/Checkpoints/checkpoints_acc\\Model-epoch_92--val_categorical_accuracy_0.81\n",
      "INFO:tensorflow:Assets written to: d:\\project\\project/Checkpoints/checkpoints_acc\\Model-epoch_92--val_categorical_accuracy_0.81\\assets\n",
      "Epoch 93/120\n",
      "1196/1196 [==============================] - 58s 49ms/step - loss: 0.4957 - categorical_accuracy: 0.8263 - val_loss: 0.6885 - val_categorical_accuracy: 0.8086\n",
      "\n",
      "Epoch 00093: val_loss did not improve from 0.67103\n",
      "\n",
      "Epoch 00093: val_categorical_accuracy did not improve from 0.81403\n",
      "Epoch 94/120\n",
      "1196/1196 [==============================] - 59s 49ms/step - loss: 0.4968 - categorical_accuracy: 0.8273 - val_loss: 0.7142 - val_categorical_accuracy: 0.8065\n",
      "\n",
      "Epoch 00094: val_loss did not improve from 0.67103\n",
      "\n",
      "Epoch 00094: val_categorical_accuracy did not improve from 0.81403\n",
      "Epoch 95/120\n",
      "1196/1196 [==============================] - 58s 48ms/step - loss: 0.5043 - categorical_accuracy: 0.8260 - val_loss: 0.6943 - val_categorical_accuracy: 0.8047\n",
      "\n",
      "Epoch 00095: val_loss did not improve from 0.67103\n",
      "\n",
      "Epoch 00095: val_categorical_accuracy did not improve from 0.81403\n",
      "Epoch 96/120\n",
      "1196/1196 [==============================] - 58s 48ms/step - loss: 0.4938 - categorical_accuracy: 0.8283 - val_loss: 0.6871 - val_categorical_accuracy: 0.8185\n",
      "\n",
      "Epoch 00096: val_loss did not improve from 0.67103\n",
      "\n",
      "Epoch 00096: val_categorical_accuracy improved from 0.81403 to 0.81850, saving model to d:\\project\\project/Checkpoints/checkpoints_acc\\Model-epoch_96--val_categorical_accuracy_0.82\n",
      "INFO:tensorflow:Assets written to: d:\\project\\project/Checkpoints/checkpoints_acc\\Model-epoch_96--val_categorical_accuracy_0.82\\assets\n",
      "Epoch 97/120\n",
      "1196/1196 [==============================] - 58s 48ms/step - loss: 0.5028 - categorical_accuracy: 0.8249 - val_loss: 0.6858 - val_categorical_accuracy: 0.8104\n",
      "\n",
      "Epoch 00097: val_loss did not improve from 0.67103\n",
      "\n",
      "Epoch 00097: val_categorical_accuracy did not improve from 0.81850\n",
      "Epoch 98/120\n",
      "1196/1196 [==============================] - 58s 49ms/step - loss: 0.4927 - categorical_accuracy: 0.8294 - val_loss: 0.6878 - val_categorical_accuracy: 0.8112\n",
      "\n",
      "Epoch 00098: val_loss did not improve from 0.67103\n",
      "\n",
      "Epoch 00098: val_categorical_accuracy did not improve from 0.81850\n",
      "Epoch 99/120\n",
      "1196/1196 [==============================] - 58s 48ms/step - loss: 0.4940 - categorical_accuracy: 0.8269 - val_loss: 0.7103 - val_categorical_accuracy: 0.7928\n",
      "\n",
      "Epoch 00099: val_loss did not improve from 0.67103\n",
      "\n",
      "Epoch 00099: val_categorical_accuracy did not improve from 0.81850\n",
      "Epoch 100/120\n",
      "1196/1196 [==============================] - 58s 49ms/step - loss: 0.4934 - categorical_accuracy: 0.8272 - val_loss: 0.7134 - val_categorical_accuracy: 0.7991\n",
      "\n",
      "Epoch 00100: val_loss did not improve from 0.67103\n",
      "\n",
      "Epoch 00100: val_categorical_accuracy did not improve from 0.81850\n",
      "Epoch 101/120\n",
      "1196/1196 [==============================] - 58s 49ms/step - loss: 0.4971 - categorical_accuracy: 0.8267 - val_loss: 0.6760 - val_categorical_accuracy: 0.8101\n",
      "\n",
      "Epoch 00101: val_loss did not improve from 0.67103\n",
      "\n",
      "Epoch 00101: val_categorical_accuracy did not improve from 0.81850\n"
     ]
    }
   ],
   "source": [
    "#%%time\n",
    "emotion_model_info = emotion_model.fit(\n",
    "        train_generator,\n",
    "        steps_per_epoch=train_sample_size // batch_size,\n",
    "        epochs=120,\n",
    "        validation_data=validation_generator,\n",
    "        validation_steps=validation_sample_size // batch_size,\n",
    "        callbacks=callback)"
   ]
  },
  {
   "cell_type": "code",
   "execution_count": 13,
   "metadata": {},
   "outputs": [
    {
     "name": "stdout",
     "output_type": "stream",
     "text": [
      "INFO:tensorflow:Assets written to: d:\\project\\project/Models/nadam\\assets\n"
     ]
    }
   ],
   "source": [
    "path1 = path+'/Models'\n",
    "emotion_model1=emotion_model\n",
    "emotion_model1.save(path1+'/nadam')\n",
    "emotion_model.save_weights(path1+f\"/nadam_weights/emotion-reg-weight-{emotion_model_info.history['categorical_accuracy'][-1]}\"+\".h5\")"
   ]
  },
  {
   "cell_type": "code",
   "execution_count": 14,
   "metadata": {},
   "outputs": [
    {
     "name": "stdout",
     "output_type": "stream",
     "text": [
      "dict_keys(['loss', 'categorical_accuracy', 'val_loss', 'val_categorical_accuracy'])\n"
     ]
    },
    {
     "data": {
      "image/png": "[encoded data removed]",
      "text/plain": [
       "<Figure size 432x288 with 1 Axes>"
      ]
     },
     "metadata": {
      "needs_background": "light"
     },
     "output_type": "display_data"
    },
    {
     "data": {
      "image/png": "[encoded data removed]",
      "text/plain": [
       "<Figure size 432x288 with 1 Axes>"
      ]
     },
     "metadata": {
      "needs_background": "light"
     },
     "output_type": "display_data"
    }
   ],
   "source": [
    "# list all data in history\n",
    "print(emotion_model_info.history.keys())\n",
    "# summarize history for accuracy\n",
    "plt.plot(emotion_model_info.history['categorical_accuracy'])\n",
    "plt.plot(emotion_model_info.history['val_categorical_accuracy'])\n",
    "plt.title('Nadam optimiser - model accuracy')\n",
    "plt.ylabel('accuracy')\n",
    "plt.xlabel('epoch')\n",
    "plt.legend(['train', 'test'], loc='upper left')\n",
    "plt.show()\n",
    "# summarize history for loss\n",
    "plt.plot(emotion_model_info.history['loss'])\n",
    "plt.plot(emotion_model_info.history['val_loss'])\n",
    "plt.title('Nadam optimiser - model loss')\n",
    "plt.ylabel('loss')\n",
    "plt.xlabel('epoch')\n",
    "plt.legend(['train', 'test'], loc='upper left')\n",
    "plt.show()"
   ]
  },
  {
   "cell_type": "markdown",
   "metadata": {},
   "source": [
    "---------------------------------------------------------------------------------------------------------------------------------------"
   ]
  },
  {
   "cell_type": "code",
   "execution_count": 15,
   "metadata": {},
   "outputs": [
    {
     "data": {
      "text/plain": [
       "Reusing TensorBoard on port 6006 (pid 17032), started 2 days, 3:58:47 ago. (Use '!kill 17032' to kill it.)"
      ]
     },
     "metadata": {},
     "output_type": "display_data"
    },
    {
     "data": {
      "text/html": [
       "\n",
       "      <iframe id=\"tensorboard-frame-2d8a77024b2d0a8b\" width=\"100%\" height=\"800\" frameborder=\"0\">\n",
       "      </iframe>\n",
       "      <script>\n",
       "        (function() {\n",
       "          const frame = document.getElementById(\"tensorboard-frame-2d8a77024b2d0a8b\");\n",
       "          const url = new URL(\"http://localhost\");\n",
       "          const port = 6006;\n",
       "          if (port) {\n",
       "            url.port = port;\n",
       "          }\n",
       "          frame.src = url;\n",
       "        })();\n",
       "      </script>\n",
       "    "
      ],
      "text/plain": [
       "<IPython.core.display.HTML object>"
      ]
     },
     "metadata": {},
     "output_type": "display_data"
    }
   ],
   "source": [
    "%load_ext tensorboard\n",
    "%tensorboard --logdir path+'/Tensorboard/'"
   ]
  },
  {
   "cell_type": "markdown",
   "metadata": {},
   "source": [
    "-------------------------------------------------------------------------------------------------------------------------------------------------"
   ]
  },
  {
   "cell_type": "markdown",
   "metadata": {},
   "source": [
    "**Convolution Matrix**"
   ]
  },
  {
   "cell_type": "code",
   "execution_count": 16,
   "metadata": {},
   "outputs": [],
   "source": [
    "from sklearn.metrics import confusion_matrix, classification_report"
   ]
  },
  {
   "cell_type": "code",
   "execution_count": 17,
   "metadata": {},
   "outputs": [
    {
     "name": "stdout",
     "output_type": "stream",
     "text": [
      "['angry', 'disgust', 'fear', 'happy', 'neutral', 'sad', 'surprise']\n"
     ]
    }
   ],
   "source": [
    "target_names = list(emotion_dict.values())\n",
    "print(target_names)"
   ]
  },
  {
   "cell_type": "code",
   "execution_count": 18,
   "metadata": {},
   "outputs": [
    {
     "name": "stdout",
     "output_type": "stream",
     "text": [
      "confusion matrix\n",
      "[[1252 1259 1156 2180 1403 1362 1399]\n",
      " [1247 1352 1157 2073 1484 1311 1386]\n",
      " [1293 1362 1170 2121 1430 1268 1367]\n",
      " [2046 2273 1833 3473 2260 2098 2281]\n",
      " [1223 1335 1156 2098 1443 1410 1372]\n",
      " [1278 1350 1175 2246 1448 1340 1396]\n",
      " [1259 1269 1278 2165 1416 1282 1342]]\n"
     ]
    }
   ],
   "source": [
    "y_pred=emotion_model.predict(train_generator)\n",
    "y_pred=np.argmax(y_pred,axis=1)\n",
    "print('confusion matrix')\n",
    "cm=confusion_matrix(train_generator.classes,y_pred)\n",
    "print(cm)"
   ]
  },
  {
   "cell_type": "code",
   "execution_count": 19,
   "metadata": {},
   "outputs": [
    {
     "name": "stdout",
     "output_type": "stream",
     "text": [
      "confusion matrix\n",
      "[[126  11 103 243 183 181 111]\n",
      " [ 15   2   7  24  15  31  17]\n",
      " [130  27 119 264 173 207 104]\n",
      " [246  34 174 448 341 317 214]\n",
      " [164  22 144 304 230 207 162]\n",
      " [157  24 138 304 227 239 158]\n",
      " [106  11  94 204 165 158  93]]\n"
     ]
    }
   ],
   "source": [
    "y_pred=emotion_model.predict(validation_generator)\n",
    "y_pred=np.argmax(y_pred,axis=1)\n",
    "print('confusion matrix')\n",
    "cm=confusion_matrix(validation_generator.classes,y_pred)\n",
    "print(cm)"
   ]
  },
  {
   "cell_type": "code",
   "execution_count": 20,
   "metadata": {},
   "outputs": [
    {
     "name": "stderr",
     "output_type": "stream",
     "text": [
      "C:\\Users\\logesh\\AppData\\Local\\Temp/ipykernel_14428/2774912854.py:6: UserWarning: FixedFormatter should only be used together with FixedLocator\n",
      "  ax.set_xticklabels([''] + target_names)\n",
      "C:\\Users\\logesh\\AppData\\Local\\Temp/ipykernel_14428/2774912854.py:7: UserWarning: FixedFormatter should only be used together with FixedLocator\n",
      "  ax.set_yticklabels([''] + target_names)\n"
     ]
    },
    {
     "data": {
      "image/png": "[encoded data removed]",
      "text/plain": [
       "<Figure size 432x288 with 2 Axes>"
      ]
     },
     "metadata": {
      "needs_background": "light"
     },
     "output_type": "display_data"
    }
   ],
   "source": [
    "fig=plt.figure()\n",
    "ax=fig.add_subplot(111)\n",
    "cax=ax.matshow(cm)\n",
    "plt.title('confusion matrix of the classifier\\n')\n",
    "fig.colorbar(cax)\n",
    "ax.set_xticklabels([''] + target_names)\n",
    "ax.set_yticklabels([''] + target_names)\n",
    "plt.xlabel('predicted')\n",
    "plt.ylabel('True')\n",
    "plt.show()"
   ]
  },
  {
   "cell_type": "code",
   "execution_count": 21,
   "metadata": {},
   "outputs": [
    {
     "name": "stdout",
     "output_type": "stream",
     "text": [
      "[0 0 0 ... 6 6 6]\n",
      "Confusion Matrix\n",
      "[[127  12  95 241 190 191 102]\n",
      " [ 14   4  15  26  17  26   9]\n",
      " [130  18 108 245 195 198 130]\n",
      " [239  31 194 433 332 327 218]\n",
      " [158  26 141 326 213 230 139]\n",
      " [155  24 131 320 234 237 146]\n",
      " [121  16  95 200 153 131 115]]\n"
     ]
    }
   ],
   "source": [
    "Y_pred = emotion_model.predict(validation_generator, 400 // 4)\n",
    "\n",
    "y_pred = np.argmax(Y_pred, axis=1)\n",
    "print(validation_generator.classes)\n",
    "\n",
    "print('Confusion Matrix')\n",
    "\n",
    "cfm = confusion_matrix(validation_generator.classes, y_pred)\n",
    "\n",
    "print(cfm)"
   ]
  },
  {
   "cell_type": "code",
   "execution_count": 22,
   "metadata": {},
   "outputs": [
    {
     "name": "stdout",
     "output_type": "stream",
     "text": [
      "              precision    recall  f1-score   support\n",
      "\n",
      "           0       0.13      0.13      0.13       958\n",
      "           1       0.03      0.04      0.03       111\n",
      "           2       0.14      0.11      0.12      1024\n",
      "           3       0.24      0.24      0.24      1774\n",
      "           4       0.16      0.17      0.17      1233\n",
      "           5       0.18      0.19      0.18      1247\n",
      "           6       0.13      0.14      0.14       831\n",
      "\n",
      "    accuracy                           0.17      7178\n",
      "   macro avg       0.15      0.15      0.14      7178\n",
      "weighted avg       0.17      0.17      0.17      7178\n",
      "\n"
     ]
    }
   ],
   "source": [
    "print(classification_report(validation_generator.classes,y_pred))"
   ]
  },
  {
   "cell_type": "markdown",
   "metadata": {},
   "source": [
    "--------------------------------------------------------------------------------------------------------------------------------------------"
   ]
  },
  {
   "cell_type": "code",
   "execution_count": 23,
   "metadata": {},
   "outputs": [],
   "source": [
    "# %%javascript\n",
    "# IPython.notebook.save_notebook()"
   ]
  },
  {
   "cell_type": "code",
   "execution_count": 24,
   "metadata": {},
   "outputs": [],
   "source": [
    "# #pip install twilio\n",
    "# from twilio.rest import Client"
   ]
  },
  {
   "cell_type": "code",
   "execution_count": 25,
   "metadata": {},
   "outputs": [],
   "source": [
    "# import json\n",
    " \n",
    "# # Opening JSON file\n",
    "# f = open(path+'/twilo.json')\n",
    " \n",
    "# # returns JSON object as\n",
    "# # a dictionary\n",
    "# data = json.load(f)\n",
    " \n",
    "# # Iterating through the json\n",
    "# # list\n",
    "# print(data)\n",
    " \n",
    "# # Closing file\n",
    "# f.close()"
   ]
  },
  {
   "cell_type": "code",
   "execution_count": 26,
   "metadata": {},
   "outputs": [],
   "source": [
    "# message =f\"Accuracy : {emotion_model_info.history['categorical_accuracy'][-1]} Loss : {emotion_model_info.history['loss'][-1]} val_accuracy : {emotion_model_info.history['val_categorical_accuracy'][-1]} val_loss : {emotion_model_info.history['val_loss'][-1]}\"\n",
    "\n",
    "# # # Your Account Sid and Auth Token from twilio account\n",
    "\n",
    "# # # instantiating the Client\n",
    "# client = Client(data['account_sid'], data['auth_token'])\n",
    "# # # sending message\n",
    "# message = client.messages.create(body=message, from_= '+917305746782', to='+917305746782')\n",
    "# # # printing the sid after success\n",
    "# print(message.sid)"
   ]
  },
  {
   "cell_type": "code",
   "execution_count": 27,
   "metadata": {},
   "outputs": [
    {
     "data": {
      "text/plain": [
       "10011"
      ]
     },
     "execution_count": 27,
     "metadata": {},
     "output_type": "execute_result"
    }
   ],
   "source": [
    "import os\n",
    "len(os.listdir(path+'/dataset/FacialExpression-Dataset/Train/angry'))"
   ]
  },
  {
   "cell_type": "code",
   "execution_count": 28,
   "metadata": {},
   "outputs": [],
   "source": [
    "# #compress tensorboard data and check ponits\n",
    "# checkpoints = shutil.make_archive('Checkpoints', \"zip\", path+'/Checkpoints/zip')\n",
    "# tensorboard = shutil.make_archive('Tensorboard',\"zip\",path+'/Tensorboard/zip')"
   ]
  },
  {
   "cell_type": "code",
   "execution_count": 29,
   "metadata": {},
   "outputs": [],
   "source": [
    "# from google.colab import files\n",
    "# from shutil import  copy2\n",
    "\n",
    "# t = input(\"C to copy to drive , D to download\")\n",
    "# if t == 'c' or t == 'C':\n",
    "#   copy2('/content/Checkpoints.zip','/content/drive/MyDrive/7thSem_project/Checkpoints.zip')\n",
    "#   copy2('/content/Tensorboard.zip','/content/drive/MyDrive/7thSem_project/Tensorboard.zip')\n",
    "# elif t == 'd' or t =='D':\n",
    "\n",
    "#   files.download('/content/Checkpoints.zip')\n",
    "\n",
    "#   files.download('/content/Tensorboard.zip')"
   ]
  },
  {
   "cell_type": "markdown",
   "metadata": {},
   "source": [
    "------------------------------------------------------------------------------------------------------------------------------------------------------"
   ]
  },
  {
   "cell_type": "code",
   "execution_count": 30,
   "metadata": {},
   "outputs": [],
   "source": [
    "# import cv2\n",
    "# import numpy as np"
   ]
  },
  {
   "cell_type": "code",
   "execution_count": 31,
   "metadata": {},
   "outputs": [],
   "source": [
    "# # start the webcam feed\n",
    "# cap = cv2.VideoCapture(0)\n",
    "# while True:\n",
    "#     # Find haar cascade to draw bounding box around face\n",
    "#     ret, frame = cap.read()\n",
    "#     if not ret:\n",
    "#         break\n",
    "#     bounding_box = cv2.CascadeClassifier('C:\\\\Users\\\\logesh\\\\AppData\\\\Local\\\\Programs\\\\Python\\\\Python39\\\\Lib\\\\site-packages\\\\cv2\\\\data\\\\haarcascade_frontalface_default.xml')\n",
    "#     gray_frame = cv2.cvtColor(frame, cv2.COLOR_BGR2GRAY)\n",
    "#     num_faces = bounding_box.detectMultiScale(gray_frame,scaleFactor=1.3, minNeighbors=5)\n",
    "\n",
    "#     for (x, y, w, h) in num_faces:\n",
    "#         cv2.rectangle(frame, (x, y-50), (x+w, y+h+10), (255, 0, 0), 2)\n",
    "#         roi_gray_frame = gray_frame[y:y + h, x:x + w]\n",
    "#         cropped_img = np.expand_dims(np.expand_dims(cv2.resize(roi_gray_frame, (48, 48)), -1), 0)\n",
    "#         emotion_prediction = emotion_model.predict(cropped_img)\n",
    "#         maxindex = int(np.argmax(emotion_prediction))\n",
    "#         cv2.putText(frame, emotion_dict[maxindex], (x+20, y-60), cv2.FONT_HERSHEY_SIMPLEX, 1, (255, 255, 255), 2, cv2.LINE_AA)\n",
    "\n",
    "#     cv2.imshow('Facial Expression', cv2.resize(frame,(1200,860),interpolation = cv2.INTER_CUBIC))    \n",
    "#     if cv2.waitKey(1) & 0xFF == ord('q'):\n",
    "#         break"
   ]
  },
  {
   "cell_type": "code",
   "execution_count": 32,
   "metadata": {},
   "outputs": [],
   "source": [
    "# cap.release()\n",
    "# cv2.destroyAllWindows()"
   ]
  },
  {
   "cell_type": "code",
   "execution_count": 33,
   "metadata": {},
   "outputs": [],
   "source": [
    "stop_cuda()"
   ]
  },
  {
   "cell_type": "code",
   "execution_count": 2,
   "metadata": {},
   "outputs": [],
   "source": [
    "# import seaborn\n",
    "# import matplotlib.pyplot as plt\n",
    " \n",
    " \n",
    "# def plot_confusion_matrix(data, labels, output_filename):\n",
    "#     \"\"\"Plot confusion matrix using heatmap.\n",
    " \n",
    "#     Args:\n",
    "#         data (list of list): List of lists with confusion matrix data.\n",
    "#         labels (list): Labels which will be plotted across x and y axis.\n",
    "#         output_filename (str): Path to output file.\n",
    " \n",
    "#     \"\"\"\n",
    "#     seaborn.set(color_codes=True)\n",
    "#     plt.figure(1, figsize=(16, 10))\n",
    " \n",
    "#     plt.title(\"Confusion Matrix\")\n",
    " \n",
    "#     seaborn.set(font_scale=1.4)\n",
    "#     ax = seaborn.heatmap(data, fmt='g', annot=True, cmap=\"YlGnBu\", cbar_kws={'label': 'Scale'})\n",
    " \n",
    "#     ax.set_xticklabels(labels)\n",
    "#     ax.set_yticklabels(labels)\n",
    " \n",
    "#     ax.set(ylabel=\"True Label\", xlabel=\"Predicted Label\")\n",
    "#     plt.show()\n",
    "#     plt.savefig(output_filename, bbox_inches='tight', dpi=300)\n",
    "#     plt.close()\n",
    "\n",
    "\n",
    "# cm = [[127,  12,  95, 241, 190, 191, 102],\n",
    "#  [ 14,   4,  15,  26,  17,  26,   9],\n",
    "#  [130,  18, 108, 245, 195, 198, 130],\n",
    "#  [239,  31, 194, 433, 332, 327, 218],\n",
    "#  [158,  26, 141, 326, 213, 230, 139],\n",
    "#  [155,  24, 131, 320, 234, 237, 146],\n",
    "#  [121,  16,  95, 200, 153, 131, 115]]\n",
    "\n",
    "# target_names = ['angry', 'disgust', 'fear', 'happy', 'neutral', 'sad', 'surprise']\n",
    " "
   ]
  },
  {
   "cell_type": "code",
   "execution_count": 3,
   "id": "25fd30ab",
   "metadata": {},
   "outputs": [
    {
     "data": {
      "image/png": "[encoded data removed]",
      "text/plain": [
       "<Figure size 1152x720 with 2 Axes>"
      ]
     },
     "metadata": {},
     "output_type": "display_data"
    }
   ],
   "source": [
    "# plot_confusion_matrix(cm, target_names, \"nadam_confusion_matrix.png\")"
   ]
  }
 ],
 "metadata": {
  "kernelspec": {
   "display_name": "Python 3.9.0 64-bit",
   "language": "python",
   "name": "python3"
  },
  "language_info": {
   "codemirror_mode": {
    "name": "ipython",
    "version": 3
   },
   "file_extension": ".py",
   "mimetype": "text/x-python",
   "name": "python",
   "nbconvert_exporter": "python",
   "pygments_lexer": "ipython3",
   "version": "3.9.0"
  },
  "vscode": {
   "interpreter": {
    "hash": "830f0125b009c1ba3feaab44ce764bea97d81b327b5bd7e84564a80c83019ea2"
   }
  }
 },
 "nbformat": 4,
 "nbformat_minor": 5
}
