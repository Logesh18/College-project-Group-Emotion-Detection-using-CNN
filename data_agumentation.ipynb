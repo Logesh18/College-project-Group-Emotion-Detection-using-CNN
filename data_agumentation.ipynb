{
 "cells": [
  {
   "cell_type": "code",
   "execution_count": 1,
   "metadata": {},
   "outputs": [],
   "source": [
    "import os\n",
    "from tensorflow.keras.preprocessing.image import img_to_array , load_img ,ImageDataGenerator\n",
    "import shutil"
   ]
  },
  {
   "cell_type": "code",
   "execution_count": 29,
   "metadata": {},
   "outputs": [],
   "source": [
    "cwd = os.getcwd()\n",
    "\n",
    "path = cwd+'/dataset/FacialExpression-Dataset/Test/angry/'\n",
    "#path = cwd+'/dataset/FacialExpression-Dataset/Test/surprise/'\n",
    "\n",
    "sample_size = 10\n",
    "\n",
    "#generate_folder = cwd+'/archive/train/sample_pre'\n",
    "generate_folder = cwd+'/dataset/disgust/'"
   ]
  },
  {
   "cell_type": "code",
   "execution_count": 30,
   "metadata": {},
   "outputs": [
    {
     "data": {
      "text/plain": [
       "958"
      ]
     },
     "execution_count": 30,
     "metadata": {},
     "output_type": "execute_result"
    }
   ],
   "source": [
    "len(os.listdir(path))"
   ]
  },
  {
   "cell_type": "code",
   "execution_count": 18,
   "metadata": {},
   "outputs": [
    {
     "name": "stdout",
     "output_type": "stream",
     "text": [
      "Folder is already there \n",
      "To Delete press 1\n",
      "Nothing press 0\n",
      "Deleted\n",
      "ReCreated\n"
     ]
    }
   ],
   "source": [
    "try:\n",
    "    os.mkdir(generate_folder)\n",
    "except FileExistsError:\n",
    "    print(\"Folder is already there \")\n",
    "    print(\"To Delete press 1\")\n",
    "    print(\"Nothing press 0\")\n",
    "    choice = int(input())\n",
    "    if choice == 1:\n",
    "        shutil.rmtree(generate_folder)\n",
    "        print(\"Deleted\")\n",
    "        os.mkdir(generate_folder)\n",
    "        print(\"ReCreated\")"
   ]
  },
  {
   "cell_type": "code",
   "execution_count": 19,
   "metadata": {},
   "outputs": [],
   "source": [
    "datagen = ImageDataGenerator(\n",
    "    rotation_range=20,\n",
    "    width_shift_range=0.2,\n",
    "    #height_shift_range=0.2,\n",
    "    horizontal_flip=True,\n",
    "    #validation_split=0.2,\n",
    "    rescale=1./25\n",
    ")"
   ]
  },
  {
   "cell_type": "code",
   "execution_count": 20,
   "metadata": {
    "tags": []
   },
   "outputs": [],
   "source": [
    "k = 0\n",
    "for j in os.listdir(path):\n",
    "    k = k+1\n",
    "    img = load_img(path+j)   \n",
    "    img = img_to_array(img)\n",
    "    image = img.reshape((1,)+img.shape) \n",
    "    \n",
    "    i = 1\n",
    "    for data in datagen.flow(image,batch_size=1,save_to_dir=generate_folder,save_format='jpg',save_prefix= os.path.splitext(j)[0]):\n",
    "\n",
    "        if i >= sample_size  :\n",
    "            break\n",
    "        i = i + 1\n",
    "    "
   ]
  },
  {
   "cell_type": "code",
   "execution_count": 9,
   "metadata": {},
   "outputs": [
    {
     "data": {
      "text/plain": [
       "4358"
      ]
     },
     "execution_count": 9,
     "metadata": {},
     "output_type": "execute_result"
    }
   ],
   "source": [
    "len( os.listdir( generate_folder ) )"
   ]
  },
  {
   "cell_type": "code",
   "execution_count": 10,
   "metadata": {},
   "outputs": [
    {
     "data": {
      "text/plain": [
       "436"
      ]
     },
     "execution_count": 10,
     "metadata": {},
     "output_type": "execute_result"
    }
   ],
   "source": [
    "k"
   ]
  },
  {
   "cell_type": "code",
   "execution_count": 13,
   "metadata": {},
   "outputs": [
    {
     "name": "stdout",
     "output_type": "stream",
     "text": [
      "Original file deleted\n"
     ]
    }
   ],
   "source": [
    "#shutil.rmtree(path)\n",
    "print(\"Original file deleted\")\n",
    "\n",
    "os.rename(generate_folder,cwd+'/dataset/FacialExpression-Dataset/Train/disgust')        "
   ]
  },
  {
   "cell_type": "code",
   "execution_count": null,
   "metadata": {},
   "outputs": [],
   "source": []
  }
 ],
 "metadata": {
  "interpreter": {
   "hash": "e61a288041c8535808048480f976f0795314a102180bc1cf12c15f9b12dde511"
  },
  "kernelspec": {
   "display_name": "Python 3.9.0 64-bit",
   "name": "python3"
  },
  "language_info": {
   "codemirror_mode": {
    "name": "ipython",
    "version": 3
   },
   "file_extension": ".py",
   "mimetype": "text/x-python",
   "name": "python",
   "nbconvert_exporter": "python",
   "pygments_lexer": "ipython3",
   "version": "3.9.0"
  }
 },
 "nbformat": 4,
 "nbformat_minor": 5
}
