{
 "cells": [
  {
   "cell_type": "code",
   "execution_count": 1,
   "metadata": {},
   "outputs": [],
   "source": [
    "from tensorflow.keras.models import Sequential\n",
    "from tensorflow.keras.layers import Dense, Dropout, Flatten\n",
    "from tensorflow.keras.layers import Conv2D\n",
    "from tensorflow.keras.optimizers import Adagrad\n",
    "from tensorflow.keras.layers import MaxPooling2D\n",
    "from tensorflow.keras.preprocessing.image import ImageDataGenerator\n",
    "import matplotlib.pyplot as plt\n",
    "from tensorflow.keras import regularizers\n",
    "from tensorflow.keras.callbacks import ModelCheckpoint ,TensorBoard, EarlyStopping\n",
    "import tensorflow as tf\n",
    "import datetime, IPython\n",
    "import numpy as np\n",
    "import os\n"
   ]
  },
  {
   "cell_type": "code",
   "execution_count": 2,
   "metadata": {},
   "outputs": [
    {
     "name": "stdout",
     "output_type": "stream",
     "text": [
      "True\n",
      "[PhysicalDevice(name='/physical_device:GPU:0', device_type='GPU')]\n"
     ]
    }
   ],
   "source": [
    "config=tf.compat.v1.ConfigProto()\n",
    "config.gpu_options.allow_growth = True\n",
    "sess=tf.compat.v1.Session(config=config)\n",
    "print(tf.test.is_built_with_cuda())\n",
    "print(tf.config.list_physical_devices('GPU')) \n"
   ]
  },
  {
   "cell_type": "code",
   "execution_count": 3,
   "metadata": {},
   "outputs": [],
   "source": [
    "def stop_cuda():\n",
    "    from numba import cuda \n",
    "    device = cuda.get_current_device()\n",
    "    device.reset()"
   ]
  },
  {
   "cell_type": "code",
   "execution_count": 4,
   "metadata": {},
   "outputs": [],
   "source": [
    "path = os.getcwd()"
   ]
  },
  {
   "cell_type": "code",
   "execution_count": 5,
   "metadata": {},
   "outputs": [
    {
     "name": "stdout",
     "output_type": "stream",
     "text": [
      "Train :  d:\\project\\project/dataset/FacialExpression-Dataset/Train\n",
      "Val :  d:\\project\\project/dataset/FacialExpression-Dataset/Test\n"
     ]
    }
   ],
   "source": [
    "#train_dir = '/home/jidesh/ML/CNN/Facial-expression/data/train'\n",
    "train_dir = path+'/dataset/FacialExpression-Dataset/Train'\n",
    "val_dir = path+'/dataset/FacialExpression-Dataset/Test'\n",
    "\n",
    "checkpoint_losspath = path+'/Checkpoints/checkpoints_loss/Model-epoch_{epoch:02d}--val_loss_{val_loss:.2f}'\n",
    "checkpoint_accpath = path+'/Checkpoints/checkpoints_acc/Model-epoch_{epoch:02d}--val_categorical_accuracy_{val_categorical_accuracy:.2f}'\n",
    "\n",
    "\n",
    "train_datagen = ImageDataGenerator(rescale=1./255)\n",
    "val_datagen = ImageDataGenerator(rescale=1./255)\n",
    "batch_size = 64\n",
    "img_width = 48\n",
    "img_height = 48\n",
    "\n",
    "print(\"Train : \",train_dir)\n",
    "print(\"Val : \",val_dir)"
   ]
  },
  {
   "cell_type": "code",
   "execution_count": 6,
   "metadata": {},
   "outputs": [
    {
     "name": "stdout",
     "output_type": "stream",
     "text": [
      "Found 76577 images belonging to 7 classes.\n",
      "Found 7178 images belonging to 7 classes.\n"
     ]
    }
   ],
   "source": [
    "train_generator = train_datagen.flow_from_directory(\n",
    "        train_dir,\n",
    "        target_size=(img_width,img_height),\n",
    "        batch_size=batch_size,\n",
    "        color_mode=\"grayscale\",\n",
    "        class_mode='categorical')\n",
    "\n",
    "validation_generator = val_datagen.flow_from_directory(\n",
    "        val_dir,\n",
    "        target_size=(img_width,img_height),\n",
    "        batch_size=batch_size,\n",
    "        color_mode=\"grayscale\",\n",
    "        class_mode='categorical')\n"
   ]
  },
  {
   "cell_type": "code",
   "execution_count": 7,
   "metadata": {},
   "outputs": [
    {
     "name": "stdout",
     "output_type": "stream",
     "text": [
      "Train set size : 76577 class : {'angry': 0, 'disgust': 1, 'fear': 2, 'happy': 3, 'neutral': 4, 'sad': 5, 'surprise': 6} no.of : 7\n",
      "validate set size : 7178 class : {'angry': 0, 'disgust': 1, 'fear': 2, 'happy': 3, 'neutral': 4, 'sad': 5, 'surprise': 6} no.of : 7\n"
     ]
    }
   ],
   "source": [
    "print(\"Train set size : {} class : {} no.of : {}\".format(train_generator.samples,train_generator.class_indices,train_generator.num_classes))\n",
    "train_sample_size = train_generator.samples\n",
    "validation_sample_size = validation_generator.samples\n",
    "print(\"validate set size : {} class : {} no.of : {}\".format(validation_generator.samples,validation_generator.class_indices,validation_generator.num_classes))"
   ]
  },
  {
   "cell_type": "code",
   "execution_count": 8,
   "metadata": {},
   "outputs": [],
   "source": [
    "emotion_model = Sequential()\n",
    " \n",
    "emotion_model.add(Conv2D(32, kernel_size=(3, 3), activation='relu', padding='same',input_shape=(img_height,img_width,1)))\n",
    "emotion_model.add(Conv2D(64, kernel_size=(3, 3), activation='relu', padding='same'))\n",
    "emotion_model.add(MaxPooling2D(pool_size=(2, 2)))\n",
    "emotion_model.add(Dropout(0.3))\n",
    " \n",
    "emotion_model.add(Conv2D(128, kernel_size=(3, 3), activation='relu', padding='same'))\n",
    "emotion_model.add(MaxPooling2D(pool_size=(2, 2)))\n",
    "emotion_model.add(Conv2D(512, kernel_size=(3, 3), activation='relu', padding='same'))\n",
    "emotion_model.add(MaxPooling2D(pool_size=(2, 2)))\n",
    "emotion_model.add(Dropout(0.3))\n",
    "\n",
    "\n",
    "emotion_model.add(Conv2D(256, kernel_size=(3, 3), activation='relu', padding='same'))\n",
    "\n",
    "emotion_model.add(MaxPooling2D(pool_size=(2, 2)))\n",
    "emotion_model.add(Dropout(0.3))\n",
    " \n",
    "emotion_model.add(Flatten())\n",
    "emotion_model.add(Dense(1024, activation='relu'))\n",
    "emotion_model.add(Dropout(0.5))\n",
    "emotion_model.add(Dense(train_generator.num_classes, activation='softmax'))\n",
    "################################################################################\n",
    "#emotion_model.load_weights(path+'/Models/emotion-reg-weight-0.8510841131210327.h5')"
   ]
  },
  {
   "cell_type": "code",
   "execution_count": 9,
   "metadata": {},
   "outputs": [
    {
     "name": "stdout",
     "output_type": "stream",
     "text": [
      "{'angry': 0, 'disgust': 1, 'fear': 2, 'happy': 3, 'neutral': 4, 'sad': 5, 'surprise': 6}\n",
      "{0: 'angry', 1: 'disgust', 2: 'fear', 3: 'happy', 4: 'neutral', 5: 'sad', 6: 'surprise'}\n"
     ]
    }
   ],
   "source": [
    "emotion_dict = train_generator.class_indices\n",
    "print(emotion_dict)\n",
    "#swapping key and values in dictionary\n",
    "emotion_dict={value:key for key, value in emotion_dict.items()}\n",
    "print(emotion_dict)"
   ]
  },
  {
   "cell_type": "code",
   "execution_count": 10,
   "metadata": {},
   "outputs": [],
   "source": [
    "checkpoint_loss = ModelCheckpoint(\n",
    "    filepath=checkpoint_losspath,\n",
    "    save_best_only=True,\n",
    "    monitor='val_loss',\n",
    "    mode='min',\n",
    "    verbose =1\n",
    ")\n",
    "checkpoint_acc = ModelCheckpoint(\n",
    "    filepath=checkpoint_accpath,\n",
    "    save_best_only=True,\n",
    "    monitor='val_categorical_accuracy',\n",
    "    mode='max',\n",
    "    verbose =1\n",
    ")\n",
    "earlystop = EarlyStopping(monitor='val_loss', patience=8,mode='min')\n",
    "#Tensorboard\n",
    "time1 = (datetime.datetime.now() ).strftime('%c')\n",
    "time1 = time1.replace(':','_')\n",
    "#time1 = time1.replace(' ','_')\n",
    "tensorboard = TensorBoard(path+'/Tensorboard/'+time1)\n",
    "callback = [checkpoint_loss,checkpoint_acc,tensorboard,earlystop]"
   ]
  },
  {
   "cell_type": "markdown",
   "metadata": {},
   "source": [
    "----------------------------------------------------------------------------------------------------------------------------------------------"
   ]
  },
  {
   "cell_type": "markdown",
   "metadata": {},
   "source": [
    "**Adagrad Optimiser**"
   ]
  },
  {
   "cell_type": "code",
   "execution_count": 11,
   "metadata": {},
   "outputs": [
    {
     "name": "stdout",
     "output_type": "stream",
     "text": [
      "Model: \"sequential\"\n",
      "_________________________________________________________________\n",
      "Layer (type)                 Output Shape              Param #   \n",
      "=================================================================\n",
      "conv2d (Conv2D)              (None, 48, 48, 32)        320       \n",
      "_________________________________________________________________\n",
      "conv2d_1 (Conv2D)            (None, 48, 48, 64)        18496     \n",
      "_________________________________________________________________\n",
      "max_pooling2d (MaxPooling2D) (None, 24, 24, 64)        0         \n",
      "_________________________________________________________________\n",
      "dropout (Dropout)            (None, 24, 24, 64)        0         \n",
      "_________________________________________________________________\n",
      "conv2d_2 (Conv2D)            (None, 24, 24, 128)       73856     \n",
      "_________________________________________________________________\n",
      "max_pooling2d_1 (MaxPooling2 (None, 12, 12, 128)       0         \n",
      "_________________________________________________________________\n",
      "conv2d_3 (Conv2D)            (None, 12, 12, 512)       590336    \n",
      "_________________________________________________________________\n",
      "max_pooling2d_2 (MaxPooling2 (None, 6, 6, 512)         0         \n",
      "_________________________________________________________________\n",
      "dropout_1 (Dropout)          (None, 6, 6, 512)         0         \n",
      "_________________________________________________________________\n",
      "conv2d_4 (Conv2D)            (None, 6, 6, 256)         1179904   \n",
      "_________________________________________________________________\n",
      "max_pooling2d_3 (MaxPooling2 (None, 3, 3, 256)         0         \n",
      "_________________________________________________________________\n",
      "dropout_2 (Dropout)          (None, 3, 3, 256)         0         \n",
      "_________________________________________________________________\n",
      "flatten (Flatten)            (None, 2304)              0         \n",
      "_________________________________________________________________\n",
      "dense (Dense)                (None, 1024)              2360320   \n",
      "_________________________________________________________________\n",
      "dropout_3 (Dropout)          (None, 1024)              0         \n",
      "_________________________________________________________________\n",
      "dense_1 (Dense)              (None, 7)                 7175      \n",
      "=================================================================\n",
      "Total params: 4,230,407\n",
      "Trainable params: 4,230,407\n",
      "Non-trainable params: 0\n",
      "_________________________________________________________________\n"
     ]
    }
   ],
   "source": [
    "emotion_model.compile(loss='categorical_crossentropy',optimizer=Adagrad(learning_rate=0.01),metrics=['categorical_accuracy'])\n",
    "emotion_model.summary()"
   ]
  },
  {
   "cell_type": "code",
   "execution_count": 12,
   "metadata": {},
   "outputs": [
    {
     "name": "stdout",
     "output_type": "stream",
     "text": [
      "Epoch 1/100\n",
      "1196/1196 [==============================] - 1009s 840ms/step - loss: 1.9238 - categorical_accuracy: 0.2119 - val_loss: 1.9152 - val_categorical_accuracy: 0.2473\n",
      "\n",
      "Epoch 00001: val_loss improved from inf to 1.91523, saving model to d:\\project\\project/Checkpoints/checkpoints_loss\\Model-epoch_01--val_loss_1.92\n",
      "INFO:tensorflow:Assets written to: d:\\project\\project/Checkpoints/checkpoints_loss\\Model-epoch_01--val_loss_1.92\\assets\n",
      "\n",
      "Epoch 00001: val_categorical_accuracy improved from -inf to 0.24735, saving model to d:\\project\\project/Checkpoints/checkpoints_acc\\Model-epoch_01--val_categorical_accuracy_0.25\n",
      "INFO:tensorflow:Assets written to: d:\\project\\project/Checkpoints/checkpoints_acc\\Model-epoch_01--val_categorical_accuracy_0.25\\assets\n",
      "Epoch 2/100\n",
      "1196/1196 [==============================] - 214s 179ms/step - loss: 1.9042 - categorical_accuracy: 0.2212 - val_loss: 1.8737 - val_categorical_accuracy: 0.2606\n",
      "\n",
      "Epoch 00002: val_loss improved from 1.91523 to 1.87368, saving model to d:\\project\\project/Checkpoints/checkpoints_loss\\Model-epoch_02--val_loss_1.87\n",
      "INFO:tensorflow:Assets written to: d:\\project\\project/Checkpoints/checkpoints_loss\\Model-epoch_02--val_loss_1.87\\assets\n",
      "\n",
      "Epoch 00002: val_categorical_accuracy improved from 0.24735 to 0.26060, saving model to d:\\project\\project/Checkpoints/checkpoints_acc\\Model-epoch_02--val_categorical_accuracy_0.26\n",
      "INFO:tensorflow:Assets written to: d:\\project\\project/Checkpoints/checkpoints_acc\\Model-epoch_02--val_categorical_accuracy_0.26\\assets\n",
      "Epoch 3/100\n",
      "1196/1196 [==============================] - 47s 40ms/step - loss: 1.8608 - categorical_accuracy: 0.2594 - val_loss: 1.8011 - val_categorical_accuracy: 0.3309\n",
      "\n",
      "Epoch 00003: val_loss improved from 1.87368 to 1.80109, saving model to d:\\project\\project/Checkpoints/checkpoints_loss\\Model-epoch_03--val_loss_1.80\n",
      "INFO:tensorflow:Assets written to: d:\\project\\project/Checkpoints/checkpoints_loss\\Model-epoch_03--val_loss_1.80\\assets\n",
      "\n",
      "Epoch 00003: val_categorical_accuracy improved from 0.26060 to 0.33092, saving model to d:\\project\\project/Checkpoints/checkpoints_acc\\Model-epoch_03--val_categorical_accuracy_0.33\n",
      "INFO:tensorflow:Assets written to: d:\\project\\project/Checkpoints/checkpoints_acc\\Model-epoch_03--val_categorical_accuracy_0.33\\assets\n",
      "Epoch 4/100\n",
      "1196/1196 [==============================] - 46s 39ms/step - loss: 1.7378 - categorical_accuracy: 0.3287 - val_loss: 1.6630 - val_categorical_accuracy: 0.3573\n",
      "\n",
      "Epoch 00004: val_loss improved from 1.80109 to 1.66297, saving model to d:\\project\\project/Checkpoints/checkpoints_loss\\Model-epoch_04--val_loss_1.66\n",
      "INFO:tensorflow:Assets written to: d:\\project\\project/Checkpoints/checkpoints_loss\\Model-epoch_04--val_loss_1.66\\assets\n",
      "\n",
      "Epoch 00004: val_categorical_accuracy improved from 0.33092 to 0.35728, saving model to d:\\project\\project/Checkpoints/checkpoints_acc\\Model-epoch_04--val_categorical_accuracy_0.36\n",
      "INFO:tensorflow:Assets written to: d:\\project\\project/Checkpoints/checkpoints_acc\\Model-epoch_04--val_categorical_accuracy_0.36\\assets\n",
      "Epoch 5/100\n",
      "1196/1196 [==============================] - 47s 39ms/step - loss: 1.6104 - categorical_accuracy: 0.3885 - val_loss: 1.5712 - val_categorical_accuracy: 0.3961\n",
      "\n",
      "Epoch 00005: val_loss improved from 1.66297 to 1.57121, saving model to d:\\project\\project/Checkpoints/checkpoints_loss\\Model-epoch_05--val_loss_1.57\n",
      "INFO:tensorflow:Assets written to: d:\\project\\project/Checkpoints/checkpoints_loss\\Model-epoch_05--val_loss_1.57\\assets\n",
      "\n",
      "Epoch 00005: val_categorical_accuracy improved from 0.35728 to 0.39607, saving model to d:\\project\\project/Checkpoints/checkpoints_acc\\Model-epoch_05--val_categorical_accuracy_0.40\n",
      "INFO:tensorflow:Assets written to: d:\\project\\project/Checkpoints/checkpoints_acc\\Model-epoch_05--val_categorical_accuracy_0.40\\assets\n",
      "Epoch 6/100\n",
      "1196/1196 [==============================] - 47s 39ms/step - loss: 1.5186 - categorical_accuracy: 0.4268 - val_loss: 1.5029 - val_categorical_accuracy: 0.4414\n",
      "\n",
      "Epoch 00006: val_loss improved from 1.57121 to 1.50292, saving model to d:\\project\\project/Checkpoints/checkpoints_loss\\Model-epoch_06--val_loss_1.50\n",
      "INFO:tensorflow:Assets written to: d:\\project\\project/Checkpoints/checkpoints_loss\\Model-epoch_06--val_loss_1.50\\assets\n",
      "\n",
      "Epoch 00006: val_categorical_accuracy improved from 0.39607 to 0.44141, saving model to d:\\project\\project/Checkpoints/checkpoints_acc\\Model-epoch_06--val_categorical_accuracy_0.44\n",
      "INFO:tensorflow:Assets written to: d:\\project\\project/Checkpoints/checkpoints_acc\\Model-epoch_06--val_categorical_accuracy_0.44\\assets\n",
      "Epoch 7/100\n",
      "1196/1196 [==============================] - 47s 39ms/step - loss: 1.4440 - categorical_accuracy: 0.4577 - val_loss: 1.4584 - val_categorical_accuracy: 0.4477\n",
      "\n",
      "Epoch 00007: val_loss improved from 1.50292 to 1.45838, saving model to d:\\project\\project/Checkpoints/checkpoints_loss\\Model-epoch_07--val_loss_1.46\n",
      "INFO:tensorflow:Assets written to: d:\\project\\project/Checkpoints/checkpoints_loss\\Model-epoch_07--val_loss_1.46\\assets\n",
      "\n",
      "Epoch 00007: val_categorical_accuracy improved from 0.44141 to 0.44768, saving model to d:\\project\\project/Checkpoints/checkpoints_acc\\Model-epoch_07--val_categorical_accuracy_0.45\n",
      "INFO:tensorflow:Assets written to: d:\\project\\project/Checkpoints/checkpoints_acc\\Model-epoch_07--val_categorical_accuracy_0.45\\assets\n",
      "Epoch 8/100\n",
      "1196/1196 [==============================] - 47s 39ms/step - loss: 1.3826 - categorical_accuracy: 0.4819 - val_loss: 1.3797 - val_categorical_accuracy: 0.4731\n",
      "\n",
      "Epoch 00008: val_loss improved from 1.45838 to 1.37970, saving model to d:\\project\\project/Checkpoints/checkpoints_loss\\Model-epoch_08--val_loss_1.38\n",
      "INFO:tensorflow:Assets written to: d:\\project\\project/Checkpoints/checkpoints_loss\\Model-epoch_08--val_loss_1.38\\assets\n",
      "\n",
      "Epoch 00008: val_categorical_accuracy improved from 0.44768 to 0.47307, saving model to d:\\project\\project/Checkpoints/checkpoints_acc\\Model-epoch_08--val_categorical_accuracy_0.47\n",
      "INFO:tensorflow:Assets written to: d:\\project\\project/Checkpoints/checkpoints_acc\\Model-epoch_08--val_categorical_accuracy_0.47\\assets\n",
      "Epoch 9/100\n",
      "1196/1196 [==============================] - 47s 39ms/step - loss: 1.3265 - categorical_accuracy: 0.5032 - val_loss: 1.3240 - val_categorical_accuracy: 0.4980\n",
      "\n",
      "Epoch 00009: val_loss improved from 1.37970 to 1.32401, saving model to d:\\project\\project/Checkpoints/checkpoints_loss\\Model-epoch_09--val_loss_1.32\n",
      "INFO:tensorflow:Assets written to: d:\\project\\project/Checkpoints/checkpoints_loss\\Model-epoch_09--val_loss_1.32\\assets\n",
      "\n",
      "Epoch 00009: val_categorical_accuracy improved from 0.47307 to 0.49805, saving model to d:\\project\\project/Checkpoints/checkpoints_acc\\Model-epoch_09--val_categorical_accuracy_0.50\n",
      "INFO:tensorflow:Assets written to: d:\\project\\project/Checkpoints/checkpoints_acc\\Model-epoch_09--val_categorical_accuracy_0.50\\assets\n",
      "Epoch 10/100\n",
      "1196/1196 [==============================] - 46s 39ms/step - loss: 1.2739 - categorical_accuracy: 0.5236 - val_loss: 1.2834 - val_categorical_accuracy: 0.5173\n",
      "\n",
      "Epoch 00010: val_loss improved from 1.32401 to 1.28338, saving model to d:\\project\\project/Checkpoints/checkpoints_loss\\Model-epoch_10--val_loss_1.28\n",
      "INFO:tensorflow:Assets written to: d:\\project\\project/Checkpoints/checkpoints_loss\\Model-epoch_10--val_loss_1.28\\assets\n",
      "\n",
      "Epoch 00010: val_categorical_accuracy improved from 0.49805 to 0.51730, saving model to d:\\project\\project/Checkpoints/checkpoints_acc\\Model-epoch_10--val_categorical_accuracy_0.52\n",
      "INFO:tensorflow:Assets written to: d:\\project\\project/Checkpoints/checkpoints_acc\\Model-epoch_10--val_categorical_accuracy_0.52\\assets\n",
      "Epoch 11/100\n",
      "1196/1196 [==============================] - 47s 39ms/step - loss: 1.2271 - categorical_accuracy: 0.5443 - val_loss: 1.2310 - val_categorical_accuracy: 0.5395\n",
      "\n",
      "Epoch 00011: val_loss improved from 1.28338 to 1.23102, saving model to d:\\project\\project/Checkpoints/checkpoints_loss\\Model-epoch_11--val_loss_1.23\n",
      "INFO:tensorflow:Assets written to: d:\\project\\project/Checkpoints/checkpoints_loss\\Model-epoch_11--val_loss_1.23\\assets\n",
      "\n",
      "Epoch 00011: val_categorical_accuracy improved from 0.51730 to 0.53948, saving model to d:\\project\\project/Checkpoints/checkpoints_acc\\Model-epoch_11--val_categorical_accuracy_0.54\n",
      "INFO:tensorflow:Assets written to: d:\\project\\project/Checkpoints/checkpoints_acc\\Model-epoch_11--val_categorical_accuracy_0.54\\assets\n",
      "Epoch 12/100\n",
      "1196/1196 [==============================] - 46s 39ms/step - loss: 1.1819 - categorical_accuracy: 0.5615 - val_loss: 1.1979 - val_categorical_accuracy: 0.5488\n",
      "\n",
      "Epoch 00012: val_loss improved from 1.23102 to 1.19789, saving model to d:\\project\\project/Checkpoints/checkpoints_loss\\Model-epoch_12--val_loss_1.20\n",
      "INFO:tensorflow:Assets written to: d:\\project\\project/Checkpoints/checkpoints_loss\\Model-epoch_12--val_loss_1.20\\assets\n",
      "\n",
      "Epoch 00012: val_categorical_accuracy improved from 0.53948 to 0.54883, saving model to d:\\project\\project/Checkpoints/checkpoints_acc\\Model-epoch_12--val_categorical_accuracy_0.55\n",
      "INFO:tensorflow:Assets written to: d:\\project\\project/Checkpoints/checkpoints_acc\\Model-epoch_12--val_categorical_accuracy_0.55\\assets\n",
      "Epoch 13/100\n",
      "1196/1196 [==============================] - 46s 39ms/step - loss: 1.1411 - categorical_accuracy: 0.5767 - val_loss: 1.2014 - val_categorical_accuracy: 0.5512\n",
      "\n",
      "Epoch 00013: val_loss did not improve from 1.19789\n",
      "\n",
      "Epoch 00013: val_categorical_accuracy improved from 0.54883 to 0.55120, saving model to d:\\project\\project/Checkpoints/checkpoints_acc\\Model-epoch_13--val_categorical_accuracy_0.55\n",
      "INFO:tensorflow:Assets written to: d:\\project\\project/Checkpoints/checkpoints_acc\\Model-epoch_13--val_categorical_accuracy_0.55\\assets\n",
      "Epoch 14/100\n",
      "1196/1196 [==============================] - 46s 39ms/step - loss: 1.1027 - categorical_accuracy: 0.5914 - val_loss: 1.1502 - val_categorical_accuracy: 0.5728\n",
      "\n",
      "Epoch 00014: val_loss improved from 1.19789 to 1.15022, saving model to d:\\project\\project/Checkpoints/checkpoints_loss\\Model-epoch_14--val_loss_1.15\n",
      "INFO:tensorflow:Assets written to: d:\\project\\project/Checkpoints/checkpoints_loss\\Model-epoch_14--val_loss_1.15\\assets\n",
      "\n",
      "Epoch 00014: val_categorical_accuracy improved from 0.55120 to 0.57282, saving model to d:\\project\\project/Checkpoints/checkpoints_acc\\Model-epoch_14--val_categorical_accuracy_0.57\n",
      "INFO:tensorflow:Assets written to: d:\\project\\project/Checkpoints/checkpoints_acc\\Model-epoch_14--val_categorical_accuracy_0.57\\assets\n",
      "Epoch 15/100\n",
      "1196/1196 [==============================] - 46s 39ms/step - loss: 1.0666 - categorical_accuracy: 0.6079 - val_loss: 1.1261 - val_categorical_accuracy: 0.5823\n",
      "\n",
      "Epoch 00015: val_loss improved from 1.15022 to 1.12606, saving model to d:\\project\\project/Checkpoints/checkpoints_loss\\Model-epoch_15--val_loss_1.13\n",
      "INFO:tensorflow:Assets written to: d:\\project\\project/Checkpoints/checkpoints_loss\\Model-epoch_15--val_loss_1.13\\assets\n",
      "\n",
      "Epoch 00015: val_categorical_accuracy improved from 0.57282 to 0.58231, saving model to d:\\project\\project/Checkpoints/checkpoints_acc\\Model-epoch_15--val_categorical_accuracy_0.58\n",
      "INFO:tensorflow:Assets written to: d:\\project\\project/Checkpoints/checkpoints_acc\\Model-epoch_15--val_categorical_accuracy_0.58\\assets\n",
      "Epoch 16/100\n",
      "1196/1196 [==============================] - 47s 39ms/step - loss: 1.0338 - categorical_accuracy: 0.6193 - val_loss: 1.0626 - val_categorical_accuracy: 0.6110\n",
      "\n",
      "Epoch 00016: val_loss improved from 1.12606 to 1.06263, saving model to d:\\project\\project/Checkpoints/checkpoints_loss\\Model-epoch_16--val_loss_1.06\n",
      "INFO:tensorflow:Assets written to: d:\\project\\project/Checkpoints/checkpoints_loss\\Model-epoch_16--val_loss_1.06\\assets\n",
      "\n",
      "Epoch 00016: val_categorical_accuracy improved from 0.58231 to 0.61105, saving model to d:\\project\\project/Checkpoints/checkpoints_acc\\Model-epoch_16--val_categorical_accuracy_0.61\n",
      "INFO:tensorflow:Assets written to: d:\\project\\project/Checkpoints/checkpoints_acc\\Model-epoch_16--val_categorical_accuracy_0.61\\assets\n",
      "Epoch 17/100\n",
      "1196/1196 [==============================] - 46s 39ms/step - loss: 0.9956 - categorical_accuracy: 0.6348 - val_loss: 1.0463 - val_categorical_accuracy: 0.6150\n",
      "\n",
      "Epoch 00017: val_loss improved from 1.06263 to 1.04635, saving model to d:\\project\\project/Checkpoints/checkpoints_loss\\Model-epoch_17--val_loss_1.05\n",
      "INFO:tensorflow:Assets written to: d:\\project\\project/Checkpoints/checkpoints_loss\\Model-epoch_17--val_loss_1.05\\assets\n",
      "\n",
      "Epoch 00017: val_categorical_accuracy improved from 0.61105 to 0.61496, saving model to d:\\project\\project/Checkpoints/checkpoints_acc\\Model-epoch_17--val_categorical_accuracy_0.61\n",
      "INFO:tensorflow:Assets written to: d:\\project\\project/Checkpoints/checkpoints_acc\\Model-epoch_17--val_categorical_accuracy_0.61\\assets\n",
      "Epoch 18/100\n",
      "1196/1196 [==============================] - 46s 39ms/step - loss: 0.9670 - categorical_accuracy: 0.6459 - val_loss: 1.0464 - val_categorical_accuracy: 0.6228\n",
      "\n",
      "Epoch 00018: val_loss did not improve from 1.04635\n",
      "\n",
      "Epoch 00018: val_categorical_accuracy improved from 0.61496 to 0.62277, saving model to d:\\project\\project/Checkpoints/checkpoints_acc\\Model-epoch_18--val_categorical_accuracy_0.62\n",
      "INFO:tensorflow:Assets written to: d:\\project\\project/Checkpoints/checkpoints_acc\\Model-epoch_18--val_categorical_accuracy_0.62\\assets\n",
      "Epoch 19/100\n",
      "1196/1196 [==============================] - 46s 39ms/step - loss: 0.9372 - categorical_accuracy: 0.6578 - val_loss: 1.0083 - val_categorical_accuracy: 0.6342\n",
      "\n",
      "Epoch 00019: val_loss improved from 1.04635 to 1.00832, saving model to d:\\project\\project/Checkpoints/checkpoints_loss\\Model-epoch_19--val_loss_1.01\n",
      "INFO:tensorflow:Assets written to: d:\\project\\project/Checkpoints/checkpoints_loss\\Model-epoch_19--val_loss_1.01\\assets\n",
      "\n",
      "Epoch 00019: val_categorical_accuracy improved from 0.62277 to 0.63421, saving model to d:\\project\\project/Checkpoints/checkpoints_acc\\Model-epoch_19--val_categorical_accuracy_0.63\n",
      "INFO:tensorflow:Assets written to: d:\\project\\project/Checkpoints/checkpoints_acc\\Model-epoch_19--val_categorical_accuracy_0.63\\assets\n",
      "Epoch 20/100\n",
      "1196/1196 [==============================] - 47s 39ms/step - loss: 0.9060 - categorical_accuracy: 0.6694 - val_loss: 0.9781 - val_categorical_accuracy: 0.6456\n",
      "\n",
      "Epoch 00020: val_loss improved from 1.00832 to 0.97814, saving model to d:\\project\\project/Checkpoints/checkpoints_loss\\Model-epoch_20--val_loss_0.98\n",
      "INFO:tensorflow:Assets written to: d:\\project\\project/Checkpoints/checkpoints_loss\\Model-epoch_20--val_loss_0.98\\assets\n",
      "\n",
      "Epoch 00020: val_categorical_accuracy improved from 0.63421 to 0.64565, saving model to d:\\project\\project/Checkpoints/checkpoints_acc\\Model-epoch_20--val_categorical_accuracy_0.65\n",
      "INFO:tensorflow:Assets written to: d:\\project\\project/Checkpoints/checkpoints_acc\\Model-epoch_20--val_categorical_accuracy_0.65\\assets\n",
      "Epoch 21/100\n",
      "1196/1196 [==============================] - 47s 39ms/step - loss: 0.8790 - categorical_accuracy: 0.6783 - val_loss: 0.9491 - val_categorical_accuracy: 0.6631\n",
      "\n",
      "Epoch 00021: val_loss improved from 0.97814 to 0.94912, saving model to d:\\project\\project/Checkpoints/checkpoints_loss\\Model-epoch_21--val_loss_0.95\n",
      "INFO:tensorflow:Assets written to: d:\\project\\project/Checkpoints/checkpoints_loss\\Model-epoch_21--val_loss_0.95\\assets\n",
      "\n",
      "Epoch 00021: val_categorical_accuracy improved from 0.64565 to 0.66309, saving model to d:\\project\\project/Checkpoints/checkpoints_acc\\Model-epoch_21--val_categorical_accuracy_0.66\n",
      "INFO:tensorflow:Assets written to: d:\\project\\project/Checkpoints/checkpoints_acc\\Model-epoch_21--val_categorical_accuracy_0.66\\assets\n",
      "Epoch 22/100\n",
      "1196/1196 [==============================] - 46s 39ms/step - loss: 0.8490 - categorical_accuracy: 0.6897 - val_loss: 1.0134 - val_categorical_accuracy: 0.6383\n",
      "\n",
      "Epoch 00022: val_loss did not improve from 0.94912\n",
      "\n",
      "Epoch 00022: val_categorical_accuracy did not improve from 0.66309\n",
      "Epoch 23/100\n",
      "1196/1196 [==============================] - 46s 39ms/step - loss: 0.8229 - categorical_accuracy: 0.6996 - val_loss: 0.9153 - val_categorical_accuracy: 0.6779\n",
      "\n",
      "Epoch 00023: val_loss improved from 0.94912 to 0.91528, saving model to d:\\project\\project/Checkpoints/checkpoints_loss\\Model-epoch_23--val_loss_0.92\n",
      "INFO:tensorflow:Assets written to: d:\\project\\project/Checkpoints/checkpoints_loss\\Model-epoch_23--val_loss_0.92\\assets\n",
      "\n",
      "Epoch 00023: val_categorical_accuracy improved from 0.66309 to 0.67787, saving model to d:\\project\\project/Checkpoints/checkpoints_acc\\Model-epoch_23--val_categorical_accuracy_0.68\n",
      "INFO:tensorflow:Assets written to: d:\\project\\project/Checkpoints/checkpoints_acc\\Model-epoch_23--val_categorical_accuracy_0.68\\assets\n",
      "Epoch 24/100\n",
      "1196/1196 [==============================] - 46s 39ms/step - loss: 0.7890 - categorical_accuracy: 0.7139 - val_loss: 0.9036 - val_categorical_accuracy: 0.6814\n",
      "\n",
      "Epoch 00024: val_loss improved from 0.91528 to 0.90359, saving model to d:\\project\\project/Checkpoints/checkpoints_loss\\Model-epoch_24--val_loss_0.90\n",
      "INFO:tensorflow:Assets written to: d:\\project\\project/Checkpoints/checkpoints_loss\\Model-epoch_24--val_loss_0.90\\assets\n",
      "\n",
      "Epoch 00024: val_categorical_accuracy improved from 0.67787 to 0.68136, saving model to d:\\project\\project/Checkpoints/checkpoints_acc\\Model-epoch_24--val_categorical_accuracy_0.68\n",
      "INFO:tensorflow:Assets written to: d:\\project\\project/Checkpoints/checkpoints_acc\\Model-epoch_24--val_categorical_accuracy_0.68\\assets\n",
      "Epoch 25/100\n",
      "1196/1196 [==============================] - 46s 39ms/step - loss: 0.7657 - categorical_accuracy: 0.7224 - val_loss: 0.8756 - val_categorical_accuracy: 0.6939\n",
      "\n",
      "Epoch 00025: val_loss improved from 0.90359 to 0.87561, saving model to d:\\project\\project/Checkpoints/checkpoints_loss\\Model-epoch_25--val_loss_0.88\n",
      "INFO:tensorflow:Assets written to: d:\\project\\project/Checkpoints/checkpoints_loss\\Model-epoch_25--val_loss_0.88\\assets\n",
      "\n",
      "Epoch 00025: val_categorical_accuracy improved from 0.68136 to 0.69392, saving model to d:\\project\\project/Checkpoints/checkpoints_acc\\Model-epoch_25--val_categorical_accuracy_0.69\n",
      "INFO:tensorflow:Assets written to: d:\\project\\project/Checkpoints/checkpoints_acc\\Model-epoch_25--val_categorical_accuracy_0.69\\assets\n",
      "Epoch 26/100\n",
      "1196/1196 [==============================] - 46s 39ms/step - loss: 0.7360 - categorical_accuracy: 0.7350 - val_loss: 0.8427 - val_categorical_accuracy: 0.7037\n",
      "\n",
      "Epoch 00026: val_loss improved from 0.87561 to 0.84274, saving model to d:\\project\\project/Checkpoints/checkpoints_loss\\Model-epoch_26--val_loss_0.84\n",
      "INFO:tensorflow:Assets written to: d:\\project\\project/Checkpoints/checkpoints_loss\\Model-epoch_26--val_loss_0.84\\assets\n",
      "\n",
      "Epoch 00026: val_categorical_accuracy improved from 0.69392 to 0.70368, saving model to d:\\project\\project/Checkpoints/checkpoints_acc\\Model-epoch_26--val_categorical_accuracy_0.70\n",
      "INFO:tensorflow:Assets written to: d:\\project\\project/Checkpoints/checkpoints_acc\\Model-epoch_26--val_categorical_accuracy_0.70\\assets\n",
      "Epoch 27/100\n",
      "1196/1196 [==============================] - 46s 39ms/step - loss: 0.7099 - categorical_accuracy: 0.7432 - val_loss: 0.8215 - val_categorical_accuracy: 0.7169\n",
      "\n",
      "Epoch 00027: val_loss improved from 0.84274 to 0.82152, saving model to d:\\project\\project/Checkpoints/checkpoints_loss\\Model-epoch_27--val_loss_0.82\n",
      "INFO:tensorflow:Assets written to: d:\\project\\project/Checkpoints/checkpoints_loss\\Model-epoch_27--val_loss_0.82\\assets\n",
      "\n",
      "Epoch 00027: val_categorical_accuracy improved from 0.70368 to 0.71694, saving model to d:\\project\\project/Checkpoints/checkpoints_acc\\Model-epoch_27--val_categorical_accuracy_0.72\n",
      "INFO:tensorflow:Assets written to: d:\\project\\project/Checkpoints/checkpoints_acc\\Model-epoch_27--val_categorical_accuracy_0.72\\assets\n",
      "Epoch 28/100\n",
      "1196/1196 [==============================] - 46s 39ms/step - loss: 0.6868 - categorical_accuracy: 0.7516 - val_loss: 0.8288 - val_categorical_accuracy: 0.7183\n",
      "\n",
      "Epoch 00028: val_loss did not improve from 0.82152\n",
      "\n",
      "Epoch 00028: val_categorical_accuracy improved from 0.71694 to 0.71833, saving model to d:\\project\\project/Checkpoints/checkpoints_acc\\Model-epoch_28--val_categorical_accuracy_0.72\n",
      "INFO:tensorflow:Assets written to: d:\\project\\project/Checkpoints/checkpoints_acc\\Model-epoch_28--val_categorical_accuracy_0.72\\assets\n",
      "Epoch 29/100\n",
      "1196/1196 [==============================] - 47s 39ms/step - loss: 0.6626 - categorical_accuracy: 0.7620 - val_loss: 0.8071 - val_categorical_accuracy: 0.7302\n",
      "\n",
      "Epoch 00029: val_loss improved from 0.82152 to 0.80713, saving model to d:\\project\\project/Checkpoints/checkpoints_loss\\Model-epoch_29--val_loss_0.81\n",
      "INFO:tensorflow:Assets written to: d:\\project\\project/Checkpoints/checkpoints_loss\\Model-epoch_29--val_loss_0.81\\assets\n",
      "\n",
      "Epoch 00029: val_categorical_accuracy improved from 0.71833 to 0.73019, saving model to d:\\project\\project/Checkpoints/checkpoints_acc\\Model-epoch_29--val_categorical_accuracy_0.73\n",
      "INFO:tensorflow:Assets written to: d:\\project\\project/Checkpoints/checkpoints_acc\\Model-epoch_29--val_categorical_accuracy_0.73\\assets\n",
      "Epoch 30/100\n",
      "1196/1196 [==============================] - 137s 115ms/step - loss: 0.6366 - categorical_accuracy: 0.7694 - val_loss: 0.7985 - val_categorical_accuracy: 0.7355\n",
      "\n",
      "Epoch 00030: val_loss improved from 0.80713 to 0.79846, saving model to d:\\project\\project/Checkpoints/checkpoints_loss\\Model-epoch_30--val_loss_0.80\n",
      "INFO:tensorflow:Assets written to: d:\\project\\project/Checkpoints/checkpoints_loss\\Model-epoch_30--val_loss_0.80\\assets\n",
      "\n",
      "Epoch 00030: val_categorical_accuracy improved from 0.73019 to 0.73549, saving model to d:\\project\\project/Checkpoints/checkpoints_acc\\Model-epoch_30--val_categorical_accuracy_0.74\n",
      "INFO:tensorflow:Assets written to: d:\\project\\project/Checkpoints/checkpoints_acc\\Model-epoch_30--val_categorical_accuracy_0.74\\assets\n",
      "Epoch 31/100\n",
      "1196/1196 [==============================] - 48s 40ms/step - loss: 0.6127 - categorical_accuracy: 0.7796 - val_loss: 0.7534 - val_categorical_accuracy: 0.7550\n",
      "\n",
      "Epoch 00031: val_loss improved from 0.79846 to 0.75340, saving model to d:\\project\\project/Checkpoints/checkpoints_loss\\Model-epoch_31--val_loss_0.75\n",
      "INFO:tensorflow:Assets written to: d:\\project\\project/Checkpoints/checkpoints_loss\\Model-epoch_31--val_loss_0.75\\assets\n",
      "\n",
      "Epoch 00031: val_categorical_accuracy improved from 0.73549 to 0.75502, saving model to d:\\project\\project/Checkpoints/checkpoints_acc\\Model-epoch_31--val_categorical_accuracy_0.76\n",
      "INFO:tensorflow:Assets written to: d:\\project\\project/Checkpoints/checkpoints_acc\\Model-epoch_31--val_categorical_accuracy_0.76\\assets\n",
      "Epoch 32/100\n",
      "1196/1196 [==============================] - 47s 39ms/step - loss: 0.5895 - categorical_accuracy: 0.7893 - val_loss: 0.7777 - val_categorical_accuracy: 0.7493\n",
      "\n",
      "Epoch 00032: val_loss did not improve from 0.75340\n",
      "\n",
      "Epoch 00032: val_categorical_accuracy did not improve from 0.75502\n",
      "Epoch 33/100\n",
      "1196/1196 [==============================] - 46s 39ms/step - loss: 0.5705 - categorical_accuracy: 0.7954 - val_loss: 0.7471 - val_categorical_accuracy: 0.7616\n",
      "\n",
      "Epoch 00033: val_loss improved from 0.75340 to 0.74706, saving model to d:\\project\\project/Checkpoints/checkpoints_loss\\Model-epoch_33--val_loss_0.75\n",
      "INFO:tensorflow:Assets written to: d:\\project\\project/Checkpoints/checkpoints_loss\\Model-epoch_33--val_loss_0.75\\assets\n",
      "\n",
      "Epoch 00033: val_categorical_accuracy improved from 0.75502 to 0.76158, saving model to d:\\project\\project/Checkpoints/checkpoints_acc\\Model-epoch_33--val_categorical_accuracy_0.76\n",
      "INFO:tensorflow:Assets written to: d:\\project\\project/Checkpoints/checkpoints_acc\\Model-epoch_33--val_categorical_accuracy_0.76\\assets\n",
      "Epoch 34/100\n",
      "1196/1196 [==============================] - 47s 39ms/step - loss: 0.5511 - categorical_accuracy: 0.8020 - val_loss: 0.7174 - val_categorical_accuracy: 0.7762\n",
      "\n",
      "Epoch 00034: val_loss improved from 0.74706 to 0.71743, saving model to d:\\project\\project/Checkpoints/checkpoints_loss\\Model-epoch_34--val_loss_0.72\n",
      "INFO:tensorflow:Assets written to: d:\\project\\project/Checkpoints/checkpoints_loss\\Model-epoch_34--val_loss_0.72\\assets\n",
      "\n",
      "Epoch 00034: val_categorical_accuracy improved from 0.76158 to 0.77623, saving model to d:\\project\\project/Checkpoints/checkpoints_acc\\Model-epoch_34--val_categorical_accuracy_0.78\n",
      "INFO:tensorflow:Assets written to: d:\\project\\project/Checkpoints/checkpoints_acc\\Model-epoch_34--val_categorical_accuracy_0.78\\assets\n",
      "Epoch 35/100\n",
      "1196/1196 [==============================] - 46s 39ms/step - loss: 0.5314 - categorical_accuracy: 0.8097 - val_loss: 0.7176 - val_categorical_accuracy: 0.7796\n",
      "\n",
      "Epoch 00035: val_loss did not improve from 0.71743\n",
      "\n",
      "Epoch 00035: val_categorical_accuracy improved from 0.77623 to 0.77958, saving model to d:\\project\\project/Checkpoints/checkpoints_acc\\Model-epoch_35--val_categorical_accuracy_0.78\n",
      "INFO:tensorflow:Assets written to: d:\\project\\project/Checkpoints/checkpoints_acc\\Model-epoch_35--val_categorical_accuracy_0.78\\assets\n",
      "Epoch 36/100\n",
      "1196/1196 [==============================] - 46s 39ms/step - loss: 0.5108 - categorical_accuracy: 0.8193 - val_loss: 0.7107 - val_categorical_accuracy: 0.7803\n",
      "\n",
      "Epoch 00036: val_loss improved from 0.71743 to 0.71068, saving model to d:\\project\\project/Checkpoints/checkpoints_loss\\Model-epoch_36--val_loss_0.71\n",
      "INFO:tensorflow:Assets written to: d:\\project\\project/Checkpoints/checkpoints_loss\\Model-epoch_36--val_loss_0.71\\assets\n",
      "\n",
      "Epoch 00036: val_categorical_accuracy improved from 0.77958 to 0.78027, saving model to d:\\project\\project/Checkpoints/checkpoints_acc\\Model-epoch_36--val_categorical_accuracy_0.78\n",
      "INFO:tensorflow:Assets written to: d:\\project\\project/Checkpoints/checkpoints_acc\\Model-epoch_36--val_categorical_accuracy_0.78\\assets\n",
      "Epoch 37/100\n",
      "1196/1196 [==============================] - 54s 45ms/step - loss: 0.4956 - categorical_accuracy: 0.8242 - val_loss: 0.6969 - val_categorical_accuracy: 0.7916\n",
      "\n",
      "Epoch 00037: val_loss improved from 0.71068 to 0.69689, saving model to d:\\project\\project/Checkpoints/checkpoints_loss\\Model-epoch_37--val_loss_0.70\n",
      "INFO:tensorflow:Assets written to: d:\\project\\project/Checkpoints/checkpoints_loss\\Model-epoch_37--val_loss_0.70\\assets\n",
      "\n",
      "Epoch 00037: val_categorical_accuracy improved from 0.78027 to 0.79157, saving model to d:\\project\\project/Checkpoints/checkpoints_acc\\Model-epoch_37--val_categorical_accuracy_0.79\n",
      "INFO:tensorflow:Assets written to: d:\\project\\project/Checkpoints/checkpoints_acc\\Model-epoch_37--val_categorical_accuracy_0.79\\assets\n",
      "Epoch 38/100\n",
      "1196/1196 [==============================] - 57s 47ms/step - loss: 0.4811 - categorical_accuracy: 0.8285 - val_loss: 0.6857 - val_categorical_accuracy: 0.7969\n",
      "\n",
      "Epoch 00038: val_loss improved from 0.69689 to 0.68573, saving model to d:\\project\\project/Checkpoints/checkpoints_loss\\Model-epoch_38--val_loss_0.69\n",
      "INFO:tensorflow:Assets written to: d:\\project\\project/Checkpoints/checkpoints_loss\\Model-epoch_38--val_loss_0.69\\assets\n",
      "\n",
      "Epoch 00038: val_categorical_accuracy improved from 0.79157 to 0.79688, saving model to d:\\project\\project/Checkpoints/checkpoints_acc\\Model-epoch_38--val_categorical_accuracy_0.80\n",
      "INFO:tensorflow:Assets written to: d:\\project\\project/Checkpoints/checkpoints_acc\\Model-epoch_38--val_categorical_accuracy_0.80\\assets\n",
      "Epoch 39/100\n",
      "1196/1196 [==============================] - 57s 48ms/step - loss: 0.4613 - categorical_accuracy: 0.8351 - val_loss: 0.6692 - val_categorical_accuracy: 0.8043\n",
      "\n",
      "Epoch 00039: val_loss improved from 0.68573 to 0.66922, saving model to d:\\project\\project/Checkpoints/checkpoints_loss\\Model-epoch_39--val_loss_0.67\n",
      "INFO:tensorflow:Assets written to: d:\\project\\project/Checkpoints/checkpoints_loss\\Model-epoch_39--val_loss_0.67\\assets\n",
      "\n",
      "Epoch 00039: val_categorical_accuracy improved from 0.79688 to 0.80427, saving model to d:\\project\\project/Checkpoints/checkpoints_acc\\Model-epoch_39--val_categorical_accuracy_0.80\n",
      "INFO:tensorflow:Assets written to: d:\\project\\project/Checkpoints/checkpoints_acc\\Model-epoch_39--val_categorical_accuracy_0.80\\assets\n",
      "Epoch 40/100\n",
      "1196/1196 [==============================] - 57s 48ms/step - loss: 0.4457 - categorical_accuracy: 0.8407 - val_loss: 0.6635 - val_categorical_accuracy: 0.8089\n",
      "\n",
      "Epoch 00040: val_loss improved from 0.66922 to 0.66355, saving model to d:\\project\\project/Checkpoints/checkpoints_loss\\Model-epoch_40--val_loss_0.66\n",
      "INFO:tensorflow:Assets written to: d:\\project\\project/Checkpoints/checkpoints_loss\\Model-epoch_40--val_loss_0.66\\assets\n",
      "\n",
      "Epoch 00040: val_categorical_accuracy improved from 0.80427 to 0.80887, saving model to d:\\project\\project/Checkpoints/checkpoints_acc\\Model-epoch_40--val_categorical_accuracy_0.81\n",
      "INFO:tensorflow:Assets written to: d:\\project\\project/Checkpoints/checkpoints_acc\\Model-epoch_40--val_categorical_accuracy_0.81\\assets\n",
      "Epoch 41/100\n",
      "1196/1196 [==============================] - 57s 47ms/step - loss: 0.4348 - categorical_accuracy: 0.8455 - val_loss: 0.6864 - val_categorical_accuracy: 0.8034\n",
      "\n",
      "Epoch 00041: val_loss did not improve from 0.66355\n",
      "\n",
      "Epoch 00041: val_categorical_accuracy did not improve from 0.80887\n",
      "Epoch 42/100\n",
      "1196/1196 [==============================] - 57s 48ms/step - loss: 0.4189 - categorical_accuracy: 0.8514 - val_loss: 0.6608 - val_categorical_accuracy: 0.8105\n",
      "\n",
      "Epoch 00042: val_loss improved from 0.66355 to 0.66077, saving model to d:\\project\\project/Checkpoints/checkpoints_loss\\Model-epoch_42--val_loss_0.66\n",
      "INFO:tensorflow:Assets written to: d:\\project\\project/Checkpoints/checkpoints_loss\\Model-epoch_42--val_loss_0.66\\assets\n",
      "\n",
      "Epoch 00042: val_categorical_accuracy improved from 0.80887 to 0.81055, saving model to d:\\project\\project/Checkpoints/checkpoints_acc\\Model-epoch_42--val_categorical_accuracy_0.81\n",
      "INFO:tensorflow:Assets written to: d:\\project\\project/Checkpoints/checkpoints_acc\\Model-epoch_42--val_categorical_accuracy_0.81\\assets\n",
      "Epoch 43/100\n",
      "1196/1196 [==============================] - 54s 45ms/step - loss: 0.4073 - categorical_accuracy: 0.8547 - val_loss: 0.6535 - val_categorical_accuracy: 0.8129\n",
      "\n",
      "Epoch 00043: val_loss improved from 0.66077 to 0.65349, saving model to d:\\project\\project/Checkpoints/checkpoints_loss\\Model-epoch_43--val_loss_0.65\n",
      "INFO:tensorflow:Assets written to: d:\\project\\project/Checkpoints/checkpoints_loss\\Model-epoch_43--val_loss_0.65\\assets\n",
      "\n",
      "Epoch 00043: val_categorical_accuracy improved from 0.81055 to 0.81292, saving model to d:\\project\\project/Checkpoints/checkpoints_acc\\Model-epoch_43--val_categorical_accuracy_0.81\n",
      "INFO:tensorflow:Assets written to: d:\\project\\project/Checkpoints/checkpoints_acc\\Model-epoch_43--val_categorical_accuracy_0.81\\assets\n",
      "Epoch 44/100\n",
      "1196/1196 [==============================] - 47s 39ms/step - loss: 0.3973 - categorical_accuracy: 0.8590 - val_loss: 0.6348 - val_categorical_accuracy: 0.8199\n",
      "\n",
      "Epoch 00044: val_loss improved from 0.65349 to 0.63483, saving model to d:\\project\\project/Checkpoints/checkpoints_loss\\Model-epoch_44--val_loss_0.63\n",
      "INFO:tensorflow:Assets written to: d:\\project\\project/Checkpoints/checkpoints_loss\\Model-epoch_44--val_loss_0.63\\assets\n",
      "\n",
      "Epoch 00044: val_categorical_accuracy improved from 0.81292 to 0.81989, saving model to d:\\project\\project/Checkpoints/checkpoints_acc\\Model-epoch_44--val_categorical_accuracy_0.82\n",
      "INFO:tensorflow:Assets written to: d:\\project\\project/Checkpoints/checkpoints_acc\\Model-epoch_44--val_categorical_accuracy_0.82\\assets\n",
      "Epoch 45/100\n",
      "1196/1196 [==============================] - 47s 39ms/step - loss: 0.3837 - categorical_accuracy: 0.8636 - val_loss: 0.6657 - val_categorical_accuracy: 0.8198\n",
      "\n",
      "Epoch 00045: val_loss did not improve from 0.63483\n",
      "\n",
      "Epoch 00045: val_categorical_accuracy did not improve from 0.81989\n",
      "Epoch 46/100\n",
      "1196/1196 [==============================] - 46s 39ms/step - loss: 0.3775 - categorical_accuracy: 0.8666 - val_loss: 0.6590 - val_categorical_accuracy: 0.8210\n",
      "\n",
      "Epoch 00046: val_loss did not improve from 0.63483\n",
      "\n",
      "Epoch 00046: val_categorical_accuracy improved from 0.81989 to 0.82101, saving model to d:\\project\\project/Checkpoints/checkpoints_acc\\Model-epoch_46--val_categorical_accuracy_0.82\n",
      "INFO:tensorflow:Assets written to: d:\\project\\project/Checkpoints/checkpoints_acc\\Model-epoch_46--val_categorical_accuracy_0.82\\assets\n",
      "Epoch 47/100\n",
      "1196/1196 [==============================] - 47s 39ms/step - loss: 0.3619 - categorical_accuracy: 0.8712 - val_loss: 0.6584 - val_categorical_accuracy: 0.8189\n",
      "\n",
      "Epoch 00047: val_loss did not improve from 0.63483\n",
      "\n",
      "Epoch 00047: val_categorical_accuracy did not improve from 0.82101\n",
      "Epoch 48/100\n",
      "1196/1196 [==============================] - 47s 39ms/step - loss: 0.3561 - categorical_accuracy: 0.8742 - val_loss: 0.6332 - val_categorical_accuracy: 0.8258\n",
      "\n",
      "Epoch 00048: val_loss improved from 0.63483 to 0.63317, saving model to d:\\project\\project/Checkpoints/checkpoints_loss\\Model-epoch_48--val_loss_0.63\n",
      "INFO:tensorflow:Assets written to: d:\\project\\project/Checkpoints/checkpoints_loss\\Model-epoch_48--val_loss_0.63\\assets\n",
      "\n",
      "Epoch 00048: val_categorical_accuracy improved from 0.82101 to 0.82575, saving model to d:\\project\\project/Checkpoints/checkpoints_acc\\Model-epoch_48--val_categorical_accuracy_0.83\n",
      "INFO:tensorflow:Assets written to: d:\\project\\project/Checkpoints/checkpoints_acc\\Model-epoch_48--val_categorical_accuracy_0.83\\assets\n",
      "Epoch 49/100\n",
      "1196/1196 [==============================] - 47s 39ms/step - loss: 0.3453 - categorical_accuracy: 0.8773 - val_loss: 0.6387 - val_categorical_accuracy: 0.8285\n",
      "\n",
      "Epoch 00049: val_loss did not improve from 0.63317\n",
      "\n",
      "Epoch 00049: val_categorical_accuracy improved from 0.82575 to 0.82854, saving model to d:\\project\\project/Checkpoints/checkpoints_acc\\Model-epoch_49--val_categorical_accuracy_0.83\n",
      "INFO:tensorflow:Assets written to: d:\\project\\project/Checkpoints/checkpoints_acc\\Model-epoch_49--val_categorical_accuracy_0.83\\assets\n",
      "Epoch 50/100\n",
      "1196/1196 [==============================] - 47s 39ms/step - loss: 0.3413 - categorical_accuracy: 0.8784 - val_loss: 0.6357 - val_categorical_accuracy: 0.8301\n",
      "\n",
      "Epoch 00050: val_loss did not improve from 0.63317\n",
      "\n",
      "Epoch 00050: val_categorical_accuracy improved from 0.82854 to 0.83008, saving model to d:\\project\\project/Checkpoints/checkpoints_acc\\Model-epoch_50--val_categorical_accuracy_0.83\n",
      "INFO:tensorflow:Assets written to: d:\\project\\project/Checkpoints/checkpoints_acc\\Model-epoch_50--val_categorical_accuracy_0.83\\assets\n",
      "Epoch 51/100\n",
      "1196/1196 [==============================] - 46s 39ms/step - loss: 0.3283 - categorical_accuracy: 0.8848 - val_loss: 0.6451 - val_categorical_accuracy: 0.8302\n",
      "\n",
      "Epoch 00051: val_loss did not improve from 0.63317\n",
      "\n",
      "Epoch 00051: val_categorical_accuracy improved from 0.83008 to 0.83022, saving model to d:\\project\\project/Checkpoints/checkpoints_acc\\Model-epoch_51--val_categorical_accuracy_0.83\n",
      "INFO:tensorflow:Assets written to: d:\\project\\project/Checkpoints/checkpoints_acc\\Model-epoch_51--val_categorical_accuracy_0.83\\assets\n",
      "Epoch 52/100\n",
      "1196/1196 [==============================] - 47s 39ms/step - loss: 0.3176 - categorical_accuracy: 0.8871 - val_loss: 0.6545 - val_categorical_accuracy: 0.8347\n",
      "\n",
      "Epoch 00052: val_loss did not improve from 0.63317\n",
      "\n",
      "Epoch 00052: val_categorical_accuracy improved from 0.83022 to 0.83468, saving model to d:\\project\\project/Checkpoints/checkpoints_acc\\Model-epoch_52--val_categorical_accuracy_0.83\n",
      "INFO:tensorflow:Assets written to: d:\\project\\project/Checkpoints/checkpoints_acc\\Model-epoch_52--val_categorical_accuracy_0.83\\assets\n",
      "Epoch 53/100\n",
      "1196/1196 [==============================] - 47s 39ms/step - loss: 0.3120 - categorical_accuracy: 0.8907 - val_loss: 0.6366 - val_categorical_accuracy: 0.8354\n",
      "\n",
      "Epoch 00053: val_loss did not improve from 0.63317\n",
      "\n",
      "Epoch 00053: val_categorical_accuracy improved from 0.83468 to 0.83538, saving model to d:\\project\\project/Checkpoints/checkpoints_acc\\Model-epoch_53--val_categorical_accuracy_0.84\n",
      "INFO:tensorflow:Assets written to: d:\\project\\project/Checkpoints/checkpoints_acc\\Model-epoch_53--val_categorical_accuracy_0.84\\assets\n",
      "Epoch 54/100\n",
      "1196/1196 [==============================] - 46s 39ms/step - loss: 0.3068 - categorical_accuracy: 0.8915 - val_loss: 0.6400 - val_categorical_accuracy: 0.8365\n",
      "\n",
      "Epoch 00054: val_loss did not improve from 0.63317\n",
      "\n",
      "Epoch 00054: val_categorical_accuracy improved from 0.83538 to 0.83650, saving model to d:\\project\\project/Checkpoints/checkpoints_acc\\Model-epoch_54--val_categorical_accuracy_0.84\n",
      "INFO:tensorflow:Assets written to: d:\\project\\project/Checkpoints/checkpoints_acc\\Model-epoch_54--val_categorical_accuracy_0.84\\assets\n",
      "Epoch 55/100\n",
      "1196/1196 [==============================] - 46s 39ms/step - loss: 0.3010 - categorical_accuracy: 0.8936 - val_loss: 0.6465 - val_categorical_accuracy: 0.8355\n",
      "\n",
      "Epoch 00055: val_loss did not improve from 0.63317\n",
      "\n",
      "Epoch 00055: val_categorical_accuracy did not improve from 0.83650\n",
      "Epoch 56/100\n",
      "1196/1196 [==============================] - 46s 39ms/step - loss: 0.2922 - categorical_accuracy: 0.8966 - val_loss: 0.6408 - val_categorical_accuracy: 0.8383\n",
      "\n",
      "Epoch 00056: val_loss did not improve from 0.63317\n",
      "\n",
      "Epoch 00056: val_categorical_accuracy improved from 0.83650 to 0.83831, saving model to d:\\project\\project/Checkpoints/checkpoints_acc\\Model-epoch_56--val_categorical_accuracy_0.84\n",
      "INFO:tensorflow:Assets written to: d:\\project\\project/Checkpoints/checkpoints_acc\\Model-epoch_56--val_categorical_accuracy_0.84\\assets\n"
     ]
    }
   ],
   "source": [
    "#%%time\n",
    "emotion_model_info = emotion_model.fit(\n",
    "        train_generator,\n",
    "        steps_per_epoch=train_sample_size // batch_size,\n",
    "        epochs=100,\n",
    "        validation_data=validation_generator,\n",
    "        validation_steps=validation_sample_size // batch_size,\n",
    "        callbacks=callback)"
   ]
  },
  {
   "cell_type": "code",
   "execution_count": 14,
   "metadata": {},
   "outputs": [
    {
     "name": "stdout",
     "output_type": "stream",
     "text": [
      "INFO:tensorflow:Assets written to: d:\\project\\project/Models/adagrad\\assets\n"
     ]
    }
   ],
   "source": [
    "path1 = path+'/Models'\n",
    "emotion_model1=emotion_model\n",
    "emotion_model1.save(path1+'/adagrad')\n",
    "emotion_model.save_weights(path1+f\"/adagram_weights/emotion-reg-weight-{emotion_model_info.history['categorical_accuracy'][-1]}\"+\".h5\")"
   ]
  },
  {
   "cell_type": "code",
   "execution_count": 15,
   "metadata": {},
   "outputs": [
    {
     "name": "stdout",
     "output_type": "stream",
     "text": [
      "dict_keys(['loss', 'categorical_accuracy', 'val_loss', 'val_categorical_accuracy'])\n"
     ]
    },
    {
     "data": {
      "image/png": "[encoded data removed]",
      "text/plain": [
       "<Figure size 432x288 with 1 Axes>"
      ]
     },
     "metadata": {
      "needs_background": "light"
     },
     "output_type": "display_data"
    },
    {
     "data": {
      "image/png": "[encoded data removed]",
      "text/plain": [
       "<Figure size 432x288 with 1 Axes>"
      ]
     },
     "metadata": {
      "needs_background": "light"
     },
     "output_type": "display_data"
    }
   ],
   "source": [
    "# list all data in history\n",
    "print(emotion_model_info.history.keys())\n",
    "# summarize history for accuracy\n",
    "plt.plot(emotion_model_info.history['categorical_accuracy'])\n",
    "plt.plot(emotion_model_info.history['val_categorical_accuracy'])\n",
    "plt.title('Adagrad optimiser - model accuracy')\n",
    "plt.ylabel('accuracy')\n",
    "plt.xlabel('epoch')\n",
    "plt.legend(['train', 'test'], loc='upper left')\n",
    "plt.show()\n",
    "# summarize history for loss\n",
    "plt.plot(emotion_model_info.history['loss'])\n",
    "plt.plot(emotion_model_info.history['val_loss'])\n",
    "plt.title('Adagrad optimiser - model loss')\n",
    "plt.ylabel('loss')\n",
    "plt.xlabel('epoch')\n",
    "plt.legend(['train', 'test'], loc='upper left')\n",
    "plt.show()"
   ]
  },
  {
   "cell_type": "markdown",
   "metadata": {},
   "source": [
    "--------------------------------------------------------------------------------------------------------------------------------------------------"
   ]
  },
  {
   "cell_type": "code",
   "execution_count": 16,
   "metadata": {},
   "outputs": [
    {
     "data": {
      "text/plain": [
       "Reusing TensorBoard on port 6006 (pid 17032), started 10:59:50 ago. (Use '!kill 17032' to kill it.)"
      ]
     },
     "metadata": {},
     "output_type": "display_data"
    },
    {
     "data": {
      "text/html": [
       "\n",
       "      <iframe id=\"tensorboard-frame-acd5d32d480cd38a\" width=\"100%\" height=\"800\" frameborder=\"0\">\n",
       "      </iframe>\n",
       "      <script>\n",
       "        (function() {\n",
       "          const frame = document.getElementById(\"tensorboard-frame-acd5d32d480cd38a\");\n",
       "          const url = new URL(\"http://localhost\");\n",
       "          const port = 6006;\n",
       "          if (port) {\n",
       "            url.port = port;\n",
       "          }\n",
       "          frame.src = url;\n",
       "        })();\n",
       "      </script>\n",
       "    "
      ],
      "text/plain": [
       "<IPython.core.display.HTML object>"
      ]
     },
     "metadata": {},
     "output_type": "display_data"
    }
   ],
   "source": [
    "%load_ext tensorboard\n",
    "%tensorboard --logdir path+'/Tensorboard/'"
   ]
  },
  {
   "cell_type": "markdown",
   "metadata": {},
   "source": [
    "-------------------------------------------------------------------------------------------------------------------------------------------------"
   ]
  },
  {
   "cell_type": "markdown",
   "metadata": {},
   "source": [
    "**Convolution Matrix**"
   ]
  },
  {
   "cell_type": "code",
   "execution_count": 17,
   "metadata": {},
   "outputs": [],
   "source": [
    "from sklearn.metrics import confusion_matrix, classification_report"
   ]
  },
  {
   "cell_type": "code",
   "execution_count": 18,
   "metadata": {},
   "outputs": [
    {
     "name": "stdout",
     "output_type": "stream",
     "text": [
      "['angry', 'disgust', 'fear', 'happy', 'neutral', 'sad', 'surprise']\n"
     ]
    }
   ],
   "source": [
    "target_names = list(emotion_dict.values())\n",
    "print(target_names)"
   ]
  },
  {
   "cell_type": "code",
   "execution_count": 19,
   "metadata": {},
   "outputs": [
    {
     "name": "stdout",
     "output_type": "stream",
     "text": [
      "confusion matrix\n",
      "[[1292 1369 1254 2193 1313 1320 1270]\n",
      " [1285 1338 1278 2070 1362 1336 1341]\n",
      " [1290 1257 1281 2143 1240 1447 1353]\n",
      " [2155 2175 2057 3417 2161 2168 2131]\n",
      " [1314 1334 1242 2187 1328 1339 1293]\n",
      " [1280 1352 1272 2226 1366 1385 1352]\n",
      " [1308 1359 1251 2119 1371 1300 1303]]\n"
     ]
    }
   ],
   "source": [
    "y_pred=emotion_model.predict(train_generator)\n",
    "y_pred=np.argmax(y_pred,axis=1)\n",
    "print('confusion matrix')\n",
    "cm=confusion_matrix(train_generator.classes,y_pred)\n",
    "print(cm)"
   ]
  },
  {
   "cell_type": "code",
   "execution_count": 20,
   "metadata": {},
   "outputs": [
    {
     "name": "stdout",
     "output_type": "stream",
     "text": [
      "confusion matrix\n",
      "[[116  23 120 214 152 200 133]\n",
      " [ 16   3  16  24  19  24   9]\n",
      " [157  22 124 272 162 189  98]\n",
      " [246  50 203 437 292 333 213]\n",
      " [162  26 146 312 177 241 169]\n",
      " [186  33 145 340 186 223 134]\n",
      " [127  22  72 196 140 173 101]]\n"
     ]
    }
   ],
   "source": [
    "y_pred=emotion_model.predict(validation_generator)\n",
    "y_pred=np.argmax(y_pred,axis=1)\n",
    "print('confusion matrix')\n",
    "cm=confusion_matrix(validation_generator.classes,y_pred)\n",
    "print(cm)"
   ]
  },
  {
   "cell_type": "code",
   "execution_count": 21,
   "metadata": {},
   "outputs": [
    {
     "name": "stderr",
     "output_type": "stream",
     "text": [
      "C:\\Users\\logesh\\AppData\\Local\\Temp/ipykernel_3712/2774912854.py:6: UserWarning: FixedFormatter should only be used together with FixedLocator\n",
      "  ax.set_xticklabels([''] + target_names)\n",
      "C:\\Users\\logesh\\AppData\\Local\\Temp/ipykernel_3712/2774912854.py:7: UserWarning: FixedFormatter should only be used together with FixedLocator\n",
      "  ax.set_yticklabels([''] + target_names)\n"
     ]
    },
    {
     "data": {
      "image/png": "[encoded data removed]",
      "text/plain": [
       "<Figure size 432x288 with 2 Axes>"
      ]
     },
     "metadata": {
      "needs_background": "light"
     },
     "output_type": "display_data"
    }
   ],
   "source": [
    "fig=plt.figure()\n",
    "ax=fig.add_subplot(111)\n",
    "cax=ax.matshow(cm)\n",
    "plt.title('confusion matrix of the classifier\\n')\n",
    "fig.colorbar(cax)\n",
    "ax.set_xticklabels([''] + target_names)\n",
    "ax.set_yticklabels([''] + target_names)\n",
    "plt.xlabel('predicted')\n",
    "plt.ylabel('True')\n",
    "plt.show()"
   ]
  },
  {
   "cell_type": "code",
   "execution_count": 22,
   "metadata": {},
   "outputs": [
    {
     "name": "stdout",
     "output_type": "stream",
     "text": [
      "[0 0 0 ... 6 6 6]\n",
      "Confusion Matrix\n",
      "[[126  17 124 253 146 167 125]\n",
      " [ 20   2   8  36  16  15  14]\n",
      " [140  30 118 256 167 198 115]\n",
      " [255  45 190 450 288 340 206]\n",
      " [175  36 137 315 185 238 147]\n",
      " [170  26 146 290 212 244 159]\n",
      " [124  23 103 195 114 181  91]]\n"
     ]
    }
   ],
   "source": [
    "Y_pred = emotion_model.predict(validation_generator, 400 // 4)\n",
    "\n",
    "y_pred = np.argmax(Y_pred, axis=1)\n",
    "print(validation_generator.classes)\n",
    "\n",
    "print('Confusion Matrix')\n",
    "\n",
    "cfm = confusion_matrix(validation_generator.classes, y_pred)\n",
    "\n",
    "print(cfm)"
   ]
  },
  {
   "cell_type": "code",
   "execution_count": 23,
   "metadata": {},
   "outputs": [
    {
     "name": "stdout",
     "output_type": "stream",
     "text": [
      "              precision    recall  f1-score   support\n",
      "\n",
      "           0       0.12      0.13      0.13       958\n",
      "           1       0.01      0.02      0.01       111\n",
      "           2       0.14      0.12      0.13      1024\n",
      "           3       0.25      0.25      0.25      1774\n",
      "           4       0.16      0.15      0.16      1233\n",
      "           5       0.18      0.20      0.19      1247\n",
      "           6       0.11      0.11      0.11       831\n",
      "\n",
      "    accuracy                           0.17      7178\n",
      "   macro avg       0.14      0.14      0.14      7178\n",
      "weighted avg       0.17      0.17      0.17      7178\n",
      "\n"
     ]
    }
   ],
   "source": [
    "print(classification_report(validation_generator.classes,y_pred))"
   ]
  },
  {
   "cell_type": "markdown",
   "metadata": {},
   "source": [
    "--------------------------------------------------------------------------------------------------------------------------------------------"
   ]
  },
  {
   "cell_type": "code",
   "execution_count": 24,
   "metadata": {},
   "outputs": [],
   "source": [
    "# %%javascript\n",
    "# IPython.notebook.save_notebook()"
   ]
  },
  {
   "cell_type": "code",
   "execution_count": 25,
   "metadata": {},
   "outputs": [],
   "source": [
    "# #pip install twilio\n",
    "# from twilio.rest import Client"
   ]
  },
  {
   "cell_type": "code",
   "execution_count": 26,
   "metadata": {},
   "outputs": [],
   "source": [
    "# import json\n",
    " \n",
    "# # Opening JSON file\n",
    "# f = open(path+'/twilo.json')\n",
    " \n",
    "# # returns JSON object as\n",
    "# # a dictionary\n",
    "# data = json.load(f)\n",
    " \n",
    "# # Iterating through the json\n",
    "# # list\n",
    "# print(data)\n",
    " \n",
    "# # Closing file\n",
    "# f.close()"
   ]
  },
  {
   "cell_type": "code",
   "execution_count": 27,
   "metadata": {},
   "outputs": [],
   "source": [
    "# message =f\"Accuracy : {emotion_model_info.history['categorical_accuracy'][-1]} Loss : {emotion_model_info.history['loss'][-1]} val_accuracy : {emotion_model_info.history['val_categorical_accuracy'][-1]} val_loss : {emotion_model_info.history['val_loss'][-1]}\"\n",
    "\n",
    "# # # Your Account Sid and Auth Token from twilio account\n",
    "\n",
    "# # # instantiating the Client\n",
    "# client = Client(data['account_sid'], data['auth_token'])\n",
    "# # # sending message\n",
    "# message = client.messages.create(body=message, from_= '+917305746782', to='+917305746782')\n",
    "# # # printing the sid after success\n",
    "# print(message.sid)"
   ]
  },
  {
   "cell_type": "code",
   "execution_count": 28,
   "metadata": {},
   "outputs": [
    {
     "data": {
      "text/plain": [
       "10011"
      ]
     },
     "execution_count": 28,
     "metadata": {},
     "output_type": "execute_result"
    }
   ],
   "source": [
    "import os\n",
    "len(os.listdir(path+'/dataset/FacialExpression-Dataset/Train/angry'))"
   ]
  },
  {
   "cell_type": "code",
   "execution_count": 29,
   "metadata": {},
   "outputs": [],
   "source": [
    "# #compress tensorboard data and check ponits\n",
    "# checkpoints = shutil.make_archive('Checkpoints', \"zip\", path+'/Checkpoints/zip')\n",
    "# tensorboard = shutil.make_archive('Tensorboard',\"zip\",path+'/Tensorboard/zip')"
   ]
  },
  {
   "cell_type": "code",
   "execution_count": 30,
   "metadata": {},
   "outputs": [],
   "source": [
    "# from google.colab import files\n",
    "# from shutil import  copy2\n",
    "\n",
    "# t = input(\"C to copy to drive , D to download\")\n",
    "# if t == 'c' or t == 'C':\n",
    "#   copy2('/content/Checkpoints.zip','/content/drive/MyDrive/7thSem_project/Checkpoints.zip')\n",
    "#   copy2('/content/Tensorboard.zip','/content/drive/MyDrive/7thSem_project/Tensorboard.zip')\n",
    "# elif t == 'd' or t =='D':\n",
    "\n",
    "#   files.download('/content/Checkpoints.zip')\n",
    "\n",
    "#   files.download('/content/Tensorboard.zip')"
   ]
  },
  {
   "cell_type": "markdown",
   "metadata": {},
   "source": [
    "------------------------------------------------------------------------------------------------------------------------------------------------------"
   ]
  },
  {
   "cell_type": "code",
   "execution_count": 31,
   "metadata": {},
   "outputs": [],
   "source": [
    "# import cv2\n",
    "# import numpy as np"
   ]
  },
  {
   "cell_type": "code",
   "execution_count": 32,
   "metadata": {},
   "outputs": [],
   "source": [
    "# # start the webcam feed\n",
    "# cap = cv2.VideoCapture(0)\n",
    "# while True:\n",
    "#     # Find haar cascade to draw bounding box around face\n",
    "#     ret, frame = cap.read()\n",
    "#     if not ret:\n",
    "#         break\n",
    "#     bounding_box = cv2.CascadeClassifier('C:\\\\Users\\\\logesh\\\\AppData\\\\Local\\\\Programs\\\\Python\\\\Python39\\\\Lib\\\\site-packages\\\\cv2\\\\data\\\\haarcascade_frontalface_default.xml')\n",
    "#     gray_frame = cv2.cvtColor(frame, cv2.COLOR_BGR2GRAY)\n",
    "#     num_faces = bounding_box.detectMultiScale(gray_frame,scaleFactor=1.3, minNeighbors=5)\n",
    "\n",
    "#     for (x, y, w, h) in num_faces:\n",
    "#         cv2.rectangle(frame, (x, y-50), (x+w, y+h+10), (255, 0, 0), 2)\n",
    "#         roi_gray_frame = gray_frame[y:y + h, x:x + w]\n",
    "#         cropped_img = np.expand_dims(np.expand_dims(cv2.resize(roi_gray_frame, (48, 48)), -1), 0)\n",
    "#         emotion_prediction = emotion_model.predict(cropped_img)\n",
    "#         maxindex = int(np.argmax(emotion_prediction))\n",
    "#         cv2.putText(frame, emotion_dict[maxindex], (x+20, y-60), cv2.FONT_HERSHEY_SIMPLEX, 1, (255, 255, 255), 2, cv2.LINE_AA)\n",
    "\n",
    "#     cv2.imshow('Facial Expression', cv2.resize(frame,(1200,860),interpolation = cv2.INTER_CUBIC))    \n",
    "#     if cv2.waitKey(1) & 0xFF == ord('q'):\n",
    "#         break"
   ]
  },
  {
   "cell_type": "code",
   "execution_count": 33,
   "metadata": {},
   "outputs": [],
   "source": [
    "# cap.release()\n",
    "# cv2.destroyAllWindows()"
   ]
  },
  {
   "cell_type": "code",
   "execution_count": 34,
   "metadata": {},
   "outputs": [],
   "source": [
    "stop_cuda()"
   ]
  },
  {
   "cell_type": "code",
   "execution_count": 3,
   "metadata": {},
   "outputs": [
    {
     "ename": "AttributeError",
     "evalue": "'AxesSubplot' object has no attribute 'heapmap'",
     "output_type": "error",
     "traceback": [
      "\u001b[1;31m---------------------------------------------------------------------------\u001b[0m",
      "\u001b[1;31mAttributeError\u001b[0m                            Traceback (most recent call last)",
      "\u001b[1;32m~\\AppData\\Local\\Temp/ipykernel_4348/3081803633.py\u001b[0m in \u001b[0;36m<module>\u001b[1;34m\u001b[0m\n\u001b[0;32m      4\u001b[0m \u001b[0mfig\u001b[0m\u001b[1;33m=\u001b[0m\u001b[0mplt\u001b[0m\u001b[1;33m.\u001b[0m\u001b[0mfigure\u001b[0m\u001b[1;33m(\u001b[0m\u001b[1;33m)\u001b[0m\u001b[1;33m\u001b[0m\u001b[1;33m\u001b[0m\u001b[0m\n\u001b[0;32m      5\u001b[0m \u001b[0max\u001b[0m\u001b[1;33m=\u001b[0m\u001b[0mfig\u001b[0m\u001b[1;33m.\u001b[0m\u001b[0madd_subplot\u001b[0m\u001b[1;33m(\u001b[0m\u001b[1;36m111\u001b[0m\u001b[1;33m)\u001b[0m\u001b[1;33m\u001b[0m\u001b[1;33m\u001b[0m\u001b[0m\n\u001b[1;32m----> 6\u001b[1;33m \u001b[0mcax\u001b[0m\u001b[1;33m=\u001b[0m\u001b[0max\u001b[0m\u001b[1;33m.\u001b[0m\u001b[0mheapmap\u001b[0m\u001b[1;33m(\u001b[0m\u001b[0mcm\u001b[0m\u001b[1;33m)\u001b[0m\u001b[1;33m\u001b[0m\u001b[1;33m\u001b[0m\u001b[0m\n\u001b[0m\u001b[0;32m      7\u001b[0m \u001b[0mplt\u001b[0m\u001b[1;33m.\u001b[0m\u001b[0mtitle\u001b[0m\u001b[1;33m(\u001b[0m\u001b[1;34m'confusion matrix of the classifier\\n'\u001b[0m\u001b[1;33m)\u001b[0m\u001b[1;33m\u001b[0m\u001b[1;33m\u001b[0m\u001b[0m\n\u001b[0;32m      8\u001b[0m \u001b[0mfig\u001b[0m\u001b[1;33m.\u001b[0m\u001b[0mcolorbar\u001b[0m\u001b[1;33m(\u001b[0m\u001b[0mcax\u001b[0m\u001b[1;33m)\u001b[0m\u001b[1;33m\u001b[0m\u001b[1;33m\u001b[0m\u001b[0m\n",
      "\u001b[1;31mAttributeError\u001b[0m: 'AxesSubplot' object has no attribute 'heapmap'"
     ]
    },
    {
     "data": {
      "image/png": "[encoded data removed]",
      "text/plain": [
       "<Figure size 432x288 with 1 Axes>"
      ]
     },
     "metadata": {
      "needs_background": "light"
     },
     "output_type": "display_data"
    }
   ],
   "source": [
    "import matplotlib.pyplot as plt\n",
    "import seaborn as sns\n",
    "\n",
    "cm = [ [116,  23, 120, 214, 152, 200, 133], [ 16,   3,  16,  24,  19,  24,   9], [157,  22, 124, 272, 162, 189,  98], [246,  50, 203, 437, 292, 333, 213], [162,  26, 146, 312, 177, 241, 169], [186,  33, 145, 340, 186, 223, 134], [127,  22,  72, 196, 140, 173, 101]]\n",
    "target_names = ['angry', 'disgust', 'fear', 'happy', 'neutral', 'sad', 'surprise']\n",
    "fig=plt.figure()\n",
    "ax=sns.subplot(111)\n",
    "cax=ax.heapmap(cm)\n",
    "plt.title('confusion matrix of the classifier\\n')\n",
    "fig.colorbar(cax)\n",
    "ax.set_xticklabels([''] + target_names)\n",
    "ax.set_yticklabels([''] + target_names)\n",
    "plt.xlabel('predicted')\n",
    "plt.ylabel('True')\n",
    "plt.show()"
   ]
  },
  {
   "cell_type": "code",
   "execution_count": 6,
   "id": "74604a67",
   "metadata": {},
   "outputs": [],
   "source": [
    "# import seaborn\n",
    "# import matplotlib.pyplot as plt\n",
    " \n",
    " \n",
    "# def plot_confusion_matrix(data, labels, output_filename):\n",
    "#     \"\"\"Plot confusion matrix using heatmap.\n",
    " \n",
    "#     Args:\n",
    "#         data (list of list): List of lists with confusion matrix data.\n",
    "#         labels (list): Labels which will be plotted across x and y axis.\n",
    "#         output_filename (str): Path to output file.\n",
    " \n",
    "#     \"\"\"\n",
    "#     seaborn.set(color_codes=True)\n",
    "#     plt.figure(1, figsize=(16, 10))\n",
    " \n",
    "#     plt.title(\"Confusion Matrix\")\n",
    " \n",
    "#     seaborn.set(font_scale=1.4)\n",
    "#     ax = seaborn.heatmap(data, fmt='g', annot=True, cmap=\"YlGnBu\", cbar_kws={'label': 'Scale'})\n",
    " \n",
    "#     ax.set_xticklabels(labels)\n",
    "#     ax.set_yticklabels(labels)\n",
    " \n",
    "#     ax.set(ylabel=\"True Label\", xlabel=\"Predicted Label\")\n",
    "#     # plt.show()\n",
    "#     plt.savefig(output_filename, bbox_inches='tight', dpi=300)\n",
    "#     plt.close()\n",
    "\n",
    "\n",
    "# cm = [[126,  17, 124, 253, 146, 167, 125],\n",
    "#  [ 20,   2,   8,  36,  16,  15,  14],\n",
    "#  [140,  30, 118, 256, 167, 198, 115],\n",
    "#  [255,  45, 190, 450, 288, 340, 206],\n",
    "#  [175,  36, 137, 315, 185, 238, 147],\n",
    "#  [170,  26, 146, 290, 212, 244, 159],\n",
    "#  [124,  23, 103, 195, 114, 181,  91]]\n",
    "# target_names = ['angry', 'disgust', 'fear', 'happy', 'neutral', 'sad', 'surprise']\n",
    " "
   ]
  },
  {
   "cell_type": "code",
   "execution_count": 7,
   "id": "b6b4d95d",
   "metadata": {},
   "outputs": [],
   "source": [
    "# plot_confusion_matrix(cm, target_names, \"adagrad_confusion_matrix.png\")"
   ]
  },
  {
   "cell_type": "code",
   "execution_count": 5,
   "id": "98a63e1b",
   "metadata": {},
   "outputs": [
    {
     "name": "stdout",
     "output_type": "stream",
     "text": [
      "[[126, 17, 124, 253, 146, 167, 125], [20, 2, 8, 36, 16, 15, 14], [140, 30, 118, 256, 167, 198, 115], [255, 45, 190, 450, 288, 340, 206], [175, 36, 137, 315, 185, 238, 147], [170, 26, 146, 290, 212, 244, 159], [124, 23, 103, 195, 114, 181, 91]]\n"
     ]
    }
   ],
   "source": [
    "# print(cm)"
   ]
  }
 ],
 "metadata": {
  "interpreter": {
   "hash": "830f0125b009c1ba3feaab44ce764bea97d81b327b5bd7e84564a80c83019ea2"
  },
  "kernelspec": {
   "display_name": "Python 3.9.0 64-bit",
   "language": "python",
   "name": "python3"
  },
  "language_info": {
   "codemirror_mode": {
    "name": "ipython",
    "version": 3
   },
   "file_extension": ".py",
   "mimetype": "text/x-python",
   "name": "python",
   "nbconvert_exporter": "python",
   "pygments_lexer": "ipython3",
   "version": "3.9.0"
  }
 },
 "nbformat": 4,
 "nbformat_minor": 5
}
